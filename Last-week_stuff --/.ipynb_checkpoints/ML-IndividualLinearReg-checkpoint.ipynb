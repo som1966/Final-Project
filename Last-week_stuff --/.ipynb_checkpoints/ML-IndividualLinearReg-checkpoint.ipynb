{
 "cells": [
  {
   "cell_type": "code",
   "execution_count": 1,
   "id": "81a9477d",
   "metadata": {},
   "outputs": [],
   "source": [
    "import warnings\n",
    "warnings.filterwarnings('ignore')\n",
    "import numpy as np\n",
    "import pandas as pd\n",
    "from pathlib import Path\n",
    "from collections import Counter\n"
   ]
  },
  {
   "cell_type": "code",
   "execution_count": 2,
   "id": "5f1ff633",
   "metadata": {},
   "outputs": [
    {
     "data": {
      "text/html": [
       "<div>\n",
       "<style scoped>\n",
       "    .dataframe tbody tr th:only-of-type {\n",
       "        vertical-align: middle;\n",
       "    }\n",
       "\n",
       "    .dataframe tbody tr th {\n",
       "        vertical-align: top;\n",
       "    }\n",
       "\n",
       "    .dataframe thead th {\n",
       "        text-align: right;\n",
       "    }\n",
       "</style>\n",
       "<table border=\"1\" class=\"dataframe\">\n",
       "  <thead>\n",
       "    <tr style=\"text-align: right;\">\n",
       "      <th></th>\n",
       "      <th>country_code</th>\n",
       "      <th>country_name</th>\n",
       "      <th>life_ladder</th>\n",
       "      <th>democracy_index</th>\n",
       "      <th>consumer_price_index</th>\n",
       "      <th>gender_ratio_males_per100_female</th>\n",
       "      <th>infant_mortality_per1000_births</th>\n",
       "      <th>life_expectancy</th>\n",
       "      <th>per_capita_gdp_dollars</th>\n",
       "      <th>population_density</th>\n",
       "      <th>safe_drinking_water_access_pct</th>\n",
       "      <th>seats_held_by_women_pct</th>\n",
       "      <th>unemployment_rate</th>\n",
       "    </tr>\n",
       "  </thead>\n",
       "  <tbody>\n",
       "    <tr>\n",
       "      <th>0</th>\n",
       "      <td>8</td>\n",
       "      <td>Albania</td>\n",
       "      <td>4.995</td>\n",
       "      <td>58.9</td>\n",
       "      <td>119.1</td>\n",
       "      <td>103.7</td>\n",
       "      <td>8.0</td>\n",
       "      <td>78.4</td>\n",
       "      <td>5303</td>\n",
       "      <td>105.1</td>\n",
       "      <td>70.7</td>\n",
       "      <td>29.3</td>\n",
       "      <td>12.8</td>\n",
       "    </tr>\n",
       "    <tr>\n",
       "      <th>1</th>\n",
       "      <td>12</td>\n",
       "      <td>Algeria</td>\n",
       "      <td>4.745</td>\n",
       "      <td>40.1</td>\n",
       "      <td>151.4</td>\n",
       "      <td>102.1</td>\n",
       "      <td>21.2</td>\n",
       "      <td>76.6</td>\n",
       "      <td>3976</td>\n",
       "      <td>18.1</td>\n",
       "      <td>72.4</td>\n",
       "      <td>25.8</td>\n",
       "      <td>11.5</td>\n",
       "    </tr>\n",
       "    <tr>\n",
       "      <th>2</th>\n",
       "      <td>51</td>\n",
       "      <td>Armenia</td>\n",
       "      <td>5.488</td>\n",
       "      <td>55.4</td>\n",
       "      <td>129.2</td>\n",
       "      <td>88.8</td>\n",
       "      <td>10.8</td>\n",
       "      <td>74.9</td>\n",
       "      <td>4623</td>\n",
       "      <td>103.9</td>\n",
       "      <td>86.9</td>\n",
       "      <td>24.2</td>\n",
       "      <td>16.6</td>\n",
       "    </tr>\n",
       "    <tr>\n",
       "      <th>3</th>\n",
       "      <td>40</td>\n",
       "      <td>Austria</td>\n",
       "      <td>7.195</td>\n",
       "      <td>82.9</td>\n",
       "      <td>118.1</td>\n",
       "      <td>97.0</td>\n",
       "      <td>3.2</td>\n",
       "      <td>81.4</td>\n",
       "      <td>49701</td>\n",
       "      <td>108.7</td>\n",
       "      <td>98.9</td>\n",
       "      <td>37.2</td>\n",
       "      <td>4.8</td>\n",
       "    </tr>\n",
       "    <tr>\n",
       "      <th>4</th>\n",
       "      <td>31</td>\n",
       "      <td>Azerbaijan</td>\n",
       "      <td>5.173</td>\n",
       "      <td>27.5</td>\n",
       "      <td>156.9</td>\n",
       "      <td>99.7</td>\n",
       "      <td>20.8</td>\n",
       "      <td>72.8</td>\n",
       "      <td>4782</td>\n",
       "      <td>121.6</td>\n",
       "      <td>88.3</td>\n",
       "      <td>16.8</td>\n",
       "      <td>6.0</td>\n",
       "    </tr>\n",
       "  </tbody>\n",
       "</table>\n",
       "</div>"
      ],
      "text/plain": [
       "   country_code country_name  life_ladder  democracy_index  \\\n",
       "0             8      Albania        4.995             58.9   \n",
       "1            12      Algeria        4.745             40.1   \n",
       "2            51      Armenia        5.488             55.4   \n",
       "3            40      Austria        7.195             82.9   \n",
       "4            31   Azerbaijan        5.173             27.5   \n",
       "\n",
       "   consumer_price_index  gender_ratio_males_per100_female  \\\n",
       "0                 119.1                             103.7   \n",
       "1                 151.4                             102.1   \n",
       "2                 129.2                              88.8   \n",
       "3                 118.1                              97.0   \n",
       "4                 156.9                              99.7   \n",
       "\n",
       "   infant_mortality_per1000_births  life_expectancy  per_capita_gdp_dollars  \\\n",
       "0                              8.0             78.4                    5303   \n",
       "1                             21.2             76.6                    3976   \n",
       "2                             10.8             74.9                    4623   \n",
       "3                              3.2             81.4                   49701   \n",
       "4                             20.8             72.8                    4782   \n",
       "\n",
       "   population_density  safe_drinking_water_access_pct  \\\n",
       "0               105.1                            70.7   \n",
       "1                18.1                            72.4   \n",
       "2               103.9                            86.9   \n",
       "3               108.7                            98.9   \n",
       "4               121.6                            88.3   \n",
       "\n",
       "   seats_held_by_women_pct  unemployment_rate  \n",
       "0                     29.3               12.8  \n",
       "1                     25.8               11.5  \n",
       "2                     24.2               16.6  \n",
       "3                     37.2                4.8  \n",
       "4                     16.8                6.0  "
      ]
     },
     "execution_count": 2,
     "metadata": {},
     "output_type": "execute_result"
    }
   ],
   "source": [
    "# Load the data\n",
    "file_path = Path('happiness_joined.csv')\n",
    "happiness_joined_df = pd.read_csv(file_path,encoding=\"ISO-8859-1\")#,index_col=0)\n",
    "# happiness_joined_df = df.loc[:, columns].copy()\n",
    "\n",
    "# df.reset_index(inplace=True, drop=True)\n",
    "\n",
    "happiness_joined_df.head()\n"
   ]
  },
  {
   "cell_type": "code",
   "execution_count": 3,
   "id": "fe052a8f",
   "metadata": {},
   "outputs": [
    {
     "data": {
      "text/html": [
       "<div>\n",
       "<style scoped>\n",
       "    .dataframe tbody tr th:only-of-type {\n",
       "        vertical-align: middle;\n",
       "    }\n",
       "\n",
       "    .dataframe tbody tr th {\n",
       "        vertical-align: top;\n",
       "    }\n",
       "\n",
       "    .dataframe thead th {\n",
       "        text-align: right;\n",
       "    }\n",
       "</style>\n",
       "<table border=\"1\" class=\"dataframe\">\n",
       "  <thead>\n",
       "    <tr style=\"text-align: right;\">\n",
       "      <th></th>\n",
       "      <th>country_code</th>\n",
       "      <th>country_name</th>\n",
       "      <th>life_ladder</th>\n",
       "      <th>democracy_index</th>\n",
       "      <th>consumer_price_index</th>\n",
       "      <th>gender_ratio_males_per100_female</th>\n",
       "      <th>infant_mortality_per1000_births</th>\n",
       "      <th>life_expectancy</th>\n",
       "      <th>per_capita_gdp_dollars</th>\n",
       "      <th>population_density</th>\n",
       "      <th>safe_drinking_water_access_pct</th>\n",
       "      <th>seats_held_by_women_pct</th>\n",
       "      <th>unemployment_rate</th>\n",
       "    </tr>\n",
       "  </thead>\n",
       "  <tbody>\n",
       "    <tr>\n",
       "      <th>0</th>\n",
       "      <td>8.0</td>\n",
       "      <td>Albania</td>\n",
       "      <td>4.995</td>\n",
       "      <td>58.9</td>\n",
       "      <td>119.1</td>\n",
       "      <td>103.7</td>\n",
       "      <td>8.0</td>\n",
       "      <td>78.4</td>\n",
       "      <td>5303.0</td>\n",
       "      <td>105.1</td>\n",
       "      <td>70.7</td>\n",
       "      <td>29.3</td>\n",
       "      <td>12.8</td>\n",
       "    </tr>\n",
       "    <tr>\n",
       "      <th>1</th>\n",
       "      <td>12.0</td>\n",
       "      <td>Algeria</td>\n",
       "      <td>4.745</td>\n",
       "      <td>40.1</td>\n",
       "      <td>151.4</td>\n",
       "      <td>102.1</td>\n",
       "      <td>21.2</td>\n",
       "      <td>76.6</td>\n",
       "      <td>3976.0</td>\n",
       "      <td>18.1</td>\n",
       "      <td>72.4</td>\n",
       "      <td>25.8</td>\n",
       "      <td>11.5</td>\n",
       "    </tr>\n",
       "    <tr>\n",
       "      <th>2</th>\n",
       "      <td>51.0</td>\n",
       "      <td>Armenia</td>\n",
       "      <td>5.488</td>\n",
       "      <td>55.4</td>\n",
       "      <td>129.2</td>\n",
       "      <td>88.8</td>\n",
       "      <td>10.8</td>\n",
       "      <td>74.9</td>\n",
       "      <td>4623.0</td>\n",
       "      <td>103.9</td>\n",
       "      <td>86.9</td>\n",
       "      <td>24.2</td>\n",
       "      <td>16.6</td>\n",
       "    </tr>\n",
       "    <tr>\n",
       "      <th>3</th>\n",
       "      <td>40.0</td>\n",
       "      <td>Austria</td>\n",
       "      <td>7.195</td>\n",
       "      <td>82.9</td>\n",
       "      <td>118.1</td>\n",
       "      <td>97.0</td>\n",
       "      <td>3.2</td>\n",
       "      <td>81.4</td>\n",
       "      <td>49701.0</td>\n",
       "      <td>108.7</td>\n",
       "      <td>98.9</td>\n",
       "      <td>37.2</td>\n",
       "      <td>4.8</td>\n",
       "    </tr>\n",
       "    <tr>\n",
       "      <th>4</th>\n",
       "      <td>31.0</td>\n",
       "      <td>Azerbaijan</td>\n",
       "      <td>5.173</td>\n",
       "      <td>27.5</td>\n",
       "      <td>156.9</td>\n",
       "      <td>99.7</td>\n",
       "      <td>20.8</td>\n",
       "      <td>72.8</td>\n",
       "      <td>4782.0</td>\n",
       "      <td>121.6</td>\n",
       "      <td>88.3</td>\n",
       "      <td>16.8</td>\n",
       "      <td>6.0</td>\n",
       "    </tr>\n",
       "  </tbody>\n",
       "</table>\n",
       "</div>"
      ],
      "text/plain": [
       "   country_code country_name  life_ladder  democracy_index  \\\n",
       "0           8.0      Albania        4.995             58.9   \n",
       "1          12.0      Algeria        4.745             40.1   \n",
       "2          51.0      Armenia        5.488             55.4   \n",
       "3          40.0      Austria        7.195             82.9   \n",
       "4          31.0   Azerbaijan        5.173             27.5   \n",
       "\n",
       "   consumer_price_index  gender_ratio_males_per100_female  \\\n",
       "0                 119.1                             103.7   \n",
       "1                 151.4                             102.1   \n",
       "2                 129.2                              88.8   \n",
       "3                 118.1                              97.0   \n",
       "4                 156.9                              99.7   \n",
       "\n",
       "   infant_mortality_per1000_births  life_expectancy  per_capita_gdp_dollars  \\\n",
       "0                              8.0             78.4                  5303.0   \n",
       "1                             21.2             76.6                  3976.0   \n",
       "2                             10.8             74.9                  4623.0   \n",
       "3                              3.2             81.4                 49701.0   \n",
       "4                             20.8             72.8                  4782.0   \n",
       "\n",
       "   population_density  safe_drinking_water_access_pct  \\\n",
       "0               105.1                            70.7   \n",
       "1                18.1                            72.4   \n",
       "2               103.9                            86.9   \n",
       "3               108.7                            98.9   \n",
       "4               121.6                            88.3   \n",
       "\n",
       "   seats_held_by_women_pct  unemployment_rate  \n",
       "0                     29.3               12.8  \n",
       "1                     25.8               11.5  \n",
       "2                     24.2               16.6  \n",
       "3                     37.2                4.8  \n",
       "4                     16.8                6.0  "
      ]
     },
     "execution_count": 3,
     "metadata": {},
     "output_type": "execute_result"
    }
   ],
   "source": [
    "happiness_joined_df[['country_code','democracy_index','consumer_price_index','gender_ratio_males_per100_female','infant_mortality_per1000_births','life_expectancy','per_capita_gdp_dollars','population_density','safe_drinking_water_access_pct','seats_held_by_women_pct','unemployment_rate']] = happiness_joined_df[['country_code','democracy_index','consumer_price_index','gender_ratio_males_per100_female','infant_mortality_per1000_births','life_expectancy','per_capita_gdp_dollars','population_density','safe_drinking_water_access_pct','seats_held_by_women_pct','unemployment_rate']].replace({'\\$': '', ',': ''}, regex=True).astype(float)\n",
    "#\n",
    "happiness_joined_df.head()\n",
    "# # REF: https://pbpython.com/currency-cleanup.html"
   ]
  },
  {
   "cell_type": "code",
   "execution_count": 4,
   "id": "c0ea1761",
   "metadata": {},
   "outputs": [
    {
     "data": {
      "text/plain": [
       "country_code                        float64\n",
       "country_name                         object\n",
       "life_ladder                         float64\n",
       "democracy_index                     float64\n",
       "consumer_price_index                float64\n",
       "gender_ratio_males_per100_female    float64\n",
       "infant_mortality_per1000_births     float64\n",
       "life_expectancy                     float64\n",
       "per_capita_gdp_dollars              float64\n",
       "population_density                  float64\n",
       "safe_drinking_water_access_pct      float64\n",
       "seats_held_by_women_pct             float64\n",
       "unemployment_rate                   float64\n",
       "dtype: object"
      ]
     },
     "execution_count": 4,
     "metadata": {},
     "output_type": "execute_result"
    }
   ],
   "source": [
    "# data types\n",
    "happiness_joined_df.dtypes"
   ]
  },
  {
   "cell_type": "code",
   "execution_count": 5,
   "id": "6b6d1419",
   "metadata": {},
   "outputs": [
    {
     "name": "stdout",
     "output_type": "stream",
     "text": [
      "Columncountry_code has 0 null values\n",
      "Columncountry_name has 0 null values\n",
      "Columnlife_ladder has 0 null values\n",
      "Columndemocracy_index has 0 null values\n",
      "Columnconsumer_price_index has 0 null values\n",
      "Columngender_ratio_males_per100_female has 0 null values\n",
      "Columninfant_mortality_per1000_births has 0 null values\n",
      "Columnlife_expectancy has 0 null values\n",
      "Columnper_capita_gdp_dollars has 0 null values\n",
      "Columnpopulation_density has 0 null values\n",
      "Columnsafe_drinking_water_access_pct has 0 null values\n",
      "Columnseats_held_by_women_pct has 0 null values\n",
      "Columnunemployment_rate has 0 null values\n"
     ]
    }
   ],
   "source": [
    "# What data is missing?\n",
    "# find null values\n",
    "for column in happiness_joined_df.columns:\n",
    "    print(f\"Column{column} has {happiness_joined_df[column].isnull().sum()} null values\")"
   ]
  },
  {
   "cell_type": "code",
   "execution_count": 6,
   "id": "0806f12d",
   "metadata": {},
   "outputs": [
    {
     "name": "stdout",
     "output_type": "stream",
     "text": [
      "Duplicate entries: 0\n"
     ]
    }
   ],
   "source": [
    "# to check for duplicates\n",
    "print(f\"Duplicate entries: {happiness_joined_df.duplicated().sum()}\")"
   ]
  },
  {
   "cell_type": "markdown",
   "id": "738ddf4d",
   "metadata": {},
   "source": [
    "## Splitting the Dataset into the Independent Feature Matrix:"
   ]
  },
  {
   "cell_type": "code",
   "execution_count": 7,
   "id": "9b52882a",
   "metadata": {
    "scrolled": true
   },
   "outputs": [
    {
     "data": {
      "text/plain": [
       "['country_code',\n",
       " 'country_name',\n",
       " 'life_ladder',\n",
       " 'democracy_index',\n",
       " 'consumer_price_index',\n",
       " 'gender_ratio_males_per100_female',\n",
       " 'infant_mortality_per1000_births',\n",
       " 'life_expectancy',\n",
       " 'per_capita_gdp_dollars',\n",
       " 'population_density',\n",
       " 'safe_drinking_water_access_pct',\n",
       " 'seats_held_by_women_pct',\n",
       " 'unemployment_rate']"
      ]
     },
     "execution_count": 7,
     "metadata": {},
     "output_type": "execute_result"
    }
   ],
   "source": [
    "happiness_joined_df.columns.values.tolist()"
   ]
  },
  {
   "cell_type": "code",
   "execution_count": 8,
   "id": "5cef6e64",
   "metadata": {},
   "outputs": [
    {
     "name": "stdout",
     "output_type": "stream",
     "text": [
      "(91, 13)\n"
     ]
    }
   ],
   "source": [
    "print(happiness_joined_df.shape)"
   ]
  },
  {
   "cell_type": "markdown",
   "id": "bbca7f50",
   "metadata": {},
   "source": [
    "## (1) Modeling--- linear regression  [X = democracy_index ; y = life_ladder]"
   ]
  },
  {
   "cell_type": "code",
   "execution_count": 9,
   "id": "409e71db",
   "metadata": {},
   "outputs": [],
   "source": [
    "X = happiness_joined_df[['democracy_index']]\n",
    "y = happiness_joined_df[\"life_ladder\"]"
   ]
  },
  {
   "cell_type": "markdown",
   "id": "6a9ce94b",
   "metadata": {},
   "source": [
    "Splitting the Dataset into the Independent Feature Matrix:\n"
   ]
  },
  {
   "cell_type": "code",
   "execution_count": 10,
   "id": "e48916ed",
   "metadata": {},
   "outputs": [],
   "source": [
    "\n",
    "# Normal train-test split\n",
    "from sklearn.model_selection import train_test_split\n",
    "X_train, X_test, y_train, y_test = train_test_split(X, y, random_state=1)\n",
    "from sklearn import linear_model\n",
    "# instantiate model\n",
    "model = linear_model.LinearRegression()\n",
    "# fit model\n",
    "model.fit(X, y)\n",
    "\n",
    "# fit\n",
    "model.fit(X_train, y_train)\n",
    "# predict\n",
    "y_pred = model.predict(X_test)"
   ]
  },
  {
   "cell_type": "code",
   "execution_count": 11,
   "id": "4dab950a",
   "metadata": {},
   "outputs": [
    {
     "name": "stdout",
     "output_type": "stream",
     "text": [
      "(68, 1)\n",
      "(23, 1)\n",
      "(68,)\n",
      "(23,)\n"
     ]
    }
   ],
   "source": [
    "print(X_train.shape)\n",
    "print(X_test.shape)\n",
    "print(y_train.shape)\n",
    "print(y_test.shape)"
   ]
  },
  {
   "cell_type": "code",
   "execution_count": 12,
   "id": "2f43d1b6",
   "metadata": {},
   "outputs": [],
   "source": [
    "from sklearn.preprocessing import StandardScaler\n",
    "# 3) Creating a StandardScaler instance.\n",
    "scaler = StandardScaler()\n",
    "# Fitting the Standard Scaler with the training data.\n",
    "X_scaler = scaler.fit(X_train)\n",
    "\n",
    "# 4) Scaling the data.\n",
    "X_train_scaled = X_scaler.transform(X_train)\n",
    "X_test_scaled = X_scaler.transform(X_test)"
   ]
  },
  {
   "cell_type": "code",
   "execution_count": 13,
   "id": "697734bc",
   "metadata": {},
   "outputs": [
    {
     "name": "stdout",
     "output_type": "stream",
     "text": [
      "4.195989960715665e-16\n",
      "-0.3231427339702866\n",
      "1.0\n",
      "0.9622616262978819\n"
     ]
    }
   ],
   "source": [
    "print(np.mean(X_train_scaled[:,0]))\n",
    "print(np.mean(X_test_scaled[:,0]))\n",
    "print(np.std(X_train_scaled[:,0]))\n",
    "print(np.std(X_test_scaled[:,0]))"
   ]
  },
  {
   "cell_type": "code",
   "execution_count": 14,
   "id": "92a3aef7",
   "metadata": {},
   "outputs": [
    {
     "name": "stdout",
     "output_type": "stream",
     "text": [
      "-0.1194922101906688\n"
     ]
    }
   ],
   "source": [
    "# model evaluation\n",
    "from sklearn.metrics import r2_score\n",
    "democracy_index_score = r2_score(y_test, y_pred)\n",
    "print(democracy_index_score)\n",
    "# this is R^2 value!!!!"
   ]
  },
  {
   "cell_type": "code",
   "execution_count": 15,
   "id": "d3adc75a",
   "metadata": {},
   "outputs": [
    {
     "data": {
      "text/html": [
       "<div>\n",
       "<style scoped>\n",
       "    .dataframe tbody tr th:only-of-type {\n",
       "        vertical-align: middle;\n",
       "    }\n",
       "\n",
       "    .dataframe tbody tr th {\n",
       "        vertical-align: top;\n",
       "    }\n",
       "\n",
       "    .dataframe thead th {\n",
       "        text-align: right;\n",
       "    }\n",
       "</style>\n",
       "<table border=\"1\" class=\"dataframe\">\n",
       "  <thead>\n",
       "    <tr style=\"text-align: right;\">\n",
       "      <th></th>\n",
       "      <th>Prediction</th>\n",
       "      <th>Actual</th>\n",
       "    </tr>\n",
       "  </thead>\n",
       "  <tbody>\n",
       "    <tr>\n",
       "      <th>0</th>\n",
       "      <td>6.940527</td>\n",
       "      <td>7.425</td>\n",
       "    </tr>\n",
       "    <tr>\n",
       "      <th>1</th>\n",
       "      <td>6.755530</td>\n",
       "      <td>7.157</td>\n",
       "    </tr>\n",
       "    <tr>\n",
       "      <th>2</th>\n",
       "      <td>4.346800</td>\n",
       "      <td>5.197</td>\n",
       "    </tr>\n",
       "    <tr>\n",
       "      <th>3</th>\n",
       "      <td>5.464330</td>\n",
       "      <td>5.057</td>\n",
       "    </tr>\n",
       "    <tr>\n",
       "      <th>4</th>\n",
       "      <td>4.713017</td>\n",
       "      <td>5.441</td>\n",
       "    </tr>\n",
       "  </tbody>\n",
       "</table>\n",
       "</div>"
      ],
      "text/plain": [
       "   Prediction  Actual\n",
       "0    6.940527   7.425\n",
       "1    6.755530   7.157\n",
       "2    4.346800   5.197\n",
       "3    5.464330   5.057\n",
       "4    4.713017   5.441"
      ]
     },
     "execution_count": 15,
     "metadata": {},
     "output_type": "execute_result"
    }
   ],
   "source": [
    "# Make predictions using the test data\n",
    "y_pred = model.predict(X_test)\n",
    "results = pd.DataFrame({\n",
    "    \"Prediction\": y_pred, \n",
    "    \"Actual\": y_test\n",
    "}).reset_index(drop=True)\n",
    "results.head()"
   ]
  },
  {
   "cell_type": "code",
   "execution_count": 19,
   "id": "d913f0ba",
   "metadata": {},
   "outputs": [
    {
     "data": {
      "image/png": "[encoded data removed]",
      "text/plain": [
       "<Figure size 432x288 with 1 Axes>"
      ]
     },
     "metadata": {
      "needs_background": "light"
     },
     "output_type": "display_data"
    }
   ],
   "source": [
    "import matplotlib.pyplot as plt\n",
    "happiness_joined_df.democracy_index,happiness_joined_df.life_ladder\n",
    "plt.scatter(X, y)\n",
    "plt.xlabel('democracy_index')\n",
    "plt.ylabel('life_ladder')\n",
    "plt.show()\n"
   ]
  },
  {
   "cell_type": "markdown",
   "id": "8ba03ce8",
   "metadata": {},
   "source": [
    "## (2) Modeling--- linear regression  [X = consumer_price_index ; y = life_ladder]"
   ]
  },
  {
   "cell_type": "code",
   "execution_count": null,
   "id": "73eb44d0",
   "metadata": {},
   "outputs": [],
   "source": [
    "X = happiness_joined_df[['consumer_price_index']]\n",
    "y = happiness_joined_df[\"life_ladder\"]\n",
    "# Normal train-test split\n",
    "from sklearn.model_selection import train_test_split\n",
    "X_train, X_test, y_train, y_test = train_test_split(X, y, random_state=1)\n",
    "from sklearn import linear_model\n",
    "# instantiate model\n",
    "model = linear_model.LinearRegression()\n",
    "# fit model\n",
    "model.fit(X, y)\n",
    "\n",
    "# fit\n",
    "model.fit(X_train, y_train)\n",
    "# predict\n",
    "y_pred = model.predict(X_test)"
   ]
  },
  {
   "cell_type": "code",
   "execution_count": null,
   "id": "d06be1f7",
   "metadata": {},
   "outputs": [],
   "source": [
    "print(X_train.shape)\n",
    "print(X_test.shape)\n",
    "print(y_train.shape)\n",
    "print(y_test.shape)\n",
    "from sklearn.preprocessing import StandardScaler\n",
    "# 3) Creating a StandardScaler instance.\n",
    "scaler = StandardScaler()\n",
    "# Fitting the Standard Scaler with the training data.\n",
    "X_scaler = scaler.fit(X_train)\n",
    "\n",
    "# 4) Scaling the data.\n",
    "X_train_scaled = X_scaler.transform(X_train)\n",
    "X_test_scaled = X_scaler.transform(X_test)"
   ]
  },
  {
   "cell_type": "code",
   "execution_count": null,
   "id": "3bd7ca0b",
   "metadata": {},
   "outputs": [],
   "source": [
    "print(np.mean(X_train_scaled[:,0]))\n",
    "print(np.mean(X_test_scaled[:,0]))\n",
    "print(np.std(X_train_scaled[:,0]))\n",
    "print(np.std(X_test_scaled[:,0]))\n"
   ]
  },
  {
   "cell_type": "code",
   "execution_count": null,
   "id": "793c8ba5",
   "metadata": {},
   "outputs": [],
   "source": [
    "# model evaluation\n",
    "from sklearn.metrics import r2_score\n",
    "consumer_price_index_score = r2_score(y_test, y_pred)\n",
    "print(consumer_price_index_score)\n",
    "# this is R^2 value!!!!"
   ]
  },
  {
   "cell_type": "code",
   "execution_count": null,
   "id": "8590235b",
   "metadata": {},
   "outputs": [],
   "source": [
    "# Make predictions using the test data\n",
    "y_pred = model.predict(X_test)\n",
    "results = pd.DataFrame({\n",
    "    \"Prediction\": y_pred, \n",
    "    \"Actual\": y_test\n",
    "}).reset_index(drop=True)\n",
    "results.head()"
   ]
  },
  {
   "cell_type": "code",
   "execution_count": null,
   "id": "012501c4",
   "metadata": {},
   "outputs": [],
   "source": [
    "\n",
    "plt.scatter(happiness_joined_df.consumer_price_index,happiness_joined_df.life_ladder)\n",
    "plt.xlabel('consumer_price_index')\n",
    "plt.ylabel('life_ladder')\n",
    "plt.show()"
   ]
  },
  {
   "cell_type": "markdown",
   "id": "73a3f555",
   "metadata": {},
   "source": [
    "## (3) Modeling--- linear regression  [X = gender_ratio_males_per100_female ; y = life_ladder]"
   ]
  },
  {
   "cell_type": "code",
   "execution_count": null,
   "id": "5120a24b",
   "metadata": {},
   "outputs": [],
   "source": [
    "X = happiness_joined_df[['gender_ratio_males_per100_female']]\n",
    "y = happiness_joined_df[\"life_ladder\"]\n",
    "# Normal train-test split\n",
    "from sklearn.model_selection import train_test_split\n",
    "X_train, X_test, y_train, y_test = train_test_split(X, y, random_state=1)\n",
    "from sklearn import linear_model\n",
    "# instantiate model\n",
    "model = linear_model.LinearRegression()\n",
    "# fit model\n",
    "model.fit(X, y)\n",
    "\n",
    "# fit\n",
    "model.fit(X_train, y_train)\n",
    "# predict\n",
    "y_pred = model.predict(X_test)"
   ]
  },
  {
   "cell_type": "code",
   "execution_count": null,
   "id": "cbae1fd5",
   "metadata": {},
   "outputs": [],
   "source": [
    "print(X_train.shape)\n",
    "print(X_test.shape)\n",
    "print(y_train.shape)\n",
    "print(y_test.shape)\n",
    "from sklearn.preprocessing import StandardScaler\n",
    "# 3) Creating a StandardScaler instance.\n",
    "scaler = StandardScaler()\n",
    "# Fitting the Standard Scaler with the training data.\n",
    "X_scaler = scaler.fit(X_train)\n",
    "\n",
    "# 4) Scaling the data.\n",
    "X_train_scaled = X_scaler.transform(X_train)\n",
    "X_test_scaled = X_scaler.transform(X_test)"
   ]
  },
  {
   "cell_type": "code",
   "execution_count": null,
   "id": "a5d0d16a",
   "metadata": {},
   "outputs": [],
   "source": [
    "print(np.mean(X_train_scaled[:,0]))\n",
    "print(np.mean(X_test_scaled[:,0]))\n",
    "print(np.std(X_train_scaled[:,0]))\n",
    "print(np.std(X_test_scaled[:,0]))"
   ]
  },
  {
   "cell_type": "code",
   "execution_count": null,
   "id": "97168c68",
   "metadata": {},
   "outputs": [],
   "source": [
    "# model evaluation\n",
    "from sklearn.metrics import r2_score\n",
    "gender_ratio_males_per100_female_score = r2_score(y_test, y_pred)\n",
    "print(gender_ratio_males_per100_female_score)\n",
    "# this is R^2 value!!!!"
   ]
  },
  {
   "cell_type": "code",
   "execution_count": null,
   "id": "3534ea72",
   "metadata": {},
   "outputs": [],
   "source": [
    "# Make predictions using the test data\n",
    "y_pred = model.predict(X_test)\n",
    "results = pd.DataFrame({\n",
    "    \"Prediction\": y_pred, \n",
    "    \"Actual\": y_test\n",
    "}).reset_index(drop=True)\n",
    "results.head()"
   ]
  },
  {
   "cell_type": "code",
   "execution_count": null,
   "id": "34f75bb2",
   "metadata": {},
   "outputs": [],
   "source": [
    "plt.scatter(happiness_joined_df.gender_ratio_males_per100_female,happiness_joined_df.life_ladder)\n",
    "plt.xlabel('gender_ratio_males_per100_female')\n",
    "plt.ylabel('life_ladder')\n",
    "plt.show()"
   ]
  },
  {
   "cell_type": "markdown",
   "id": "f496a6c5",
   "metadata": {},
   "source": [
    "## (4) Modeling--- linear regression  [X = infant_mortality_per1000_births ; y = life_ladder]"
   ]
  },
  {
   "cell_type": "code",
   "execution_count": null,
   "id": "5d74cfac",
   "metadata": {},
   "outputs": [],
   "source": [
    "X = happiness_joined_df[['infant_mortality_per1000_births']]\n",
    "y = happiness_joined_df[\"life_ladder\"]\n",
    "# Normal train-test split\n",
    "from sklearn.model_selection import train_test_split\n",
    "X_train, X_test, y_train, y_test = train_test_split(X, y, random_state=1)\n",
    "from sklearn import linear_model\n",
    "# instantiate model\n",
    "model = linear_model.LinearRegression()\n",
    "# fit model\n",
    "model.fit(X, y)\n",
    "\n",
    "# fit\n",
    "model.fit(X_train, y_train)\n",
    "# predict\n",
    "y_pred = model.predict(X_test)"
   ]
  },
  {
   "cell_type": "code",
   "execution_count": null,
   "id": "e05191b6",
   "metadata": {},
   "outputs": [],
   "source": [
    "print(X_train.shape)\n",
    "print(X_test.shape)\n",
    "print(y_train.shape)\n",
    "print(y_test.shape)\n",
    "from sklearn.preprocessing import StandardScaler\n",
    "# 3) Creating a StandardScaler instance.\n",
    "scaler = StandardScaler()\n",
    "# Fitting the Standard Scaler with the training data.\n",
    "X_scaler = scaler.fit(X_train)\n",
    "\n",
    "# 4) Scaling the data.\n",
    "X_train_scaled = X_scaler.transform(X_train)\n",
    "X_test_scaled = X_scaler.transform(X_test)"
   ]
  },
  {
   "cell_type": "code",
   "execution_count": null,
   "id": "8a8870da",
   "metadata": {},
   "outputs": [],
   "source": [
    "print(np.mean(X_train_scaled[:,0]))\n",
    "print(np.mean(X_test_scaled[:,0]))\n",
    "print(np.std(X_train_scaled[:,0]))\n",
    "print(np.std(X_test_scaled[:,0]))"
   ]
  },
  {
   "cell_type": "code",
   "execution_count": null,
   "id": "41a637dd",
   "metadata": {},
   "outputs": [],
   "source": [
    "# model evaluation\n",
    "from sklearn.metrics import r2_score\n",
    "infant_mortality_per1000_births_score = r2_score(y_test, y_pred)\n",
    "print(infant_mortality_per1000_births_score)\n",
    "# this is R^2 value!!!!"
   ]
  },
  {
   "cell_type": "code",
   "execution_count": null,
   "id": "5b54f45a",
   "metadata": {},
   "outputs": [],
   "source": [
    "# Make predictions using the test data\n",
    "y_pred = model.predict(X_test)\n",
    "results = pd.DataFrame({\n",
    "    \"Prediction\": y_pred, \n",
    "    \"Actual\": y_test\n",
    "}).reset_index(drop=True)\n",
    "results.head()"
   ]
  },
  {
   "cell_type": "code",
   "execution_count": null,
   "id": "9e523caf",
   "metadata": {},
   "outputs": [],
   "source": [
    "plt.scatter(happiness_joined_df.infant_mortality_per1000_births,happiness_joined_df.life_ladder)\n",
    "plt.xlabel('infant_mortality_per1000_births')\n",
    "plt.ylabel('life_ladder')\n",
    "plt.show()"
   ]
  },
  {
   "cell_type": "markdown",
   "id": "711fa1ac",
   "metadata": {},
   "source": [
    "## (5) Modeling--- linear regression  [X = life_expectancy ; y = life_ladder]"
   ]
  },
  {
   "cell_type": "code",
   "execution_count": null,
   "id": "75cf866e",
   "metadata": {},
   "outputs": [],
   "source": [
    "X = happiness_joined_df[['life_expectancy']]\n",
    "y = happiness_joined_df[\"life_ladder\"]\n",
    "# Normal train-test split\n",
    "from sklearn.model_selection import train_test_split\n",
    "X_train, X_test, y_train, y_test = train_test_split(X, y, random_state=1)\n",
    "from sklearn import linear_model\n",
    "# instantiate model\n",
    "model = linear_model.LinearRegression()\n",
    "# fit model\n",
    "model.fit(X, y)\n",
    "\n",
    "# fit\n",
    "model.fit(X_train, y_train)\n",
    "# predict\n",
    "y_pred = model.predict(X_test)"
   ]
  },
  {
   "cell_type": "code",
   "execution_count": null,
   "id": "02a868bb",
   "metadata": {},
   "outputs": [],
   "source": [
    "print(X_train.shape)\n",
    "print(X_test.shape)\n",
    "print(y_train.shape)\n",
    "print(y_test.shape)\n",
    "from sklearn.preprocessing import StandardScaler\n",
    "# 3) Creating a StandardScaler instance.\n",
    "scaler = StandardScaler()\n",
    "# Fitting the Standard Scaler with the training data.\n",
    "X_scaler = scaler.fit(X_train)\n",
    "\n",
    "# 4) Scaling the data.\n",
    "X_train_scaled = X_scaler.transform(X_train)\n",
    "X_test_scaled = X_scaler.transform(X_test)"
   ]
  },
  {
   "cell_type": "code",
   "execution_count": null,
   "id": "2a1d9492",
   "metadata": {},
   "outputs": [],
   "source": [
    "print(np.mean(X_train_scaled[:,0]))\n",
    "print(np.mean(X_test_scaled[:,0]))\n",
    "print(np.std(X_train_scaled[:,0]))\n",
    "print(np.std(X_test_scaled[:,0]))"
   ]
  },
  {
   "cell_type": "code",
   "execution_count": null,
   "id": "d8d8179e",
   "metadata": {},
   "outputs": [],
   "source": [
    "# model evaluation\n",
    "from sklearn.metrics import r2_score\n",
    "life_expectancy_score = r2_score(y_test, y_pred)\n",
    "print(life_expectancy_score)\n",
    "# this is R^2 value!!!!"
   ]
  },
  {
   "cell_type": "code",
   "execution_count": null,
   "id": "74b2acba",
   "metadata": {},
   "outputs": [],
   "source": [
    "# Make predictions using the test data\n",
    "y_pred = model.predict(X_test)\n",
    "results = pd.DataFrame({\n",
    "    \"Prediction\": y_pred, \n",
    "    \"Actual\": y_test\n",
    "}).reset_index(drop=True)\n",
    "results.head()"
   ]
  },
  {
   "cell_type": "code",
   "execution_count": null,
   "id": "fdd4d8fe",
   "metadata": {},
   "outputs": [],
   "source": [
    "plt.scatter(happiness_joined_df.life_expectancy,happiness_joined_df.life_ladder)\n",
    "plt.xlabel('life_expectancy')\n",
    "plt.ylabel('life_ladder')\n",
    "plt.show()"
   ]
  },
  {
   "cell_type": "markdown",
   "id": "83d5d109",
   "metadata": {},
   "source": [
    "## (6) Modeling--- linear regression  [X = per_capita_gdp_dollars ; y = life_ladder]"
   ]
  },
  {
   "cell_type": "code",
   "execution_count": null,
   "id": "83268c51",
   "metadata": {},
   "outputs": [],
   "source": [
    "X = happiness_joined_df[['per_capita_gdp_dollars']]\n",
    "y = happiness_joined_df[\"life_ladder\"]\n",
    "# Normal train-test split\n",
    "from sklearn.model_selection import train_test_split\n",
    "X_train, X_test, y_train, y_test = train_test_split(X, y, random_state=1)\n",
    "from sklearn import linear_model\n",
    "# instantiate model\n",
    "model = linear_model.LinearRegression()\n",
    "# fit model\n",
    "model.fit(X, y)\n",
    "\n",
    "# fit\n",
    "model.fit(X_train, y_train)\n",
    "# predict\n",
    "y_pred = model.predict(X_test)"
   ]
  },
  {
   "cell_type": "code",
   "execution_count": null,
   "id": "17397324",
   "metadata": {},
   "outputs": [],
   "source": [
    "print(X_train.shape)\n",
    "print(X_test.shape)\n",
    "print(y_train.shape)\n",
    "print(y_test.shape)\n",
    "from sklearn.preprocessing import StandardScaler\n",
    "# 3) Creating a StandardScaler instance.\n",
    "scaler = StandardScaler()\n",
    "# Fitting the Standard Scaler with the training data.\n",
    "X_scaler = scaler.fit(X_train)\n",
    "\n",
    "# 4) Scaling the data.\n",
    "X_train_scaled = X_scaler.transform(X_train)\n",
    "X_test_scaled = X_scaler.transform(X_test)"
   ]
  },
  {
   "cell_type": "code",
   "execution_count": null,
   "id": "2da4702d",
   "metadata": {},
   "outputs": [],
   "source": [
    "print(np.mean(X_train_scaled[:,0]))\n",
    "print(np.mean(X_test_scaled[:,0]))\n",
    "print(np.std(X_train_scaled[:,0]))\n",
    "print(np.std(X_test_scaled[:,0]))"
   ]
  },
  {
   "cell_type": "code",
   "execution_count": null,
   "id": "128cd83a",
   "metadata": {},
   "outputs": [],
   "source": [
    "# model evaluation\n",
    "from sklearn.metrics import r2_score\n",
    "per_capita_gdp_dollars_score = r2_score(y_test, y_pred)\n",
    "print(per_capita_gdp_dollars_score)\n",
    "# this is R^2 value!!!!"
   ]
  },
  {
   "cell_type": "code",
   "execution_count": null,
   "id": "4a9daa80",
   "metadata": {},
   "outputs": [],
   "source": [
    "# Make predictions using the test data\n",
    "y_pred = model.predict(X_test)\n",
    "results = pd.DataFrame({\n",
    "    \"Prediction\": y_pred, \n",
    "    \"Actual\": y_test\n",
    "}).reset_index(drop=True)\n",
    "results.head()"
   ]
  },
  {
   "cell_type": "code",
   "execution_count": null,
   "id": "003060fd",
   "metadata": {},
   "outputs": [],
   "source": [
    "plt.scatter(happiness_joined_df.per_capita_gdp_dollars,happiness_joined_df.life_ladder)\n",
    "plt.xlabel('per_capita_gdp_dollars')\n",
    "plt.ylabel('life_ladder')\n",
    "plt.show()"
   ]
  },
  {
   "cell_type": "markdown",
   "id": "a5f61e1e",
   "metadata": {},
   "source": [
    "## (7) Modeling--- linear regression  [X = population_density ; y = life_ladder]"
   ]
  },
  {
   "cell_type": "code",
   "execution_count": null,
   "id": "ba587e8f",
   "metadata": {},
   "outputs": [],
   "source": [
    "X = happiness_joined_df[['population_density']]\n",
    "y = happiness_joined_df[\"life_ladder\"]\n",
    "# Normal train-test split\n",
    "from sklearn.model_selection import train_test_split\n",
    "X_train, X_test, y_train, y_test = train_test_split(X, y, random_state=1)\n",
    "from sklearn import linear_model\n",
    "# instantiate model\n",
    "model = linear_model.LinearRegression()\n",
    "# fit model\n",
    "model.fit(X, y)\n",
    "\n",
    "# fit\n",
    "model.fit(X_train, y_train)\n",
    "# predict\n",
    "y_pred = model.predict(X_test)"
   ]
  },
  {
   "cell_type": "code",
   "execution_count": null,
   "id": "37cc4902",
   "metadata": {},
   "outputs": [],
   "source": [
    "print(X_train.shape)\n",
    "print(X_test.shape)\n",
    "print(y_train.shape)\n",
    "print(y_test.shape)\n",
    "from sklearn.preprocessing import StandardScaler\n",
    "# 3) Creating a StandardScaler instance.\n",
    "scaler = StandardScaler()\n",
    "# Fitting the Standard Scaler with the training data.\n",
    "X_scaler = scaler.fit(X_train)\n",
    "\n",
    "# 4) Scaling the data.\n",
    "X_train_scaled = X_scaler.transform(X_train)\n",
    "X_test_scaled = X_scaler.transform(X_test)"
   ]
  },
  {
   "cell_type": "code",
   "execution_count": null,
   "id": "fdbb62f2",
   "metadata": {},
   "outputs": [],
   "source": [
    "print(np.mean(X_train_scaled[:,0]))\n",
    "print(np.mean(X_test_scaled[:,0]))\n",
    "print(np.std(X_train_scaled[:,0]))\n",
    "print(np.std(X_test_scaled[:,0]))"
   ]
  },
  {
   "cell_type": "code",
   "execution_count": null,
   "id": "b920828a",
   "metadata": {},
   "outputs": [],
   "source": [
    "# model evaluation\n",
    "from sklearn.metrics import r2_score\n",
    "population_density_score = r2_score(y_test, y_pred)\n",
    "print(population_density_score)\n",
    "# this is R^2 value!!!!"
   ]
  },
  {
   "cell_type": "code",
   "execution_count": null,
   "id": "ed6ef102",
   "metadata": {},
   "outputs": [],
   "source": [
    "# Make predictions using the test data\n",
    "y_pred = model.predict(X_test)\n",
    "results = pd.DataFrame({\n",
    "    \"Prediction\": y_pred, \n",
    "    \"Actual\": y_test\n",
    "}).reset_index(drop=True)\n",
    "results.head()"
   ]
  },
  {
   "cell_type": "code",
   "execution_count": null,
   "id": "258d2429",
   "metadata": {},
   "outputs": [],
   "source": [
    "plt.scatter(happiness_joined_df.population_density,happiness_joined_df.life_ladder)\n",
    "plt.xlabel('population_density')\n",
    "plt.ylabel('life_ladder')\n",
    "plt.show()"
   ]
  },
  {
   "cell_type": "markdown",
   "id": "d4970979",
   "metadata": {},
   "source": [
    "## (8) Modeling--- linear regression  [X = safe_drinking_water_access_pct ; y = life_ladder]"
   ]
  },
  {
   "cell_type": "code",
   "execution_count": null,
   "id": "ba89a301",
   "metadata": {},
   "outputs": [],
   "source": [
    "X = happiness_joined_df[['safe_drinking_water_access_pct']]\n",
    "y = happiness_joined_df[\"life_ladder\"]\n",
    "# Normal train-test split\n",
    "from sklearn.model_selection import train_test_split\n",
    "X_train, X_test, y_train, y_test = train_test_split(X, y, random_state=1)\n",
    "from sklearn import linear_model\n",
    "# instantiate model\n",
    "model = linear_model.LinearRegression()\n",
    "# fit model\n",
    "model.fit(X, y)\n",
    "\n",
    "# fit\n",
    "model.fit(X_train, y_train)\n",
    "# predict\n",
    "y_pred = model.predict(X_test)"
   ]
  },
  {
   "cell_type": "code",
   "execution_count": null,
   "id": "6dc9eff8",
   "metadata": {},
   "outputs": [],
   "source": [
    "print(X_train.shape)\n",
    "print(X_test.shape)\n",
    "print(y_train.shape)\n",
    "print(y_test.shape)\n",
    "from sklearn.preprocessing import StandardScaler\n",
    "# 3) Creating a StandardScaler instance.\n",
    "scaler = StandardScaler()\n",
    "# Fitting the Standard Scaler with the training data.\n",
    "X_scaler = scaler.fit(X_train)\n",
    "\n",
    "# 4) Scaling the data.\n",
    "X_train_scaled = X_scaler.transform(X_train)\n",
    "X_test_scaled = X_scaler.transform(X_test)"
   ]
  },
  {
   "cell_type": "code",
   "execution_count": null,
   "id": "b1c6b5a3",
   "metadata": {},
   "outputs": [],
   "source": [
    "print(np.mean(X_train_scaled[:,0]))\n",
    "print(np.mean(X_test_scaled[:,0]))\n",
    "print(np.std(X_train_scaled[:,0]))\n",
    "print(np.std(X_test_scaled[:,0]))"
   ]
  },
  {
   "cell_type": "code",
   "execution_count": null,
   "id": "5c1d6245",
   "metadata": {},
   "outputs": [],
   "source": [
    "# model evaluation\n",
    "from sklearn.metrics import r2_score\n",
    "safe_drinking_water_access_pct_score = r2_score(y_test, y_pred)\n",
    "print(safe_drinking_water_access_pct_score)\n",
    "# this is R^2 value!!!!"
   ]
  },
  {
   "cell_type": "code",
   "execution_count": null,
   "id": "6f36278b",
   "metadata": {},
   "outputs": [],
   "source": [
    "# Make predictions using the test data\n",
    "y_pred = model.predict(X_test)\n",
    "results = pd.DataFrame({\n",
    "    \"Prediction\": y_pred, \n",
    "    \"Actual\": y_test\n",
    "}).reset_index(drop=True)\n",
    "results.head()"
   ]
  },
  {
   "cell_type": "code",
   "execution_count": null,
   "id": "e3721671",
   "metadata": {},
   "outputs": [],
   "source": [
    "plt.scatter(happiness_joined_df.safe_drinking_water_access_pct,happiness_joined_df.life_ladder)\n",
    "plt.xlabel('safe_drinking_water_access_pct')\n",
    "plt.ylabel('life_ladder')\n",
    "plt.show()"
   ]
  },
  {
   "cell_type": "markdown",
   "id": "8f21fa60",
   "metadata": {},
   "source": [
    "## (9) Modeling--- linear regression  [X = seats_held_by_women_pct ; y = life_ladder]"
   ]
  },
  {
   "cell_type": "code",
   "execution_count": null,
   "id": "4e21f3dc",
   "metadata": {},
   "outputs": [],
   "source": [
    "X = happiness_joined_df[['seats_held_by_women_pct']]\n",
    "y = happiness_joined_df[\"life_ladder\"]\n",
    "# Normal train-test split\n",
    "from sklearn.model_selection import train_test_split\n",
    "X_train, X_test, y_train, y_test = train_test_split(X, y, random_state=1)\n",
    "from sklearn import linear_model\n",
    "# instantiate model\n",
    "model = linear_model.LinearRegression()\n",
    "# fit model\n",
    "model.fit(X, y)\n",
    "\n",
    "# fit\n",
    "model.fit(X_train, y_train)\n",
    "# predict\n",
    "y_pred = model.predict(X_test)"
   ]
  },
  {
   "cell_type": "code",
   "execution_count": null,
   "id": "2c8aad45",
   "metadata": {},
   "outputs": [],
   "source": [
    "print(X_train.shape)\n",
    "print(X_test.shape)\n",
    "print(y_train.shape)\n",
    "print(y_test.shape)\n",
    "from sklearn.preprocessing import StandardScaler\n",
    "# 3) Creating a StandardScaler instance.\n",
    "scaler = StandardScaler()\n",
    "# Fitting the Standard Scaler with the training data.\n",
    "X_scaler = scaler.fit(X_train)\n",
    "\n",
    "# 4) Scaling the data.\n",
    "X_train_scaled = X_scaler.transform(X_train)\n",
    "X_test_scaled = X_scaler.transform(X_test)"
   ]
  },
  {
   "cell_type": "code",
   "execution_count": null,
   "id": "4c68c5bb",
   "metadata": {},
   "outputs": [],
   "source": [
    "print(np.mean(X_train_scaled[:,0]))\n",
    "print(np.mean(X_test_scaled[:,0]))\n",
    "print(np.std(X_train_scaled[:,0]))\n",
    "print(np.std(X_test_scaled[:,0]))"
   ]
  },
  {
   "cell_type": "code",
   "execution_count": null,
   "id": "632cd784",
   "metadata": {},
   "outputs": [],
   "source": [
    "# model evaluation\n",
    "from sklearn.metrics import r2_score\n",
    "seats_held_by_women_pct_score = r2_score(y_test, y_pred)\n",
    "print(seats_held_by_women_pct_score)\n",
    "# this is R^2 value!!!!"
   ]
  },
  {
   "cell_type": "code",
   "execution_count": null,
   "id": "09acab71",
   "metadata": {},
   "outputs": [],
   "source": [
    "# Make predictions using the test data\n",
    "y_pred = model.predict(X_test)\n",
    "results = pd.DataFrame({\n",
    "    \"Prediction\": y_pred, \n",
    "    \"Actual\": y_test\n",
    "}).reset_index(drop=True)\n",
    "results.head()"
   ]
  },
  {
   "cell_type": "code",
   "execution_count": null,
   "id": "fc7f4c3a",
   "metadata": {},
   "outputs": [],
   "source": [
    "plt.scatter(happiness_joined_df.seats_held_by_women_pct,happiness_joined_df.life_ladder)\n",
    "plt.xlabel('seats_held_by_women_pct')\n",
    "plt.ylabel('life_ladder')\n",
    "plt.show()"
   ]
  },
  {
   "cell_type": "markdown",
   "id": "f03af40b",
   "metadata": {},
   "source": [
    "## (10) Modeling--- linear regression  [X = unemployment_rate ; y = life_ladder]"
   ]
  },
  {
   "cell_type": "code",
   "execution_count": null,
   "id": "797febe4",
   "metadata": {},
   "outputs": [],
   "source": [
    "X = happiness_joined_df[['unemployment_rate']]\n",
    "y = happiness_joined_df[\"life_ladder\"]\n",
    "# Normal train-test split\n",
    "from sklearn.model_selection import train_test_split\n",
    "X_train, X_test, y_train, y_test = train_test_split(X, y, random_state=1)\n",
    "from sklearn import linear_model\n",
    "# instantiate model\n",
    "model = linear_model.LinearRegression()\n",
    "# fit model\n",
    "model.fit(X, y)\n",
    "\n",
    "# fit\n",
    "model.fit(X_train, y_train)\n",
    "# predict\n",
    "y_pred = model.predict(X_test)"
   ]
  },
  {
   "cell_type": "code",
   "execution_count": null,
   "id": "9b8d3bbe",
   "metadata": {},
   "outputs": [],
   "source": [
    "print(X_train.shape)\n",
    "print(X_test.shape)\n",
    "print(y_train.shape)\n",
    "print(y_test.shape)\n",
    "from sklearn.preprocessing import StandardScaler\n",
    "# 3) Creating a StandardScaler instance.\n",
    "scaler = StandardScaler()\n",
    "# Fitting the Standard Scaler with the training data.\n",
    "X_scaler = scaler.fit(X_train)\n",
    "\n",
    "# 4) Scaling the data.\n",
    "X_train_scaled = X_scaler.transform(X_train)\n",
    "X_test_scaled = X_scaler.transform(X_test)"
   ]
  },
  {
   "cell_type": "code",
   "execution_count": null,
   "id": "ef556f89",
   "metadata": {},
   "outputs": [],
   "source": [
    "print(np.mean(X_train_scaled[:,0]))\n",
    "print(np.mean(X_test_scaled[:,0]))\n",
    "print(np.std(X_train_scaled[:,0]))\n",
    "print(np.std(X_test_scaled[:,0]))"
   ]
  },
  {
   "cell_type": "code",
   "execution_count": null,
   "id": "bab728b5",
   "metadata": {},
   "outputs": [],
   "source": [
    "# model evaluation\n",
    "from sklearn.metrics import r2_score\n",
    "unemployment_rate_score = r2_score(y_test, y_pred)\n",
    "print(unemployment_rate_score)\n",
    "# this is R^2 value!!!!"
   ]
  },
  {
   "cell_type": "code",
   "execution_count": null,
   "id": "ae8f5a85",
   "metadata": {},
   "outputs": [],
   "source": [
    "# Make predictions using the test data\n",
    "y_pred = model.predict(X_test)\n",
    "results = pd.DataFrame({\n",
    "    \"Prediction\": y_pred, \n",
    "    \"Actual\": y_test\n",
    "}).reset_index(drop=True)\n",
    "results.head()"
   ]
  },
  {
   "cell_type": "code",
   "execution_count": null,
   "id": "d92b2a3d",
   "metadata": {},
   "outputs": [],
   "source": [
    "plt.scatter(happiness_joined_df.unemployment_rate,happiness_joined_df.life_ladder)\n",
    "plt.xlabel('unemployment_rate')\n",
    "plt.ylabel('life_ladder')\n",
    "plt.show()"
   ]
  },
  {
   "cell_type": "code",
   "execution_count": null,
   "id": "a0856176",
   "metadata": {
    "scrolled": true
   },
   "outputs": [],
   "source": [
    "# individual linear reg w/ R2 scores df\n",
    "# initialize list of lists\n",
    "data = [['democracy_index', democracy_index_score, 0.263 ], ['consumer_price_index', consumer_price_index_score, 0.370], ['gender_ratio_males_per100_female', gender_ratio_males_per100_female_score, 0.191],['infant_mortality_per1000_births', infant_mortality_per1000_births_score, 0.229],['life_expectancy', life_expectancy_score, 0.805],['per_capita_gdp_dollars', per_capita_gdp_dollars_score, 0.001],['population_density', population_density_score, 0.235],['safe_drinking_water_access_pct', safe_drinking_water_access_pct_score, 0.054],['seats_held_by_women_pct', seats_held_by_women_pct_score, 0.043],['unemployment_rate', unemployment_rate_score, 0.010]]\n",
    " \n",
    "# Create the pandas DataFrame\n",
    "X_vs_life_ladder_R2Score_df = pd.DataFrame(data, columns = ['X-variable-Name', 'R2_Score', 'P>|t|'])\n",
    " \n",
    "# print dataframe.\n",
    "X_vs_life_ladder_R2Score_df"
   ]
  },
  {
   "cell_type": "code",
   "execution_count": null,
   "id": "274b1663",
   "metadata": {},
   "outputs": [],
   "source": [
    "# select features \n",
    "X_ = happiness_joined_df[['country_code','democracy_index','consumer_price_index','gender_ratio_males_per100_female','infant_mortality_per1000_births','life_expectancy','per_capita_gdp_dollars','population_density','safe_drinking_water_access_pct','seats_held_by_women_pct','unemployment_rate']]\n",
    "y_ = happiness_joined_df[\"life_ladder\"]\n",
    "# ref: https://www.pluralsight.com/guides/importing-and-splitting-data-into-dependent-and-independent-features-for-ml\n",
    "# ref: https://towardsdatascience.com/multiple-regression-as-a-machine-learning-algorithm-a98a6b9f307b"
   ]
  },
  {
   "cell_type": "code",
   "execution_count": null,
   "id": "18458b25",
   "metadata": {
    "scrolled": true
   },
   "outputs": [],
   "source": [
    "import statsmodels.api as sm\n",
    "X_2 = sm.add_constant(X_)\n",
    "est = sm.OLS(y_, X_2)\n",
    "est2 = est.fit()\n",
    "print(est2.summary())"
   ]
  }
 ],
 "metadata": {
  "kernelspec": {
   "display_name": "mlenv",
   "language": "python",
   "name": "mlenv"
  },
  "language_info": {
   "codemirror_mode": {
    "name": "ipython",
    "version": 3
   },
   "file_extension": ".py",
   "mimetype": "text/x-python",
   "name": "python",
   "nbconvert_exporter": "python",
   "pygments_lexer": "ipython3",
   "version": "3.7.11"
  }
 },
 "nbformat": 4,
 "nbformat_minor": 5
}
