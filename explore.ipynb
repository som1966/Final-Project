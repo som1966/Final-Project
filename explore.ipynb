{
 "cells": [
  {
   "cell_type": "code",
   "execution_count": 1,
   "id": "1e51bcde",
   "metadata": {},
   "outputs": [],
   "source": [
    "import pandas as pd\n",
    "from pathlib import Path\n",
    "import matplotlib.pyplot as plt\n",
    "from sklearn.linear_model import LinearRegression"
   ]
  },
  {
   "cell_type": "code",
   "execution_count": 7,
   "id": "8b0e648f",
   "metadata": {},
   "outputs": [
    {
     "data": {
      "text/html": [
       "<div>\n",
       "<style scoped>\n",
       "    .dataframe tbody tr th:only-of-type {\n",
       "        vertical-align: middle;\n",
       "    }\n",
       "\n",
       "    .dataframe tbody tr th {\n",
       "        vertical-align: top;\n",
       "    }\n",
       "\n",
       "    .dataframe thead th {\n",
       "        text-align: right;\n",
       "    }\n",
       "</style>\n",
       "<table border=\"1\" class=\"dataframe\">\n",
       "  <thead>\n",
       "    <tr style=\"text-align: right;\">\n",
       "      <th></th>\n",
       "      <th>country_code</th>\n",
       "      <th>country_name</th>\n",
       "      <th>life_ladder</th>\n",
       "      <th>democracy_index</th>\n",
       "      <th>consumer_price_index</th>\n",
       "      <th>gender_ratio_males_per100_female</th>\n",
       "      <th>infant_mortality_per1000_births</th>\n",
       "      <th>life_expectancy</th>\n",
       "      <th>per_capita_gdp_dollars</th>\n",
       "      <th>population_density</th>\n",
       "      <th>safe_drinking_water_access_pct</th>\n",
       "      <th>seats_held_by_women_pct</th>\n",
       "      <th>unemployment_rate</th>\n",
       "    </tr>\n",
       "  </thead>\n",
       "  <tbody>\n",
       "    <tr>\n",
       "      <th>0</th>\n",
       "      <td>8</td>\n",
       "      <td>Albania</td>\n",
       "      <td>5.00</td>\n",
       "      <td>58.9</td>\n",
       "      <td>119.1</td>\n",
       "      <td>103.7</td>\n",
       "      <td>8.0</td>\n",
       "      <td>78.4</td>\n",
       "      <td>$5,303.00</td>\n",
       "      <td>105.1</td>\n",
       "      <td>70.7</td>\n",
       "      <td>29.3</td>\n",
       "      <td>12.8</td>\n",
       "    </tr>\n",
       "    <tr>\n",
       "      <th>1</th>\n",
       "      <td>12</td>\n",
       "      <td>Algeria</td>\n",
       "      <td>4.75</td>\n",
       "      <td>40.1</td>\n",
       "      <td>151.4</td>\n",
       "      <td>102.1</td>\n",
       "      <td>21.2</td>\n",
       "      <td>76.6</td>\n",
       "      <td>$3,976.00</td>\n",
       "      <td>18.1</td>\n",
       "      <td>72.4</td>\n",
       "      <td>25.8</td>\n",
       "      <td>11.5</td>\n",
       "    </tr>\n",
       "    <tr>\n",
       "      <th>2</th>\n",
       "      <td>51</td>\n",
       "      <td>Armenia</td>\n",
       "      <td>5.49</td>\n",
       "      <td>55.4</td>\n",
       "      <td>129.2</td>\n",
       "      <td>88.8</td>\n",
       "      <td>10.8</td>\n",
       "      <td>74.9</td>\n",
       "      <td>$4,623.00</td>\n",
       "      <td>103.9</td>\n",
       "      <td>86.9</td>\n",
       "      <td>24.2</td>\n",
       "      <td>16.6</td>\n",
       "    </tr>\n",
       "    <tr>\n",
       "      <th>3</th>\n",
       "      <td>40</td>\n",
       "      <td>Austria</td>\n",
       "      <td>7.20</td>\n",
       "      <td>82.9</td>\n",
       "      <td>118.1</td>\n",
       "      <td>97.0</td>\n",
       "      <td>3.2</td>\n",
       "      <td>81.4</td>\n",
       "      <td>$49,701.00</td>\n",
       "      <td>108.7</td>\n",
       "      <td>98.9</td>\n",
       "      <td>37.2</td>\n",
       "      <td>4.8</td>\n",
       "    </tr>\n",
       "    <tr>\n",
       "      <th>4</th>\n",
       "      <td>31</td>\n",
       "      <td>Azerbaijan</td>\n",
       "      <td>5.17</td>\n",
       "      <td>27.5</td>\n",
       "      <td>156.9</td>\n",
       "      <td>99.7</td>\n",
       "      <td>20.8</td>\n",
       "      <td>72.8</td>\n",
       "      <td>$4,782.00</td>\n",
       "      <td>121.6</td>\n",
       "      <td>88.3</td>\n",
       "      <td>16.8</td>\n",
       "      <td>6.0</td>\n",
       "    </tr>\n",
       "  </tbody>\n",
       "</table>\n",
       "</div>"
      ],
      "text/plain": [
       "   country_code country_name  life_ladder  democracy_index  \\\n",
       "0             8      Albania         5.00             58.9   \n",
       "1            12      Algeria         4.75             40.1   \n",
       "2            51      Armenia         5.49             55.4   \n",
       "3            40      Austria         7.20             82.9   \n",
       "4            31   Azerbaijan         5.17             27.5   \n",
       "\n",
       "   consumer_price_index  gender_ratio_males_per100_female  \\\n",
       "0                 119.1                             103.7   \n",
       "1                 151.4                             102.1   \n",
       "2                 129.2                              88.8   \n",
       "3                 118.1                              97.0   \n",
       "4                 156.9                              99.7   \n",
       "\n",
       "   infant_mortality_per1000_births  life_expectancy per_capita_gdp_dollars  \\\n",
       "0                              8.0             78.4              $5,303.00   \n",
       "1                             21.2             76.6              $3,976.00   \n",
       "2                             10.8             74.9              $4,623.00   \n",
       "3                              3.2             81.4             $49,701.00   \n",
       "4                             20.8             72.8              $4,782.00   \n",
       "\n",
       "   population_density  safe_drinking_water_access_pct  \\\n",
       "0               105.1                            70.7   \n",
       "1                18.1                            72.4   \n",
       "2               103.9                            86.9   \n",
       "3               108.7                            98.9   \n",
       "4               121.6                            88.3   \n",
       "\n",
       "   seats_held_by_women_pct  unemployment_rate  \n",
       "0                     29.3               12.8  \n",
       "1                     25.8               11.5  \n",
       "2                     24.2               16.6  \n",
       "3                     37.2                4.8  \n",
       "4                     16.8                6.0  "
      ]
     },
     "execution_count": 7,
     "metadata": {},
     "output_type": "execute_result"
    }
   ],
   "source": [
    "happinessjoined_df = pd.read_csv(\"C:/Users/schno/DataBootcamp/Final project/Final-Project/2019 Happiness/SQL_Data/Processsed Data/happiness_joined.csv\")\n",
    "happinessjoined_df.head()"
   ]
  },
  {
   "cell_type": "code",
   "execution_count": 8,
   "id": "f8982c95",
   "metadata": {},
   "outputs": [
    {
     "data": {
      "image/png": "[encoded data removed]",
      "text/plain": [
       "<Figure size 432x288 with 1 Axes>"
      ]
     },
     "metadata": {
      "needs_background": "light"
     },
     "output_type": "display_data"
    }
   ],
   "source": [
    "plt.scatter(df.life_expectancy, df.life_ladder)\n",
    "plt.xlabel('life_expectancy')\n",
    "plt.ylabel('life_ladder')\n",
    "plt.show()"
   ]
  },
  {
   "cell_type": "code",
   "execution_count": 9,
   "id": "1b0d9790",
   "metadata": {},
   "outputs": [],
   "source": [
    "X = df.life_expectancy.values.reshape(-1,1)"
   ]
  },
  {
   "cell_type": "code",
   "execution_count": 10,
   "id": "5d078c03",
   "metadata": {},
   "outputs": [
    {
     "data": {
      "text/plain": [
       "array([[78.4],\n",
       "       [76.6],\n",
       "       [74.9],\n",
       "       [81.4],\n",
       "       [72.8]])"
      ]
     },
     "execution_count": 10,
     "metadata": {},
     "output_type": "execute_result"
    }
   ],
   "source": [
    "X[:5]"
   ]
  },
  {
   "cell_type": "code",
   "execution_count": 11,
   "id": "806940cc",
   "metadata": {},
   "outputs": [
    {
     "data": {
      "text/plain": [
       "(91, 1)"
      ]
     },
     "execution_count": 11,
     "metadata": {},
     "output_type": "execute_result"
    }
   ],
   "source": [
    "X.shape\n"
   ]
  },
  {
   "cell_type": "code",
   "execution_count": 12,
   "id": "94c155ac",
   "metadata": {},
   "outputs": [],
   "source": [
    "y=df.life_ladder"
   ]
  },
  {
   "cell_type": "code",
   "execution_count": 13,
   "id": "02b7efce",
   "metadata": {},
   "outputs": [],
   "source": [
    "model = LinearRegression()"
   ]
  },
  {
   "cell_type": "code",
   "execution_count": 14,
   "id": "375ead23",
   "metadata": {},
   "outputs": [
    {
     "data": {
      "text/plain": [
       "LinearRegression()"
      ]
     },
     "execution_count": 14,
     "metadata": {},
     "output_type": "execute_result"
    }
   ],
   "source": [
    "model.fit(X,y)"
   ]
  },
  {
   "cell_type": "code",
   "execution_count": 15,
   "id": "05b36ffe",
   "metadata": {},
   "outputs": [
    {
     "name": "stdout",
     "output_type": "stream",
     "text": [
      "(91,)\n"
     ]
    }
   ],
   "source": [
    "y_pred = model.predict(X)\n",
    "print(y_pred.shape)"
   ]
  },
  {
   "cell_type": "code",
   "execution_count": 16,
   "id": "6a1dd283",
   "metadata": {},
   "outputs": [
    {
     "data": {
      "image/png": "[encoded data removed]",
      "text/plain": [
       "<Figure size 432x288 with 1 Axes>"
      ]
     },
     "metadata": {
      "needs_background": "light"
     },
     "output_type": "display_data"
    }
   ],
   "source": [
    "plt.scatter(X, y)\n",
    "plt.plot(X, y_pred, color='red')\n",
    "plt.show()"
   ]
  },
  {
   "cell_type": "code",
   "execution_count": 17,
   "id": "c56ee2e4",
   "metadata": {},
   "outputs": [
    {
     "name": "stdout",
     "output_type": "stream",
     "text": [
      "[0.10527763]\n",
      "-2.0362197112611797\n"
     ]
    }
   ],
   "source": [
    "print(model.coef_)\n",
    "print(model.intercept_)"
   ]
  },
  {
   "cell_type": "code",
   "execution_count": 18,
   "id": "9dd9cdb3",
   "metadata": {},
   "outputs": [
    {
     "data": {
      "text/html": [
       "<div>\n",
       "<style scoped>\n",
       "    .dataframe tbody tr th:only-of-type {\n",
       "        vertical-align: middle;\n",
       "    }\n",
       "\n",
       "    .dataframe tbody tr th {\n",
       "        vertical-align: top;\n",
       "    }\n",
       "\n",
       "    .dataframe thead th {\n",
       "        text-align: right;\n",
       "    }\n",
       "</style>\n",
       "<table border=\"1\" class=\"dataframe\">\n",
       "  <thead>\n",
       "    <tr style=\"text-align: right;\">\n",
       "      <th></th>\n",
       "      <th>country_code</th>\n",
       "      <th>country_name</th>\n",
       "      <th>life_ladder</th>\n",
       "      <th>democracy_index</th>\n",
       "      <th>consumer_price_index</th>\n",
       "      <th>gender_ratio_males_per100_female</th>\n",
       "      <th>infant_mortality_per1000_births</th>\n",
       "      <th>life_expectancy</th>\n",
       "      <th>per_capita_gdp_dollars</th>\n",
       "      <th>population_density</th>\n",
       "      <th>safe_drinking_water_access_pct</th>\n",
       "      <th>seats_held_by_women_pct</th>\n",
       "      <th>unemployment_rate</th>\n",
       "    </tr>\n",
       "  </thead>\n",
       "  <tbody>\n",
       "    <tr>\n",
       "      <th>0</th>\n",
       "      <td>8</td>\n",
       "      <td>Albania</td>\n",
       "      <td>5.00</td>\n",
       "      <td>58.9</td>\n",
       "      <td>119.1</td>\n",
       "      <td>103.7</td>\n",
       "      <td>8.0</td>\n",
       "      <td>78.4</td>\n",
       "      <td>$5,303.00</td>\n",
       "      <td>105.1</td>\n",
       "      <td>70.7</td>\n",
       "      <td>29.3</td>\n",
       "      <td>12.8</td>\n",
       "    </tr>\n",
       "    <tr>\n",
       "      <th>1</th>\n",
       "      <td>12</td>\n",
       "      <td>Algeria</td>\n",
       "      <td>4.75</td>\n",
       "      <td>40.1</td>\n",
       "      <td>151.4</td>\n",
       "      <td>102.1</td>\n",
       "      <td>21.2</td>\n",
       "      <td>76.6</td>\n",
       "      <td>$3,976.00</td>\n",
       "      <td>18.1</td>\n",
       "      <td>72.4</td>\n",
       "      <td>25.8</td>\n",
       "      <td>11.5</td>\n",
       "    </tr>\n",
       "    <tr>\n",
       "      <th>2</th>\n",
       "      <td>51</td>\n",
       "      <td>Armenia</td>\n",
       "      <td>5.49</td>\n",
       "      <td>55.4</td>\n",
       "      <td>129.2</td>\n",
       "      <td>88.8</td>\n",
       "      <td>10.8</td>\n",
       "      <td>74.9</td>\n",
       "      <td>$4,623.00</td>\n",
       "      <td>103.9</td>\n",
       "      <td>86.9</td>\n",
       "      <td>24.2</td>\n",
       "      <td>16.6</td>\n",
       "    </tr>\n",
       "    <tr>\n",
       "      <th>3</th>\n",
       "      <td>40</td>\n",
       "      <td>Austria</td>\n",
       "      <td>7.20</td>\n",
       "      <td>82.9</td>\n",
       "      <td>118.1</td>\n",
       "      <td>97.0</td>\n",
       "      <td>3.2</td>\n",
       "      <td>81.4</td>\n",
       "      <td>$49,701.00</td>\n",
       "      <td>108.7</td>\n",
       "      <td>98.9</td>\n",
       "      <td>37.2</td>\n",
       "      <td>4.8</td>\n",
       "    </tr>\n",
       "    <tr>\n",
       "      <th>4</th>\n",
       "      <td>31</td>\n",
       "      <td>Azerbaijan</td>\n",
       "      <td>5.17</td>\n",
       "      <td>27.5</td>\n",
       "      <td>156.9</td>\n",
       "      <td>99.7</td>\n",
       "      <td>20.8</td>\n",
       "      <td>72.8</td>\n",
       "      <td>$4,782.00</td>\n",
       "      <td>121.6</td>\n",
       "      <td>88.3</td>\n",
       "      <td>16.8</td>\n",
       "      <td>6.0</td>\n",
       "    </tr>\n",
       "  </tbody>\n",
       "</table>\n",
       "</div>"
      ],
      "text/plain": [
       "   country_code country_name  life_ladder  democracy_index  \\\n",
       "0             8      Albania         5.00             58.9   \n",
       "1            12      Algeria         4.75             40.1   \n",
       "2            51      Armenia         5.49             55.4   \n",
       "3            40      Austria         7.20             82.9   \n",
       "4            31   Azerbaijan         5.17             27.5   \n",
       "\n",
       "   consumer_price_index  gender_ratio_males_per100_female  \\\n",
       "0                 119.1                             103.7   \n",
       "1                 151.4                             102.1   \n",
       "2                 129.2                              88.8   \n",
       "3                 118.1                              97.0   \n",
       "4                 156.9                              99.7   \n",
       "\n",
       "   infant_mortality_per1000_births  life_expectancy per_capita_gdp_dollars  \\\n",
       "0                              8.0             78.4              $5,303.00   \n",
       "1                             21.2             76.6              $3,976.00   \n",
       "2                             10.8             74.9              $4,623.00   \n",
       "3                              3.2             81.4             $49,701.00   \n",
       "4                             20.8             72.8              $4,782.00   \n",
       "\n",
       "   population_density  safe_drinking_water_access_pct  \\\n",
       "0               105.1                            70.7   \n",
       "1                18.1                            72.4   \n",
       "2               103.9                            86.9   \n",
       "3               108.7                            98.9   \n",
       "4               121.6                            88.3   \n",
       "\n",
       "   seats_held_by_women_pct  unemployment_rate  \n",
       "0                     29.3               12.8  \n",
       "1                     25.8               11.5  \n",
       "2                     24.2               16.6  \n",
       "3                     37.2                4.8  \n",
       "4                     16.8                6.0  "
      ]
     },
     "execution_count": 18,
     "metadata": {},
     "output_type": "execute_result"
    }
   ],
   "source": [
    "happinessjoined_df = pd.read_csv(\"C:/Users/schno/DataBootcamp/Final project/Final-Project/2019 Happiness/SQL_Data/Processsed Data/happiness_joined.csv\")\n",
    "happinessjoined_df.head()"
   ]
  },
  {
   "cell_type": "code",
   "execution_count": 19,
   "id": "189ce1ca",
   "metadata": {},
   "outputs": [
    {
     "data": {
      "text/plain": [
       "LogisticRegression(random_state=1)"
      ]
     },
     "execution_count": 19,
     "metadata": {},
     "output_type": "execute_result"
    }
   ],
   "source": [
    "from sklearn.linear_model import LogisticRegression\n",
    "classifier = LogisticRegression(solver='lbfgs', random_state=1)\n",
    "classifier"
   ]
  },
  {
   "cell_type": "code",
   "execution_count": 24,
   "id": "880ea4b8",
   "metadata": {},
   "outputs": [
    {
     "data": {
      "text/plain": [
       "LogisticRegression(multi_class='warn', penalty='12', random_state=1)"
      ]
     },
     "execution_count": 24,
     "metadata": {},
     "output_type": "execute_result"
    }
   ],
   "source": [
    "LogisticRegression(C=1.0, class_weight=None, dual=False, fit_intercept=True,\n",
    "   intercept_scaling=1, max_iter=100, multi_class='warn', penalty='12',\n",
    "   random_state=1, solver='lbfgs', tol = 0.0001, warm_start=False)"
   ]
  },
  {
   "cell_type": "code",
   "execution_count": 29,
   "id": "ff14113d",
   "metadata": {},
   "outputs": [],
   "source": [
    "y=happinessjoined_df[\"life_ladder\"]\n",
    "x=happinessjoined_df.drop(columns=\"life_ladder\")"
   ]
  },
  {
   "cell_type": "code",
   "execution_count": 30,
   "id": "f2e045f0",
   "metadata": {},
   "outputs": [
    {
     "ename": "ValueError",
     "evalue": "The least populated class in y has only 1 member, which is too few. The minimum number of groups for any class cannot be less than 2.",
     "output_type": "error",
     "traceback": [
      "\u001b[1;31m---------------------------------------------------------------------------\u001b[0m",
      "\u001b[1;31mValueError\u001b[0m                                Traceback (most recent call last)",
      "\u001b[1;32m<ipython-input-30-2f2e6a43e7d5>\u001b[0m in \u001b[0;36m<module>\u001b[1;34m\u001b[0m\n\u001b[0;32m      1\u001b[0m \u001b[1;32mfrom\u001b[0m \u001b[0msklearn\u001b[0m\u001b[1;33m.\u001b[0m\u001b[0mmodel_selection\u001b[0m \u001b[1;32mimport\u001b[0m \u001b[0mtrain_test_split\u001b[0m\u001b[1;33m\u001b[0m\u001b[1;33m\u001b[0m\u001b[0m\n\u001b[0;32m      2\u001b[0m X_train, X_test, y_train, y_test = train_test_split(X,\n\u001b[1;32m----> 3\u001b[1;33m    y, random_state=1, stratify=y)\n\u001b[0m",
      "\u001b[1;32m~\\anaconda3\\envs\\PythonData\\lib\\site-packages\\sklearn\\model_selection\\_split.py\u001b[0m in \u001b[0;36mtrain_test_split\u001b[1;34m(test_size, train_size, random_state, shuffle, stratify, *arrays)\u001b[0m\n\u001b[0;32m   2441\u001b[0m         \u001b[0mcv\u001b[0m \u001b[1;33m=\u001b[0m \u001b[0mCVClass\u001b[0m\u001b[1;33m(\u001b[0m\u001b[0mtest_size\u001b[0m\u001b[1;33m=\u001b[0m\u001b[0mn_test\u001b[0m\u001b[1;33m,\u001b[0m \u001b[0mtrain_size\u001b[0m\u001b[1;33m=\u001b[0m\u001b[0mn_train\u001b[0m\u001b[1;33m,\u001b[0m \u001b[0mrandom_state\u001b[0m\u001b[1;33m=\u001b[0m\u001b[0mrandom_state\u001b[0m\u001b[1;33m)\u001b[0m\u001b[1;33m\u001b[0m\u001b[1;33m\u001b[0m\u001b[0m\n\u001b[0;32m   2442\u001b[0m \u001b[1;33m\u001b[0m\u001b[0m\n\u001b[1;32m-> 2443\u001b[1;33m         \u001b[0mtrain\u001b[0m\u001b[1;33m,\u001b[0m \u001b[0mtest\u001b[0m \u001b[1;33m=\u001b[0m \u001b[0mnext\u001b[0m\u001b[1;33m(\u001b[0m\u001b[0mcv\u001b[0m\u001b[1;33m.\u001b[0m\u001b[0msplit\u001b[0m\u001b[1;33m(\u001b[0m\u001b[0mX\u001b[0m\u001b[1;33m=\u001b[0m\u001b[0marrays\u001b[0m\u001b[1;33m[\u001b[0m\u001b[1;36m0\u001b[0m\u001b[1;33m]\u001b[0m\u001b[1;33m,\u001b[0m \u001b[0my\u001b[0m\u001b[1;33m=\u001b[0m\u001b[0mstratify\u001b[0m\u001b[1;33m)\u001b[0m\u001b[1;33m)\u001b[0m\u001b[1;33m\u001b[0m\u001b[1;33m\u001b[0m\u001b[0m\n\u001b[0m\u001b[0;32m   2444\u001b[0m \u001b[1;33m\u001b[0m\u001b[0m\n\u001b[0;32m   2445\u001b[0m     return list(\n",
      "\u001b[1;32m~\\anaconda3\\envs\\PythonData\\lib\\site-packages\\sklearn\\model_selection\\_split.py\u001b[0m in \u001b[0;36msplit\u001b[1;34m(self, X, y, groups)\u001b[0m\n\u001b[0;32m   1598\u001b[0m         \"\"\"\n\u001b[0;32m   1599\u001b[0m         \u001b[0mX\u001b[0m\u001b[1;33m,\u001b[0m \u001b[0my\u001b[0m\u001b[1;33m,\u001b[0m \u001b[0mgroups\u001b[0m \u001b[1;33m=\u001b[0m \u001b[0mindexable\u001b[0m\u001b[1;33m(\u001b[0m\u001b[0mX\u001b[0m\u001b[1;33m,\u001b[0m \u001b[0my\u001b[0m\u001b[1;33m,\u001b[0m \u001b[0mgroups\u001b[0m\u001b[1;33m)\u001b[0m\u001b[1;33m\u001b[0m\u001b[1;33m\u001b[0m\u001b[0m\n\u001b[1;32m-> 1600\u001b[1;33m         \u001b[1;32mfor\u001b[0m \u001b[0mtrain\u001b[0m\u001b[1;33m,\u001b[0m \u001b[0mtest\u001b[0m \u001b[1;32min\u001b[0m \u001b[0mself\u001b[0m\u001b[1;33m.\u001b[0m\u001b[0m_iter_indices\u001b[0m\u001b[1;33m(\u001b[0m\u001b[0mX\u001b[0m\u001b[1;33m,\u001b[0m \u001b[0my\u001b[0m\u001b[1;33m,\u001b[0m \u001b[0mgroups\u001b[0m\u001b[1;33m)\u001b[0m\u001b[1;33m:\u001b[0m\u001b[1;33m\u001b[0m\u001b[1;33m\u001b[0m\u001b[0m\n\u001b[0m\u001b[0;32m   1601\u001b[0m             \u001b[1;32myield\u001b[0m \u001b[0mtrain\u001b[0m\u001b[1;33m,\u001b[0m \u001b[0mtest\u001b[0m\u001b[1;33m\u001b[0m\u001b[1;33m\u001b[0m\u001b[0m\n\u001b[0;32m   1602\u001b[0m \u001b[1;33m\u001b[0m\u001b[0m\n",
      "\u001b[1;32m~\\anaconda3\\envs\\PythonData\\lib\\site-packages\\sklearn\\model_selection\\_split.py\u001b[0m in \u001b[0;36m_iter_indices\u001b[1;34m(self, X, y, groups)\u001b[0m\n\u001b[0;32m   1939\u001b[0m         \u001b[1;32mif\u001b[0m \u001b[0mnp\u001b[0m\u001b[1;33m.\u001b[0m\u001b[0mmin\u001b[0m\u001b[1;33m(\u001b[0m\u001b[0mclass_counts\u001b[0m\u001b[1;33m)\u001b[0m \u001b[1;33m<\u001b[0m \u001b[1;36m2\u001b[0m\u001b[1;33m:\u001b[0m\u001b[1;33m\u001b[0m\u001b[1;33m\u001b[0m\u001b[0m\n\u001b[0;32m   1940\u001b[0m             raise ValueError(\n\u001b[1;32m-> 1941\u001b[1;33m                 \u001b[1;34m\"The least populated class in y has only 1\"\u001b[0m\u001b[1;33m\u001b[0m\u001b[1;33m\u001b[0m\u001b[0m\n\u001b[0m\u001b[0;32m   1942\u001b[0m                 \u001b[1;34m\" member, which is too few. The minimum\"\u001b[0m\u001b[1;33m\u001b[0m\u001b[1;33m\u001b[0m\u001b[0m\n\u001b[0;32m   1943\u001b[0m                 \u001b[1;34m\" number of groups for any class cannot\"\u001b[0m\u001b[1;33m\u001b[0m\u001b[1;33m\u001b[0m\u001b[0m\n",
      "\u001b[1;31mValueError\u001b[0m: The least populated class in y has only 1 member, which is too few. The minimum number of groups for any class cannot be less than 2."
     ]
    }
   ],
   "source": [
    "from sklearn.model_selection import train_test_split\n",
    "X_train, X_test, y_train, y_test = train_test_split(X,\n",
    "   y, random_state=1, stratify=y)"
   ]
  },
  {
   "cell_type": "code",
   "execution_count": 31,
   "id": "01189e10",
   "metadata": {},
   "outputs": [],
   "source": [
    "# Initial imports.\n",
    "import pandas as pd\n",
    "from path import Path\n",
    "from sklearn.ensemble import RandomForestClassifier\n",
    "from sklearn.preprocessing import StandardScaler\n",
    "from sklearn.model_selection import train_test_split\n",
    "from sklearn.metrics import confusion_matrix, accuracy_score, classification_report"
   ]
  },
  {
   "cell_type": "code",
   "execution_count": 32,
   "id": "c6a4f6b5",
   "metadata": {},
   "outputs": [
    {
     "data": {
      "text/html": [
       "<div>\n",
       "<style scoped>\n",
       "    .dataframe tbody tr th:only-of-type {\n",
       "        vertical-align: middle;\n",
       "    }\n",
       "\n",
       "    .dataframe tbody tr th {\n",
       "        vertical-align: top;\n",
       "    }\n",
       "\n",
       "    .dataframe thead th {\n",
       "        text-align: right;\n",
       "    }\n",
       "</style>\n",
       "<table border=\"1\" class=\"dataframe\">\n",
       "  <thead>\n",
       "    <tr style=\"text-align: right;\">\n",
       "      <th></th>\n",
       "      <th>country_code</th>\n",
       "      <th>country_name</th>\n",
       "      <th>life_ladder</th>\n",
       "      <th>democracy_index</th>\n",
       "      <th>consumer_price_index</th>\n",
       "      <th>gender_ratio_males_per100_female</th>\n",
       "      <th>infant_mortality_per1000_births</th>\n",
       "      <th>life_expectancy</th>\n",
       "      <th>per_capita_gdp_dollars</th>\n",
       "      <th>population_density</th>\n",
       "      <th>safe_drinking_water_access_pct</th>\n",
       "      <th>seats_held_by_women_pct</th>\n",
       "      <th>unemployment_rate</th>\n",
       "    </tr>\n",
       "  </thead>\n",
       "  <tbody>\n",
       "    <tr>\n",
       "      <th>0</th>\n",
       "      <td>8</td>\n",
       "      <td>Albania</td>\n",
       "      <td>5.00</td>\n",
       "      <td>58.9</td>\n",
       "      <td>119.1</td>\n",
       "      <td>103.7</td>\n",
       "      <td>8.0</td>\n",
       "      <td>78.4</td>\n",
       "      <td>$5,303.00</td>\n",
       "      <td>105.1</td>\n",
       "      <td>70.7</td>\n",
       "      <td>29.3</td>\n",
       "      <td>12.8</td>\n",
       "    </tr>\n",
       "    <tr>\n",
       "      <th>1</th>\n",
       "      <td>12</td>\n",
       "      <td>Algeria</td>\n",
       "      <td>4.75</td>\n",
       "      <td>40.1</td>\n",
       "      <td>151.4</td>\n",
       "      <td>102.1</td>\n",
       "      <td>21.2</td>\n",
       "      <td>76.6</td>\n",
       "      <td>$3,976.00</td>\n",
       "      <td>18.1</td>\n",
       "      <td>72.4</td>\n",
       "      <td>25.8</td>\n",
       "      <td>11.5</td>\n",
       "    </tr>\n",
       "    <tr>\n",
       "      <th>2</th>\n",
       "      <td>51</td>\n",
       "      <td>Armenia</td>\n",
       "      <td>5.49</td>\n",
       "      <td>55.4</td>\n",
       "      <td>129.2</td>\n",
       "      <td>88.8</td>\n",
       "      <td>10.8</td>\n",
       "      <td>74.9</td>\n",
       "      <td>$4,623.00</td>\n",
       "      <td>103.9</td>\n",
       "      <td>86.9</td>\n",
       "      <td>24.2</td>\n",
       "      <td>16.6</td>\n",
       "    </tr>\n",
       "    <tr>\n",
       "      <th>3</th>\n",
       "      <td>40</td>\n",
       "      <td>Austria</td>\n",
       "      <td>7.20</td>\n",
       "      <td>82.9</td>\n",
       "      <td>118.1</td>\n",
       "      <td>97.0</td>\n",
       "      <td>3.2</td>\n",
       "      <td>81.4</td>\n",
       "      <td>$49,701.00</td>\n",
       "      <td>108.7</td>\n",
       "      <td>98.9</td>\n",
       "      <td>37.2</td>\n",
       "      <td>4.8</td>\n",
       "    </tr>\n",
       "    <tr>\n",
       "      <th>4</th>\n",
       "      <td>31</td>\n",
       "      <td>Azerbaijan</td>\n",
       "      <td>5.17</td>\n",
       "      <td>27.5</td>\n",
       "      <td>156.9</td>\n",
       "      <td>99.7</td>\n",
       "      <td>20.8</td>\n",
       "      <td>72.8</td>\n",
       "      <td>$4,782.00</td>\n",
       "      <td>121.6</td>\n",
       "      <td>88.3</td>\n",
       "      <td>16.8</td>\n",
       "      <td>6.0</td>\n",
       "    </tr>\n",
       "  </tbody>\n",
       "</table>\n",
       "</div>"
      ],
      "text/plain": [
       "   country_code country_name  life_ladder  democracy_index  \\\n",
       "0             8      Albania         5.00             58.9   \n",
       "1            12      Algeria         4.75             40.1   \n",
       "2            51      Armenia         5.49             55.4   \n",
       "3            40      Austria         7.20             82.9   \n",
       "4            31   Azerbaijan         5.17             27.5   \n",
       "\n",
       "   consumer_price_index  gender_ratio_males_per100_female  \\\n",
       "0                 119.1                             103.7   \n",
       "1                 151.4                             102.1   \n",
       "2                 129.2                              88.8   \n",
       "3                 118.1                              97.0   \n",
       "4                 156.9                              99.7   \n",
       "\n",
       "   infant_mortality_per1000_births  life_expectancy per_capita_gdp_dollars  \\\n",
       "0                              8.0             78.4              $5,303.00   \n",
       "1                             21.2             76.6              $3,976.00   \n",
       "2                             10.8             74.9              $4,623.00   \n",
       "3                              3.2             81.4             $49,701.00   \n",
       "4                             20.8             72.8              $4,782.00   \n",
       "\n",
       "   population_density  safe_drinking_water_access_pct  \\\n",
       "0               105.1                            70.7   \n",
       "1                18.1                            72.4   \n",
       "2               103.9                            86.9   \n",
       "3               108.7                            98.9   \n",
       "4               121.6                            88.3   \n",
       "\n",
       "   seats_held_by_women_pct  unemployment_rate  \n",
       "0                     29.3               12.8  \n",
       "1                     25.8               11.5  \n",
       "2                     24.2               16.6  \n",
       "3                     37.2                4.8  \n",
       "4                     16.8                6.0  "
      ]
     },
     "execution_count": 32,
     "metadata": {},
     "output_type": "execute_result"
    }
   ],
   "source": [
    "happinessjoined_df = pd.read_csv(\"C:/Users/schno/DataBootcamp/Final project/Final-Project/2019 Happiness/SQL_Data/Processsed Data/happiness_joined.csv\")\n",
    "happinessjoined_df.head()"
   ]
  },
  {
   "cell_type": "code",
   "execution_count": 38,
   "id": "28d92d03",
   "metadata": {},
   "outputs": [
    {
     "data": {
      "text/plain": [
       "country_code                          int64\n",
       "life_ladder                         float64\n",
       "democracy_index                     float64\n",
       "consumer_price_index                float64\n",
       "gender_ratio_males_per100_female    float64\n",
       "infant_mortality_per1000_births     float64\n",
       "life_expectancy                     float64\n",
       "per_capita_gdp_dollars               object\n",
       "population_density                  float64\n",
       "safe_drinking_water_access_pct      float64\n",
       "seats_held_by_women_pct             float64\n",
       "unemployment_rate                   float64\n",
       "dtype: object"
      ]
     },
     "execution_count": 38,
     "metadata": {},
     "output_type": "execute_result"
    }
   ],
   "source": [
    "happinessjoined_df.dtypes\n"
   ]
  },
  {
   "cell_type": "code",
   "execution_count": 35,
   "id": "d8e72de1",
   "metadata": {},
   "outputs": [],
   "source": [
    "happinessjoined_df = happinessjoined_df.drop('country_name', axis=1)"
   ]
  },
  {
   "cell_type": "code",
   "execution_count": 42,
   "id": "cc36bcdc",
   "metadata": {},
   "outputs": [],
   "source": [
    "happinessjoined_df[\"per_capita_gdp_dollars\"] = pd.to_numeric(happinessjoined_df[\"per_capita_gdp_dollars\"],errors = 'coerce')"
   ]
  },
  {
   "cell_type": "code",
   "execution_count": 43,
   "id": "79cc4241",
   "metadata": {},
   "outputs": [
    {
     "data": {
      "text/plain": [
       "country_code                          int64\n",
       "life_ladder                         float64\n",
       "democracy_index                     float64\n",
       "consumer_price_index                float64\n",
       "gender_ratio_males_per100_female    float64\n",
       "infant_mortality_per1000_births     float64\n",
       "life_expectancy                     float64\n",
       "per_capita_gdp_dollars              float64\n",
       "population_density                  float64\n",
       "safe_drinking_water_access_pct      float64\n",
       "seats_held_by_women_pct             float64\n",
       "unemployment_rate                   float64\n",
       "dtype: object"
      ]
     },
     "execution_count": 43,
     "metadata": {},
     "output_type": "execute_result"
    }
   ],
   "source": [
    "happinessjoined_df.dtypes"
   ]
  },
  {
   "cell_type": "code",
   "execution_count": 45,
   "id": "9ab9703b",
   "metadata": {},
   "outputs": [],
   "source": [
    "from sklearn.preprocessing import StandardScaler\n",
    "data_scaler = StandardScaler()\n"
   ]
  },
  {
   "cell_type": "code",
   "execution_count": 46,
   "id": "028141ab",
   "metadata": {},
   "outputs": [
    {
     "name": "stderr",
     "output_type": "stream",
     "text": [
      "C:\\Users\\schno\\anaconda3\\envs\\PythonData\\lib\\site-packages\\sklearn\\utils\\extmath.py:985: RuntimeWarning: invalid value encountered in true_divide\n",
      "  updated_mean = (last_sum + new_sum) / updated_sample_count\n",
      "C:\\Users\\schno\\anaconda3\\envs\\PythonData\\lib\\site-packages\\sklearn\\utils\\extmath.py:990: RuntimeWarning: invalid value encountered in true_divide\n",
      "  T = new_sum / new_sample_count\n",
      "C:\\Users\\schno\\anaconda3\\envs\\PythonData\\lib\\site-packages\\sklearn\\utils\\extmath.py:1020: RuntimeWarning: invalid value encountered in true_divide\n",
      "  new_unnormalized_variance -= correction ** 2 / new_sample_count\n"
     ]
    }
   ],
   "source": [
    "happinessjoined_scaled = data_scaler.fit_transform(happinessjoined_df)"
   ]
  },
  {
   "cell_type": "code",
   "execution_count": 47,
   "id": "888d9623",
   "metadata": {},
   "outputs": [
    {
     "data": {
      "text/plain": [
       "array([[-1.75001104, -0.80330658, -0.11334032, -0.39328884,  0.40714606,\n",
       "        -0.4195101 ,  0.4762757 ,         nan, -0.17688345, -0.13129358,\n",
       "         0.37481081,  1.39696416],\n",
       "       [-1.73306403, -1.04080138, -0.99192034,  0.19181714,  0.26766261,\n",
       "         0.31495358,  0.23361953,         nan, -0.27376381, -0.07188698,\n",
       "         0.06506187,  1.10789496],\n",
       "       [-1.56783073, -0.33781678, -0.27690575, -0.21033001, -0.89179358,\n",
       "        -0.26371477,  0.00444425,         nan, -0.17821973,  0.43481638,\n",
       "        -0.07653765,  2.24193566],\n",
       "       [-1.614435  ,  1.28664764,  1.00825121, -0.41140358, -0.17694089,\n",
       "        -0.6865878 ,  0.88070266,         nan, -0.1728746 ,  0.85415709,\n",
       "         1.07395842, -0.38192321],\n",
       "       [-1.65256576, -0.64181012, -1.58075589,  0.29144819,  0.05843744,\n",
       "         0.29269711, -0.27865462,         nan, -0.15850958,  0.48373946,\n",
       "        -0.73143541, -0.1150901 ]])"
      ]
     },
     "execution_count": 47,
     "metadata": {},
     "output_type": "execute_result"
    }
   ],
   "source": [
    "happinessjoined_scaled[:5]"
   ]
  },
  {
   "cell_type": "code",
   "execution_count": 55,
   "id": "fdac4927",
   "metadata": {},
   "outputs": [
    {
     "data": {
      "text/html": [
       "<div>\n",
       "<style scoped>\n",
       "    .dataframe tbody tr th:only-of-type {\n",
       "        vertical-align: middle;\n",
       "    }\n",
       "\n",
       "    .dataframe tbody tr th {\n",
       "        vertical-align: top;\n",
       "    }\n",
       "\n",
       "    .dataframe thead th {\n",
       "        text-align: right;\n",
       "    }\n",
       "</style>\n",
       "<table border=\"1\" class=\"dataframe\">\n",
       "  <thead>\n",
       "    <tr style=\"text-align: right;\">\n",
       "      <th></th>\n",
       "      <th>country_code</th>\n",
       "      <th>life_ladder</th>\n",
       "      <th>democracy_index</th>\n",
       "      <th>consumer_price_index</th>\n",
       "      <th>gender_ratio_males_per100_female</th>\n",
       "      <th>infant_mortality_per1000_births</th>\n",
       "      <th>life_expectancy</th>\n",
       "      <th>per_capita_gdp_dollars</th>\n",
       "      <th>population_density</th>\n",
       "      <th>safe_drinking_water_access_pct</th>\n",
       "      <th>seats_held_by_women_pct</th>\n",
       "      <th>unemployment_rate</th>\n",
       "    </tr>\n",
       "  </thead>\n",
       "  <tbody>\n",
       "    <tr>\n",
       "      <th>0</th>\n",
       "      <td>8</td>\n",
       "      <td>5.00</td>\n",
       "      <td>58.9</td>\n",
       "      <td>119.1</td>\n",
       "      <td>103.7</td>\n",
       "      <td>8.0</td>\n",
       "      <td>78.4</td>\n",
       "      <td>NaN</td>\n",
       "      <td>105.1</td>\n",
       "      <td>70.7</td>\n",
       "      <td>29.3</td>\n",
       "      <td>12.8</td>\n",
       "    </tr>\n",
       "    <tr>\n",
       "      <th>1</th>\n",
       "      <td>12</td>\n",
       "      <td>4.75</td>\n",
       "      <td>40.1</td>\n",
       "      <td>151.4</td>\n",
       "      <td>102.1</td>\n",
       "      <td>21.2</td>\n",
       "      <td>76.6</td>\n",
       "      <td>NaN</td>\n",
       "      <td>18.1</td>\n",
       "      <td>72.4</td>\n",
       "      <td>25.8</td>\n",
       "      <td>11.5</td>\n",
       "    </tr>\n",
       "    <tr>\n",
       "      <th>2</th>\n",
       "      <td>51</td>\n",
       "      <td>5.49</td>\n",
       "      <td>55.4</td>\n",
       "      <td>129.2</td>\n",
       "      <td>88.8</td>\n",
       "      <td>10.8</td>\n",
       "      <td>74.9</td>\n",
       "      <td>NaN</td>\n",
       "      <td>103.9</td>\n",
       "      <td>86.9</td>\n",
       "      <td>24.2</td>\n",
       "      <td>16.6</td>\n",
       "    </tr>\n",
       "    <tr>\n",
       "      <th>3</th>\n",
       "      <td>40</td>\n",
       "      <td>7.20</td>\n",
       "      <td>82.9</td>\n",
       "      <td>118.1</td>\n",
       "      <td>97.0</td>\n",
       "      <td>3.2</td>\n",
       "      <td>81.4</td>\n",
       "      <td>NaN</td>\n",
       "      <td>108.7</td>\n",
       "      <td>98.9</td>\n",
       "      <td>37.2</td>\n",
       "      <td>4.8</td>\n",
       "    </tr>\n",
       "    <tr>\n",
       "      <th>4</th>\n",
       "      <td>31</td>\n",
       "      <td>5.17</td>\n",
       "      <td>27.5</td>\n",
       "      <td>156.9</td>\n",
       "      <td>99.7</td>\n",
       "      <td>20.8</td>\n",
       "      <td>72.8</td>\n",
       "      <td>NaN</td>\n",
       "      <td>121.6</td>\n",
       "      <td>88.3</td>\n",
       "      <td>16.8</td>\n",
       "      <td>6.0</td>\n",
       "    </tr>\n",
       "  </tbody>\n",
       "</table>\n",
       "</div>"
      ],
      "text/plain": [
       "   country_code  life_ladder  democracy_index  consumer_price_index  \\\n",
       "0             8         5.00             58.9                 119.1   \n",
       "1            12         4.75             40.1                 151.4   \n",
       "2            51         5.49             55.4                 129.2   \n",
       "3            40         7.20             82.9                 118.1   \n",
       "4            31         5.17             27.5                 156.9   \n",
       "\n",
       "   gender_ratio_males_per100_female  infant_mortality_per1000_births  \\\n",
       "0                             103.7                              8.0   \n",
       "1                             102.1                             21.2   \n",
       "2                              88.8                             10.8   \n",
       "3                              97.0                              3.2   \n",
       "4                              99.7                             20.8   \n",
       "\n",
       "   life_expectancy  per_capita_gdp_dollars  population_density  \\\n",
       "0             78.4                     NaN               105.1   \n",
       "1             76.6                     NaN                18.1   \n",
       "2             74.9                     NaN               103.9   \n",
       "3             81.4                     NaN               108.7   \n",
       "4             72.8                     NaN               121.6   \n",
       "\n",
       "   safe_drinking_water_access_pct  seats_held_by_women_pct  unemployment_rate  \n",
       "0                            70.7                     29.3               12.8  \n",
       "1                            72.4                     25.8               11.5  \n",
       "2                            86.9                     24.2               16.6  \n",
       "3                            98.9                     37.2                4.8  \n",
       "4                            88.3                     16.8                6.0  "
      ]
     },
     "execution_count": 55,
     "metadata": {},
     "output_type": "execute_result"
    }
   ],
   "source": [
    "happinessjoined_df.head()"
   ]
  },
  {
   "cell_type": "code",
   "execution_count": 52,
   "id": "2152b333",
   "metadata": {},
   "outputs": [
    {
     "name": "stdout",
     "output_type": "stream",
     "text": [
      "2.4400506035717726e-17\n",
      "1.0\n"
     ]
    }
   ],
   "source": [
    "import numpy as np\n",
    "print(np.mean(happinessjoined_scaled[:,0]))\n",
    "print(np.std(happinessjoined_scaled[:,0]))"
   ]
  },
  {
   "cell_type": "code",
   "execution_count": 53,
   "id": "ef11f9e0",
   "metadata": {},
   "outputs": [
    {
     "ename": "AttributeError",
     "evalue": "'numpy.ndarray' object has no attribute 'head'",
     "output_type": "error",
     "traceback": [
      "\u001b[1;31m---------------------------------------------------------------------------\u001b[0m",
      "\u001b[1;31mAttributeError\u001b[0m                            Traceback (most recent call last)",
      "\u001b[1;32m<ipython-input-53-a1eb1945bed3>\u001b[0m in \u001b[0;36m<module>\u001b[1;34m\u001b[0m\n\u001b[1;32m----> 1\u001b[1;33m \u001b[0mhappinessjoined_scaled\u001b[0m\u001b[1;33m.\u001b[0m\u001b[0mhead\u001b[0m\u001b[1;33m(\u001b[0m\u001b[1;33m)\u001b[0m\u001b[1;33m\u001b[0m\u001b[1;33m\u001b[0m\u001b[0m\n\u001b[0m",
      "\u001b[1;31mAttributeError\u001b[0m: 'numpy.ndarray' object has no attribute 'head'"
     ]
    }
   ],
   "source": []
  },
  {
   "cell_type": "code",
   "execution_count": 51,
   "id": "ac3e7a65",
   "metadata": {},
   "outputs": [
    {
     "ename": "AttributeError",
     "evalue": "'numpy.ndarray' object has no attribute 'head'",
     "output_type": "error",
     "traceback": [
      "\u001b[1;31m---------------------------------------------------------------------------\u001b[0m",
      "\u001b[1;31mAttributeError\u001b[0m                            Traceback (most recent call last)",
      "\u001b[1;32m<ipython-input-51-a1eb1945bed3>\u001b[0m in \u001b[0;36m<module>\u001b[1;34m\u001b[0m\n\u001b[1;32m----> 1\u001b[1;33m \u001b[0mhappinessjoined_scaled\u001b[0m\u001b[1;33m.\u001b[0m\u001b[0mhead\u001b[0m\u001b[1;33m(\u001b[0m\u001b[1;33m)\u001b[0m\u001b[1;33m\u001b[0m\u001b[1;33m\u001b[0m\u001b[0m\n\u001b[0m",
      "\u001b[1;31mAttributeError\u001b[0m: 'numpy.ndarray' object has no attribute 'head'"
     ]
    }
   ],
   "source": []
  },
  {
   "cell_type": "code",
   "execution_count": null,
   "id": "dc088320",
   "metadata": {},
   "outputs": [],
   "source": []
  }
 ],
 "metadata": {
  "kernelspec": {
   "display_name": "Python 3",
   "language": "python",
   "name": "python3"
  },
  "language_info": {
   "codemirror_mode": {
    "name": "ipython",
    "version": 3
   },
   "file_extension": ".py",
   "mimetype": "text/x-python",
   "name": "python",
   "nbconvert_exporter": "python",
   "pygments_lexer": "ipython3",
   "version": "3.7.10"
  }
 },
 "nbformat": 4,
 "nbformat_minor": 5
}
