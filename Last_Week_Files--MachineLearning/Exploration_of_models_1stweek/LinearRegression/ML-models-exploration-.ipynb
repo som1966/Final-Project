{
 "cells": [
  {
   "cell_type": "markdown",
   "id": "842598bd",
   "metadata": {},
   "source": [
    "In this file you will see an attempt and exploration of the two models: Linear and random forest . \n",
    "    we first opted for going for default settings for splts and using all the variables. \n",
    "    please scroll down for results. "
   ]
  },
  {
   "cell_type": "code",
   "execution_count": 1,
   "id": "a7252ddd",
   "metadata": {},
   "outputs": [],
   "source": [
    "import warnings\n",
    "warnings.filterwarnings('ignore')\n",
    "import numpy as np\n",
    "import pandas as pd\n",
    "from pathlib import Path\n",
    "from collections import Counter\n"
   ]
  },
  {
   "cell_type": "code",
   "execution_count": 2,
   "id": "ce7dffdc",
   "metadata": {},
   "outputs": [
    {
     "data": {
      "text/html": [
       "<div>\n",
       "<style scoped>\n",
       "    .dataframe tbody tr th:only-of-type {\n",
       "        vertical-align: middle;\n",
       "    }\n",
       "\n",
       "    .dataframe tbody tr th {\n",
       "        vertical-align: top;\n",
       "    }\n",
       "\n",
       "    .dataframe thead th {\n",
       "        text-align: right;\n",
       "    }\n",
       "</style>\n",
       "<table border=\"1\" class=\"dataframe\">\n",
       "  <thead>\n",
       "    <tr style=\"text-align: right;\">\n",
       "      <th></th>\n",
       "      <th>country_code</th>\n",
       "      <th>country_name</th>\n",
       "      <th>life_ladder</th>\n",
       "      <th>democracy_index</th>\n",
       "      <th>consumer_price_index</th>\n",
       "      <th>gender_ratio_males_per100_female</th>\n",
       "      <th>infant_mortality_per1000_births</th>\n",
       "      <th>life_expectancy</th>\n",
       "      <th>per_capita_gdp_dollars</th>\n",
       "      <th>population_density</th>\n",
       "      <th>safe_drinking_water_access_pct</th>\n",
       "      <th>seats_held_by_women_pct</th>\n",
       "      <th>unemployment_rate</th>\n",
       "    </tr>\n",
       "  </thead>\n",
       "  <tbody>\n",
       "    <tr>\n",
       "      <th>0</th>\n",
       "      <td>8</td>\n",
       "      <td>Albania</td>\n",
       "      <td>4.995</td>\n",
       "      <td>58.9</td>\n",
       "      <td>119.1</td>\n",
       "      <td>103.7</td>\n",
       "      <td>8.0</td>\n",
       "      <td>78.4</td>\n",
       "      <td>5303</td>\n",
       "      <td>105.1</td>\n",
       "      <td>70.7</td>\n",
       "      <td>29.3</td>\n",
       "      <td>12.8</td>\n",
       "    </tr>\n",
       "    <tr>\n",
       "      <th>1</th>\n",
       "      <td>12</td>\n",
       "      <td>Algeria</td>\n",
       "      <td>4.745</td>\n",
       "      <td>40.1</td>\n",
       "      <td>151.4</td>\n",
       "      <td>102.1</td>\n",
       "      <td>21.2</td>\n",
       "      <td>76.6</td>\n",
       "      <td>3976</td>\n",
       "      <td>18.1</td>\n",
       "      <td>72.4</td>\n",
       "      <td>25.8</td>\n",
       "      <td>11.5</td>\n",
       "    </tr>\n",
       "    <tr>\n",
       "      <th>2</th>\n",
       "      <td>51</td>\n",
       "      <td>Armenia</td>\n",
       "      <td>5.488</td>\n",
       "      <td>55.4</td>\n",
       "      <td>129.2</td>\n",
       "      <td>88.8</td>\n",
       "      <td>10.8</td>\n",
       "      <td>74.9</td>\n",
       "      <td>4623</td>\n",
       "      <td>103.9</td>\n",
       "      <td>86.9</td>\n",
       "      <td>24.2</td>\n",
       "      <td>16.6</td>\n",
       "    </tr>\n",
       "    <tr>\n",
       "      <th>3</th>\n",
       "      <td>40</td>\n",
       "      <td>Austria</td>\n",
       "      <td>7.195</td>\n",
       "      <td>82.9</td>\n",
       "      <td>118.1</td>\n",
       "      <td>97.0</td>\n",
       "      <td>3.2</td>\n",
       "      <td>81.4</td>\n",
       "      <td>49701</td>\n",
       "      <td>108.7</td>\n",
       "      <td>98.9</td>\n",
       "      <td>37.2</td>\n",
       "      <td>4.8</td>\n",
       "    </tr>\n",
       "    <tr>\n",
       "      <th>4</th>\n",
       "      <td>31</td>\n",
       "      <td>Azerbaijan</td>\n",
       "      <td>5.173</td>\n",
       "      <td>27.5</td>\n",
       "      <td>156.9</td>\n",
       "      <td>99.7</td>\n",
       "      <td>20.8</td>\n",
       "      <td>72.8</td>\n",
       "      <td>4782</td>\n",
       "      <td>121.6</td>\n",
       "      <td>88.3</td>\n",
       "      <td>16.8</td>\n",
       "      <td>6.0</td>\n",
       "    </tr>\n",
       "  </tbody>\n",
       "</table>\n",
       "</div>"
      ],
      "text/plain": [
       "   country_code country_name  life_ladder  democracy_index  \\\n",
       "0             8      Albania        4.995             58.9   \n",
       "1            12      Algeria        4.745             40.1   \n",
       "2            51      Armenia        5.488             55.4   \n",
       "3            40      Austria        7.195             82.9   \n",
       "4            31   Azerbaijan        5.173             27.5   \n",
       "\n",
       "   consumer_price_index  gender_ratio_males_per100_female  \\\n",
       "0                 119.1                             103.7   \n",
       "1                 151.4                             102.1   \n",
       "2                 129.2                              88.8   \n",
       "3                 118.1                              97.0   \n",
       "4                 156.9                              99.7   \n",
       "\n",
       "   infant_mortality_per1000_births  life_expectancy  per_capita_gdp_dollars  \\\n",
       "0                              8.0             78.4                    5303   \n",
       "1                             21.2             76.6                    3976   \n",
       "2                             10.8             74.9                    4623   \n",
       "3                              3.2             81.4                   49701   \n",
       "4                             20.8             72.8                    4782   \n",
       "\n",
       "   population_density  safe_drinking_water_access_pct  \\\n",
       "0               105.1                            70.7   \n",
       "1                18.1                            72.4   \n",
       "2               103.9                            86.9   \n",
       "3               108.7                            98.9   \n",
       "4               121.6                            88.3   \n",
       "\n",
       "   seats_held_by_women_pct  unemployment_rate  \n",
       "0                     29.3               12.8  \n",
       "1                     25.8               11.5  \n",
       "2                     24.2               16.6  \n",
       "3                     37.2                4.8  \n",
       "4                     16.8                6.0  "
      ]
     },
     "execution_count": 2,
     "metadata": {},
     "output_type": "execute_result"
    }
   ],
   "source": [
    "# Load the data\n",
    "file_path = Path('happiness_joined.csv')\n",
    "happiness_joined_df = pd.read_csv(file_path,encoding=\"ISO-8859-1\")#,index_col=0)\n",
    "# happiness_joined_df = df.loc[:, columns].copy()\n",
    "\n",
    "# df.reset_index(inplace=True, drop=True)\n",
    "\n",
    "happiness_joined_df.head()\n"
   ]
  },
  {
   "cell_type": "code",
   "execution_count": 3,
   "id": "afef0721",
   "metadata": {},
   "outputs": [
    {
     "data": {
      "text/html": [
       "<div>\n",
       "<style scoped>\n",
       "    .dataframe tbody tr th:only-of-type {\n",
       "        vertical-align: middle;\n",
       "    }\n",
       "\n",
       "    .dataframe tbody tr th {\n",
       "        vertical-align: top;\n",
       "    }\n",
       "\n",
       "    .dataframe thead th {\n",
       "        text-align: right;\n",
       "    }\n",
       "</style>\n",
       "<table border=\"1\" class=\"dataframe\">\n",
       "  <thead>\n",
       "    <tr style=\"text-align: right;\">\n",
       "      <th></th>\n",
       "      <th>country_code</th>\n",
       "      <th>country_name</th>\n",
       "      <th>life_ladder</th>\n",
       "      <th>democracy_index</th>\n",
       "      <th>consumer_price_index</th>\n",
       "      <th>gender_ratio_males_per100_female</th>\n",
       "      <th>infant_mortality_per1000_births</th>\n",
       "      <th>life_expectancy</th>\n",
       "      <th>per_capita_gdp_dollars</th>\n",
       "      <th>population_density</th>\n",
       "      <th>safe_drinking_water_access_pct</th>\n",
       "      <th>seats_held_by_women_pct</th>\n",
       "      <th>unemployment_rate</th>\n",
       "    </tr>\n",
       "  </thead>\n",
       "  <tbody>\n",
       "    <tr>\n",
       "      <th>0</th>\n",
       "      <td>8.0</td>\n",
       "      <td>Albania</td>\n",
       "      <td>4.995</td>\n",
       "      <td>58.9</td>\n",
       "      <td>119.1</td>\n",
       "      <td>103.7</td>\n",
       "      <td>8.0</td>\n",
       "      <td>78.4</td>\n",
       "      <td>5303.0</td>\n",
       "      <td>105.1</td>\n",
       "      <td>70.7</td>\n",
       "      <td>29.3</td>\n",
       "      <td>12.8</td>\n",
       "    </tr>\n",
       "    <tr>\n",
       "      <th>1</th>\n",
       "      <td>12.0</td>\n",
       "      <td>Algeria</td>\n",
       "      <td>4.745</td>\n",
       "      <td>40.1</td>\n",
       "      <td>151.4</td>\n",
       "      <td>102.1</td>\n",
       "      <td>21.2</td>\n",
       "      <td>76.6</td>\n",
       "      <td>3976.0</td>\n",
       "      <td>18.1</td>\n",
       "      <td>72.4</td>\n",
       "      <td>25.8</td>\n",
       "      <td>11.5</td>\n",
       "    </tr>\n",
       "    <tr>\n",
       "      <th>2</th>\n",
       "      <td>51.0</td>\n",
       "      <td>Armenia</td>\n",
       "      <td>5.488</td>\n",
       "      <td>55.4</td>\n",
       "      <td>129.2</td>\n",
       "      <td>88.8</td>\n",
       "      <td>10.8</td>\n",
       "      <td>74.9</td>\n",
       "      <td>4623.0</td>\n",
       "      <td>103.9</td>\n",
       "      <td>86.9</td>\n",
       "      <td>24.2</td>\n",
       "      <td>16.6</td>\n",
       "    </tr>\n",
       "    <tr>\n",
       "      <th>3</th>\n",
       "      <td>40.0</td>\n",
       "      <td>Austria</td>\n",
       "      <td>7.195</td>\n",
       "      <td>82.9</td>\n",
       "      <td>118.1</td>\n",
       "      <td>97.0</td>\n",
       "      <td>3.2</td>\n",
       "      <td>81.4</td>\n",
       "      <td>49701.0</td>\n",
       "      <td>108.7</td>\n",
       "      <td>98.9</td>\n",
       "      <td>37.2</td>\n",
       "      <td>4.8</td>\n",
       "    </tr>\n",
       "    <tr>\n",
       "      <th>4</th>\n",
       "      <td>31.0</td>\n",
       "      <td>Azerbaijan</td>\n",
       "      <td>5.173</td>\n",
       "      <td>27.5</td>\n",
       "      <td>156.9</td>\n",
       "      <td>99.7</td>\n",
       "      <td>20.8</td>\n",
       "      <td>72.8</td>\n",
       "      <td>4782.0</td>\n",
       "      <td>121.6</td>\n",
       "      <td>88.3</td>\n",
       "      <td>16.8</td>\n",
       "      <td>6.0</td>\n",
       "    </tr>\n",
       "  </tbody>\n",
       "</table>\n",
       "</div>"
      ],
      "text/plain": [
       "   country_code country_name  life_ladder  democracy_index  \\\n",
       "0           8.0      Albania        4.995             58.9   \n",
       "1          12.0      Algeria        4.745             40.1   \n",
       "2          51.0      Armenia        5.488             55.4   \n",
       "3          40.0      Austria        7.195             82.9   \n",
       "4          31.0   Azerbaijan        5.173             27.5   \n",
       "\n",
       "   consumer_price_index  gender_ratio_males_per100_female  \\\n",
       "0                 119.1                             103.7   \n",
       "1                 151.4                             102.1   \n",
       "2                 129.2                              88.8   \n",
       "3                 118.1                              97.0   \n",
       "4                 156.9                              99.7   \n",
       "\n",
       "   infant_mortality_per1000_births  life_expectancy  per_capita_gdp_dollars  \\\n",
       "0                              8.0             78.4                  5303.0   \n",
       "1                             21.2             76.6                  3976.0   \n",
       "2                             10.8             74.9                  4623.0   \n",
       "3                              3.2             81.4                 49701.0   \n",
       "4                             20.8             72.8                  4782.0   \n",
       "\n",
       "   population_density  safe_drinking_water_access_pct  \\\n",
       "0               105.1                            70.7   \n",
       "1                18.1                            72.4   \n",
       "2               103.9                            86.9   \n",
       "3               108.7                            98.9   \n",
       "4               121.6                            88.3   \n",
       "\n",
       "   seats_held_by_women_pct  unemployment_rate  \n",
       "0                     29.3               12.8  \n",
       "1                     25.8               11.5  \n",
       "2                     24.2               16.6  \n",
       "3                     37.2                4.8  \n",
       "4                     16.8                6.0  "
      ]
     },
     "execution_count": 3,
     "metadata": {},
     "output_type": "execute_result"
    }
   ],
   "source": [
    "happiness_joined_df[['country_code','democracy_index','consumer_price_index','gender_ratio_males_per100_female','infant_mortality_per1000_births','life_expectancy','per_capita_gdp_dollars','population_density','safe_drinking_water_access_pct','seats_held_by_women_pct','unemployment_rate']] = happiness_joined_df[['country_code','democracy_index','consumer_price_index','gender_ratio_males_per100_female','infant_mortality_per1000_births','life_expectancy','per_capita_gdp_dollars','population_density','safe_drinking_water_access_pct','seats_held_by_women_pct','unemployment_rate']].replace({'\\$': '', ',': ''}, regex=True).astype(float)\n",
    "#\n",
    "happiness_joined_df.head()\n",
    "# # REF: https://pbpython.com/currency-cleanup.html"
   ]
  },
  {
   "cell_type": "markdown",
   "id": "35a7b110",
   "metadata": {},
   "source": [
    "## Splitting the Dataset into the Independent Feature Matrix:"
   ]
  },
  {
   "cell_type": "code",
   "execution_count": 4,
   "id": "4194e2c1",
   "metadata": {},
   "outputs": [
    {
     "name": "stdout",
     "output_type": "stream",
     "text": [
      "(91, 13)\n"
     ]
    }
   ],
   "source": [
    "print(happiness_joined_df.shape)"
   ]
  },
  {
   "cell_type": "markdown",
   "id": "0f49b942",
   "metadata": {},
   "source": [
    "## Modeling--Random Forest Regressor"
   ]
  },
  {
   "cell_type": "raw",
   "id": "af876e20",
   "metadata": {},
   "source": [
    "1st to 2nd week of models' exploration and attempts using 75/25 splits and all the 10 x-variables. "
   ]
  },
  {
   "cell_type": "code",
   "execution_count": 5,
   "id": "6ebdf2b4",
   "metadata": {},
   "outputs": [],
   "source": [
    "# select features \n",
    "#X = happiness_joined_df[['democracy_index','consumer_price_index','gender_ratio_males_per100_female','infant_mortality_per1000_births','life_expectancy','per_capita_gdp_dollars','population_density','safe_drinking_water_access_pct','seats_held_by_women_pct','unemployment_rate']]\n",
    "#y = happiness_joined_df[\"life_ladder\"]\n",
    "# ref: https://www.pluralsight.com/guides/importing-and-splitting-data-into-dependent-and-independent-features-for-ml\n",
    "# ref: https://towardsdatascience.com/multiple-regression-as-a-machine-learning-algorithm-a98a6b9f307b\n",
    "\n",
    "\n",
    "target = \"life_ladder\"\n",
    "features = happiness_joined_df.columns.drop([target,\"country_code\",\"country_name\"])#,\"gender_ratio_males_per100_female\",\"unemployment_rate\"])\n",
    "X = happiness_joined_df[features]\n",
    "y = happiness_joined_df[target]"
   ]
  },
  {
   "cell_type": "code",
   "execution_count": 6,
   "id": "118fd870",
   "metadata": {},
   "outputs": [],
   "source": [
    "# Normal train-test split\n",
    "from sklearn.model_selection import train_test_split\n",
    "X_train, X_test, y_train, y_test = train_test_split(X, y, random_state=1)"
   ]
  },
  {
   "cell_type": "code",
   "execution_count": 7,
   "id": "b28d2913",
   "metadata": {},
   "outputs": [],
   "source": [
    "# Resample the training data with the BalancedRandomForestRegression\n",
    "\n",
    "from sklearn.ensemble import RandomForestRegressor\n",
    "rf_model = RandomForestRegressor(n_estimators=100, random_state=78) \n",
    "\n",
    "# instantiate model\n",
    "model = RandomForestRegressor()\n",
    "# ref: https://machinelearningmastery.com/random-forest-ensemble-in-python/\n",
    "# fit model\n",
    "model.fit(X, y)\n",
    "\n",
    "# fit\n",
    "model.fit(X_train, y_train)\n",
    "# predict\n",
    "y_pred = model.predict(X_test)"
   ]
  },
  {
   "cell_type": "code",
   "execution_count": 8,
   "id": "3aa193d7",
   "metadata": {},
   "outputs": [],
   "source": [
    "from sklearn.preprocessing import StandardScaler\n",
    "# 3) Creating a StandardScaler instance.\n",
    "scaler = StandardScaler()\n",
    "# Fitting the Standard Scaler with the training data.\n",
    "X_scaler = scaler.fit(X_train)\n",
    "\n",
    "# 4) Scaling the data.\n",
    "X_train_scaled = X_scaler.transform(X_train)\n",
    "X_test_scaled = X_scaler.transform(X_test)"
   ]
  },
  {
   "cell_type": "code",
   "execution_count": 9,
   "id": "cb5a8986",
   "metadata": {},
   "outputs": [],
   "source": [
    "# Fitting the model\n",
    "rf_model = rf_model.fit(X_train_scaled, y_train)"
   ]
  },
  {
   "cell_type": "code",
   "execution_count": 10,
   "id": "e1cead55",
   "metadata": {},
   "outputs": [
    {
     "data": {
      "text/plain": [
       "array([0.13345339, 0.012872  , 0.03044857, 0.04596921, 0.06993442,\n",
       "       0.56173622, 0.0217716 , 0.07777512, 0.03008983, 0.01594963])"
      ]
     },
     "execution_count": 10,
     "metadata": {},
     "output_type": "execute_result"
    }
   ],
   "source": [
    "# Calculate feature importance in the Random Forest model.\n",
    "importances = rf_model.feature_importances_\n",
    "importances"
   ]
  },
  {
   "cell_type": "code",
   "execution_count": 11,
   "id": "37525ea1",
   "metadata": {},
   "outputs": [
    {
     "name": "stdout",
     "output_type": "stream",
     "text": [
      "(68, 10)\n",
      "(23, 10)\n",
      "(68,)\n",
      "(23,)\n"
     ]
    }
   ],
   "source": [
    "print(X_train.shape)\n",
    "print(X_test.shape)\n",
    "print(y_train.shape)\n",
    "print(y_test.shape)\n",
    "# i have something wrong with the shape stuff \n",
    "\n",
    "# 68/91= 75/split"
   ]
  },
  {
   "cell_type": "code",
   "execution_count": 12,
   "id": "594a21ed",
   "metadata": {},
   "outputs": [
    {
     "data": {
      "text/plain": [
       "0     4.995\n",
       "1     4.745\n",
       "2     5.488\n",
       "3     7.195\n",
       "4     5.173\n",
       "      ...  \n",
       "86    4.948\n",
       "87    4.702\n",
       "88    7.157\n",
       "89    6.944\n",
       "90    6.154\n",
       "Name: life_ladder, Length: 91, dtype: float64"
      ]
     },
     "execution_count": 12,
     "metadata": {},
     "output_type": "execute_result"
    }
   ],
   "source": [
    "# Use get_dummies() to create variables for text features.\n",
    "# YOUR CODE HERE\n",
    "# X = happiness_joined_df.copy()\n",
    "# X = pd.get_dummies(X, columns = [\"Algorithm\", \"ProofType\"])\n",
    "# X\n",
    "y"
   ]
  },
  {
   "cell_type": "code",
   "execution_count": 13,
   "id": "c6b04b06",
   "metadata": {},
   "outputs": [
    {
     "name": "stdout",
     "output_type": "stream",
     "text": [
      "4.195989960715665e-16\n",
      "-0.3231427339702866\n",
      "1.0\n",
      "0.9622616262978819\n"
     ]
    }
   ],
   "source": [
    "print(np.mean(X_train_scaled[:,0]))\n",
    "print(np.mean(X_test_scaled[:,0]))\n",
    "print(np.std(X_train_scaled[:,0]))\n",
    "print(np.std(X_test_scaled[:,0]))"
   ]
  },
  {
   "cell_type": "code",
   "execution_count": 14,
   "id": "83cfa717",
   "metadata": {},
   "outputs": [
    {
     "data": {
      "text/plain": [
       "[(0.5617362226738501, 'per_capita_gdp_dollars'),\n",
       " (0.13345339305532836, 'democracy_index'),\n",
       " (0.07777511834082675, 'safe_drinking_water_access_pct'),\n",
       " (0.06993442338309663, 'life_expectancy'),\n",
       " (0.04596921031861803, 'infant_mortality_per1000_births'),\n",
       " (0.03044857044347941, 'gender_ratio_males_per100_female'),\n",
       " (0.03008982898122119, 'seats_held_by_women_pct'),\n",
       " (0.021771601391520935, 'population_density'),\n",
       " (0.015949634590708407, 'unemployment_rate'),\n",
       " (0.012871996821350306, 'consumer_price_index')]"
      ]
     },
     "execution_count": 14,
     "metadata": {},
     "output_type": "execute_result"
    }
   ],
   "source": [
    "# We can sort the features by their importance.\n",
    "sorted(zip(rf_model.feature_importances_, X.columns), reverse=True)\n",
    "# drop two columns that has r value lesser to improve the r value ---> not good deciion, lesser R^2 val\n",
    "# life ladder y-dependent value change to life expectancy and see. ---> R^2 value increased to 0.854!!!\n",
    "# marc "
   ]
  },
  {
   "cell_type": "code",
   "execution_count": 15,
   "id": "daea35c7",
   "metadata": {},
   "outputs": [
    {
     "name": "stdout",
     "output_type": "stream",
     "text": [
      "R2score: 0.37548906479987265\n",
      "root mean squared error:  0.7388820940183\n"
     ]
    }
   ],
   "source": [
    "# model evaluation\n",
    "# ref: https://towardsdatascience.com/multiple-regression-as-a-machine-learning-algorithm-a98a6b9f307b\n",
    "from sklearn.metrics import r2_score, mean_squared_error\n",
    "score = r2_score(y_test, y_pred)\n",
    "print(\"R2score:\", score)\n",
    "rmse = mean_squared_error(y_test, y_pred, squared=False)\n",
    "print('root mean squared error: ', rmse)\n",
    "# these R^2 value and rmse score!!!!\n",
    "#get more data\n",
    "# get more data\n",
    "# get more models"
   ]
  },
  {
   "cell_type": "code",
   "execution_count": 16,
   "id": "4fa92687",
   "metadata": {
    "scrolled": true
   },
   "outputs": [
    {
     "data": {
      "text/html": [
       "<div>\n",
       "<style scoped>\n",
       "    .dataframe tbody tr th:only-of-type {\n",
       "        vertical-align: middle;\n",
       "    }\n",
       "\n",
       "    .dataframe tbody tr th {\n",
       "        vertical-align: top;\n",
       "    }\n",
       "\n",
       "    .dataframe thead th {\n",
       "        text-align: right;\n",
       "    }\n",
       "</style>\n",
       "<table border=\"1\" class=\"dataframe\">\n",
       "  <thead>\n",
       "    <tr style=\"text-align: right;\">\n",
       "      <th></th>\n",
       "      <th>Prediction</th>\n",
       "      <th>Actual</th>\n",
       "    </tr>\n",
       "  </thead>\n",
       "  <tbody>\n",
       "    <tr>\n",
       "      <th>0</th>\n",
       "      <td>7.34012</td>\n",
       "      <td>7.425</td>\n",
       "    </tr>\n",
       "    <tr>\n",
       "      <th>1</th>\n",
       "      <td>7.01407</td>\n",
       "      <td>7.157</td>\n",
       "    </tr>\n",
       "    <tr>\n",
       "      <th>2</th>\n",
       "      <td>4.59294</td>\n",
       "      <td>5.197</td>\n",
       "    </tr>\n",
       "    <tr>\n",
       "      <th>3</th>\n",
       "      <td>5.33611</td>\n",
       "      <td>5.057</td>\n",
       "    </tr>\n",
       "    <tr>\n",
       "      <th>4</th>\n",
       "      <td>5.67283</td>\n",
       "      <td>5.441</td>\n",
       "    </tr>\n",
       "    <tr>\n",
       "      <th>5</th>\n",
       "      <td>4.66331</td>\n",
       "      <td>4.948</td>\n",
       "    </tr>\n",
       "    <tr>\n",
       "      <th>6</th>\n",
       "      <td>5.43173</td>\n",
       "      <td>6.113</td>\n",
       "    </tr>\n",
       "    <tr>\n",
       "      <th>7</th>\n",
       "      <td>5.55337</td>\n",
       "      <td>6.432</td>\n",
       "    </tr>\n",
       "    <tr>\n",
       "      <th>8</th>\n",
       "      <td>5.26223</td>\n",
       "      <td>3.512</td>\n",
       "    </tr>\n",
       "    <tr>\n",
       "      <th>9</th>\n",
       "      <td>5.12864</td>\n",
       "      <td>4.453</td>\n",
       "    </tr>\n",
       "    <tr>\n",
       "      <th>10</th>\n",
       "      <td>5.43856</td>\n",
       "      <td>6.272</td>\n",
       "    </tr>\n",
       "    <tr>\n",
       "      <th>11</th>\n",
       "      <td>5.31437</td>\n",
       "      <td>6.262</td>\n",
       "    </tr>\n",
       "    <tr>\n",
       "      <th>12</th>\n",
       "      <td>6.65960</td>\n",
       "      <td>5.903</td>\n",
       "    </tr>\n",
       "    <tr>\n",
       "      <th>13</th>\n",
       "      <td>5.40441</td>\n",
       "      <td>4.892</td>\n",
       "    </tr>\n",
       "    <tr>\n",
       "      <th>14</th>\n",
       "      <td>6.74948</td>\n",
       "      <td>5.908</td>\n",
       "    </tr>\n",
       "    <tr>\n",
       "      <th>15</th>\n",
       "      <td>6.52771</td>\n",
       "      <td>6.095</td>\n",
       "    </tr>\n",
       "    <tr>\n",
       "      <th>16</th>\n",
       "      <td>5.71471</td>\n",
       "      <td>6.451</td>\n",
       "    </tr>\n",
       "    <tr>\n",
       "      <th>17</th>\n",
       "      <td>5.40756</td>\n",
       "      <td>5.488</td>\n",
       "    </tr>\n",
       "    <tr>\n",
       "      <th>18</th>\n",
       "      <td>5.17882</td>\n",
       "      <td>6.154</td>\n",
       "    </tr>\n",
       "    <tr>\n",
       "      <th>19</th>\n",
       "      <td>4.60953</td>\n",
       "      <td>4.179</td>\n",
       "    </tr>\n",
       "  </tbody>\n",
       "</table>\n",
       "</div>"
      ],
      "text/plain": [
       "    Prediction  Actual\n",
       "0      7.34012   7.425\n",
       "1      7.01407   7.157\n",
       "2      4.59294   5.197\n",
       "3      5.33611   5.057\n",
       "4      5.67283   5.441\n",
       "5      4.66331   4.948\n",
       "6      5.43173   6.113\n",
       "7      5.55337   6.432\n",
       "8      5.26223   3.512\n",
       "9      5.12864   4.453\n",
       "10     5.43856   6.272\n",
       "11     5.31437   6.262\n",
       "12     6.65960   5.903\n",
       "13     5.40441   4.892\n",
       "14     6.74948   5.908\n",
       "15     6.52771   6.095\n",
       "16     5.71471   6.451\n",
       "17     5.40756   5.488\n",
       "18     5.17882   6.154\n",
       "19     4.60953   4.179"
      ]
     },
     "execution_count": 16,
     "metadata": {},
     "output_type": "execute_result"
    }
   ],
   "source": [
    "# Make predictions using the test data\n",
    "y_pred = model.predict(X_test)\n",
    "results = pd.DataFrame({\n",
    "    \"Prediction\": y_pred, \n",
    "    \"Actual\": y_test\n",
    "}).reset_index(drop=True)\n",
    "results.head(20)"
   ]
  },
  {
   "cell_type": "markdown",
   "id": "7a708d45",
   "metadata": {},
   "source": [
    "## Modeling -- linear regression using all 10 indep variables and 75/25 split to see the R2 score and rmse score"
   ]
  },
  {
   "cell_type": "code",
   "execution_count": 18,
   "id": "025dca1d",
   "metadata": {
    "scrolled": true
   },
   "outputs": [
    {
     "name": "stdout",
     "output_type": "stream",
     "text": [
      "X_train_shape: (68, 10)\n",
      "X_TEST_Shape: (23, 10)\n",
      "y_train_shape: (68,)\n",
      "y_test_shape: (23,)\n",
      "X_train_mean: 4.195989960715665e-16\n",
      "X_test_mean: -0.3231427339702866\n",
      "X_train_std: 1.0\n",
      "X_test_std: 0.9622616262978819\n",
      "R2score: 0.31149914868015516\n",
      "root mean squared error:  0.7758135476468829\n",
      "linear coeff: [ 1.39875469e-02 -7.59885763e-04  1.25680578e-02 -2.71958893e-03\n",
      " -1.05036031e-02  1.31049635e-05 -5.34933257e-05  1.50991496e-02\n",
      "  1.13603845e-02 -9.02277156e-03]\n",
      "linear intercept: 3.0553865340166437\n"
     ]
    }
   ],
   "source": [
    "from sklearn import linear_model\n",
    "from sklearn.linear_model import LinearRegression\n",
    "# instantiate model\n",
    "model = linear_model.LinearRegression()\n",
    "# fit model\n",
    "model.fit(X, y)\n",
    "\n",
    "# fit\n",
    "model.fit(X_train, y_train)\n",
    "# predict\n",
    "y_pred = model.predict(X_test)\n",
    "\n",
    "from sklearn.preprocessing import StandardScaler\n",
    "# 3) Creating a StandardScaler instance.\n",
    "scaler = StandardScaler()\n",
    "# Fitting the Standard Scaler with the training data.\n",
    "X_scaler = scaler.fit(X_train)\n",
    "\n",
    "# 4) Scaling the data.\n",
    "X_train_scaled = X_scaler.transform(X_train)\n",
    "X_test_scaled = X_scaler.transform(X_test)\n",
    "\n",
    "print(\"X_train_shape:\",X_train.shape)\n",
    "print(\"X_TEST_Shape:\",X_test.shape)\n",
    "print(\"y_train_shape:\",y_train.shape)\n",
    "print(\"y_test_shape:\", y_test.shape)\n",
    "\n",
    "print(\"X_train_mean:\", np.mean(X_train_scaled[:,0]))\n",
    "print(\"X_test_mean:\", np.mean(X_test_scaled[:,0]))\n",
    "print(\"X_train_std:\", np.std(X_train_scaled[:,0]))\n",
    "print(\"X_test_std:\" , np.std(X_test_scaled[:,0]))\n",
    "\n",
    "# model evaluation\n",
    "# ref: https://towardsdatascience.com/multiple-regression-as-a-machine-learning-algorithm-a98a6b9f307b\n",
    "from sklearn.metrics import r2_score, mean_squared_error\n",
    "score10 = r2_score(y_test, y_pred)\n",
    "print(\"R2score:\", score10)\n",
    "rmse10 = mean_squared_error(y_test, y_pred, squared=False)\n",
    "print('root mean squared error: ', rmse10)\n",
    "# ref: https://datagy.io/python-sklearn-linear-regression/\n",
    "\n",
    "# The slope\n",
    "# The y-intercept\n",
    "print(\"linear coeff:\", model.coef_)\n",
    "print(\"linear intercept:\",model.intercept_)"
   ]
  },
  {
   "cell_type": "code",
   "execution_count": 19,
   "id": "cf1177e5",
   "metadata": {
    "scrolled": true
   },
   "outputs": [
    {
     "data": {
      "text/html": [
       "<div>\n",
       "<style scoped>\n",
       "    .dataframe tbody tr th:only-of-type {\n",
       "        vertical-align: middle;\n",
       "    }\n",
       "\n",
       "    .dataframe tbody tr th {\n",
       "        vertical-align: top;\n",
       "    }\n",
       "\n",
       "    .dataframe thead th {\n",
       "        text-align: right;\n",
       "    }\n",
       "</style>\n",
       "<table border=\"1\" class=\"dataframe\">\n",
       "  <thead>\n",
       "    <tr style=\"text-align: right;\">\n",
       "      <th></th>\n",
       "      <th>Prediction</th>\n",
       "      <th>Actual</th>\n",
       "    </tr>\n",
       "  </thead>\n",
       "  <tbody>\n",
       "    <tr>\n",
       "      <th>0</th>\n",
       "      <td>7.111763</td>\n",
       "      <td>7.425</td>\n",
       "    </tr>\n",
       "    <tr>\n",
       "      <th>1</th>\n",
       "      <td>6.885911</td>\n",
       "      <td>7.157</td>\n",
       "    </tr>\n",
       "    <tr>\n",
       "      <th>2</th>\n",
       "      <td>4.311838</td>\n",
       "      <td>5.197</td>\n",
       "    </tr>\n",
       "    <tr>\n",
       "      <th>3</th>\n",
       "      <td>5.469292</td>\n",
       "      <td>5.057</td>\n",
       "    </tr>\n",
       "    <tr>\n",
       "      <th>4</th>\n",
       "      <td>5.104243</td>\n",
       "      <td>5.441</td>\n",
       "    </tr>\n",
       "  </tbody>\n",
       "</table>\n",
       "</div>"
      ],
      "text/plain": [
       "   Prediction  Actual\n",
       "0    7.111763   7.425\n",
       "1    6.885911   7.157\n",
       "2    4.311838   5.197\n",
       "3    5.469292   5.057\n",
       "4    5.104243   5.441"
      ]
     },
     "execution_count": 19,
     "metadata": {},
     "output_type": "execute_result"
    }
   ],
   "source": [
    "# Make predictions using the test data\n",
    "y_pred = model.predict(X_test)\n",
    "results = pd.DataFrame({\n",
    "    \"Prediction\": y_pred, \n",
    "    \"Actual\": y_test\n",
    "}).reset_index(drop=True)\n",
    "results.head()\n"
   ]
  },
  {
   "cell_type": "markdown",
   "id": "3e988712",
   "metadata": {},
   "source": [
    "## when comparing the linear regression model with the code of Ordinary Least Squares (OLS), it is noticed that with no split the r2 score is good. "
   ]
  },
  {
   "cell_type": "code",
   "execution_count": 20,
   "id": "a4d57d6d",
   "metadata": {},
   "outputs": [
    {
     "name": "stdout",
     "output_type": "stream",
     "text": [
      "                            OLS Regression Results                            \n",
      "==============================================================================\n",
      "Dep. Variable:            life_ladder   R-squared:                       0.747\n",
      "Model:                            OLS   Adj. R-squared:                  0.715\n",
      "Method:                 Least Squares   F-statistic:                     23.60\n",
      "Date:                Fri, 04 Feb 2022   Prob (F-statistic):           5.95e-20\n",
      "Time:                        09:50:40   Log-Likelihood:                -71.284\n",
      "No. Observations:                  91   AIC:                             164.6\n",
      "Df Residuals:                      80   BIC:                             192.2\n",
      "Df Model:                          10                                         \n",
      "Covariance Type:            nonrobust                                         \n",
      "====================================================================================================\n",
      "                                       coef    std err          t      P>|t|      [0.025      0.975]\n",
      "----------------------------------------------------------------------------------------------------\n",
      "const                                4.2506      2.169      1.960      0.053      -0.065       8.566\n",
      "democracy_index                      0.0054      0.005      1.127      0.263      -0.004       0.015\n",
      "consumer_price_index                -0.0011      0.001     -0.855      0.395      -0.004       0.001\n",
      "gender_ratio_males_per100_female     0.0084      0.006      1.408      0.163      -0.003       0.020\n",
      "infant_mortality_per1000_births     -0.0118      0.010     -1.159      0.250      -0.032       0.008\n",
      "life_expectancy                     -0.0051      0.027     -0.191      0.849      -0.059       0.049\n",
      "per_capita_gdp_dollars            1.501e-05   4.35e-06      3.454      0.001    6.36e-06    2.37e-05\n",
      "population_density               -9.175e-05    7.2e-05     -1.274      0.206      -0.000    5.16e-05\n",
      "safe_drinking_water_access_pct       0.0106      0.005      2.048      0.044       0.000       0.021\n",
      "seats_held_by_women_pct              0.0133      0.007      2.037      0.045       0.000       0.026\n",
      "unemployment_rate                   -0.0387      0.015     -2.611      0.011      -0.068      -0.009\n",
      "==============================================================================\n",
      "Omnibus:                        8.205   Durbin-Watson:                   1.850\n",
      "Prob(Omnibus):                  0.017   Jarque-Bera (JB):                8.625\n",
      "Skew:                          -0.532   Prob(JB):                       0.0134\n",
      "Kurtosis:                       4.068   Cond. No.                     1.14e+06\n",
      "==============================================================================\n",
      "\n",
      "Notes:\n",
      "[1] Standard Errors assume that the covariance matrix of the errors is correctly specified.\n",
      "[2] The condition number is large, 1.14e+06. This might indicate that there are\n",
      "strong multicollinearity or other numerical problems.\n"
     ]
    }
   ],
   "source": [
    "import statsmodels.api as sm\n",
    "X2 = sm.add_constant(X)\n",
    "est = sm.OLS(y, X2)\n",
    "est2 = est.fit()\n",
    "print(est2.summary())# delete the code "
   ]
  },
  {
   "cell_type": "markdown",
   "id": "7feba885",
   "metadata": {},
   "source": [
    "## when we choose linear regression model for no split"
   ]
  },
  {
   "cell_type": "code",
   "execution_count": 21,
   "id": "b6557489",
   "metadata": {},
   "outputs": [
    {
     "name": "stdout",
     "output_type": "stream",
     "text": [
      "X_shape: (91, 10)\n",
      "y_shape: (91,)\n",
      "-6.417333087393762e-16\n",
      "-6.417333087393762e-16\n",
      "1.0\n",
      "1.0\n",
      "R2score: 0.7468647296388298\n",
      "root mean squared error:  0.5296185796769222\n"
     ]
    }
   ],
   "source": [
    "from sklearn import linear_model\n",
    "from sklearn.linear_model import LinearRegression\n",
    "# instantiate model\n",
    "model = linear_model.LinearRegression()\n",
    "# fit model\n",
    "model.fit(X, y)\n",
    "\n",
    "# fit\n",
    "model.fit(X, y)\n",
    "# predict\n",
    "y_pred = model.predict(X)\n",
    "\n",
    "from sklearn.preprocessing import StandardScaler\n",
    "# 3) Creating a StandardScaler instance.\n",
    "scaler = StandardScaler()\n",
    "# Fitting the Standard Scaler with the training data.\n",
    "X_scaler = scaler.fit(X)\n",
    "\n",
    "# 4) Scaling the data.\n",
    "X_train_scaled = X_scaler.transform(X)\n",
    "X_test_scaled = X_scaler.transform(X)\n",
    "\n",
    "print(\"X_shape:\", X.shape)\n",
    "print(\"y_shape:\", y.shape)\n",
    "\n",
    "print(np.mean(X_train_scaled[:,0]))\n",
    "print(np.mean(X_test_scaled[:,0]))\n",
    "print(np.std(X_train_scaled[:,0]))\n",
    "print(np.std(X_test_scaled[:,0]))\n",
    "\n",
    "# model evaluation\n",
    "# ref: https://towardsdatascience.com/multiple-regression-as-a-machine-learning-algorithm-a98a6b9f307b\n",
    "from sklearn.metrics import r2_score, mean_squared_error\n",
    "score_no_split_linear = r2_score(y, y_pred)\n",
    "print(\"R2score:\", score_no_split_linear)\n",
    "rmse_no_split_linear = mean_squared_error(y, y_pred, squared=False)\n",
    "print('root mean squared error: ', rmse_no_split_linear)\n",
    "# ref: https://datagy.io/python-sklearn-linear-regression/"
   ]
  },
  {
   "cell_type": "code",
   "execution_count": 22,
   "id": "861c6054",
   "metadata": {
    "scrolled": true
   },
   "outputs": [
    {
     "name": "stdout",
     "output_type": "stream",
     "text": [
      "linear_no_split_coeff: [ 5.42824361e-03 -1.08394259e-03  8.44581303e-03 -1.17775066e-02\n",
      " -5.14907271e-03  1.50106173e-05 -9.17489248e-05  1.05906124e-02\n",
      "  1.32819430e-02 -3.86807627e-02]\n",
      "linear_no_split_intercept: 4.250566610596507\n"
     ]
    }
   ],
   "source": [
    "# Make predictions using the test data\n",
    "y_pred = model.predict(X)\n",
    "results = pd.DataFrame({\n",
    "    \"Prediction\": y_pred, \n",
    "    \"Actual\": y\n",
    "}).reset_index(drop=True)\n",
    "results.head()\n",
    "\n",
    "# The slope\n",
    "# The y-intercept\n",
    "print(\"linear_no_split_coeff:\" , model.coef_)\n",
    "print(\"linear_no_split_intercept:\" , model.intercept_)"
   ]
  },
  {
   "cell_type": "markdown",
   "id": "0f2207cc",
   "metadata": {},
   "source": [
    "## now to ensure our linear model is working fine by seeing its accuracy, it was decided to lower RMSE scores to lower down by deleting highest p-values x-variables one by one and rerun the model. \n",
    "## ---> so to see the next results, please refer to NaN_Splits file of the linear model... "
   ]
  },
  {
   "cell_type": "code",
   "execution_count": null,
   "id": "38ed3fcf",
   "metadata": {},
   "outputs": [],
   "source": []
  },
  {
   "cell_type": "code",
   "execution_count": null,
   "id": "bb4fb208",
   "metadata": {},
   "outputs": [],
   "source": []
  },
  {
   "cell_type": "code",
   "execution_count": null,
   "id": "d6b8ee6c",
   "metadata": {},
   "outputs": [],
   "source": [
    "# Make predictions using the test data\n",
    "y_pred = model.predict(X)\n",
    "results = pd.DataFrame({\n",
    "    \"Prediction\": y_pred, \n",
    "    \"Actual\": y\n",
    "}).reset_index(drop=True)\n",
    "results.head()\n",
    "\n",
    "# The slope\n",
    "# The y-intercept\n",
    "print(\"linear_no_split_coeff:\" , model.coef_)\n",
    "print(\"linear_no_split_intercept:\" , model.intercept_)"
   ]
  }
 ],
 "metadata": {
  "kernelspec": {
   "display_name": "mlenv",
   "language": "python",
   "name": "mlenv"
  },
  "language_info": {
   "codemirror_mode": {
    "name": "ipython",
    "version": 3
   },
   "file_extension": ".py",
   "mimetype": "text/x-python",
   "name": "python",
   "nbconvert_exporter": "python",
   "pygments_lexer": "ipython3",
   "version": "3.7.11"
  }
 },
 "nbformat": 4,
 "nbformat_minor": 5
}
