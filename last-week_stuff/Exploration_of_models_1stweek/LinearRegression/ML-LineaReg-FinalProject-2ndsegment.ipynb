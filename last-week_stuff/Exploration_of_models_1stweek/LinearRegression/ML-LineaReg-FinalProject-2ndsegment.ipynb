{
 "cells": [
  {
   "cell_type": "markdown",
   "id": "2f00ced0",
   "metadata": {},
   "source": [
    "reran the models by deleting the x-variables' highest p-values to see any change in the score\n",
    "## this is to find th ebest regression and RMSE score for the model "
   ]
  },
  {
   "cell_type": "code",
   "execution_count": 1,
   "id": "2915970a",
   "metadata": {},
   "outputs": [],
   "source": [
    "import warnings\n",
    "warnings.filterwarnings('ignore')\n",
    "import numpy as np\n",
    "import pandas as pd\n",
    "from pathlib import Path\n",
    "from collections import Counter\n"
   ]
  },
  {
   "cell_type": "code",
   "execution_count": 2,
   "id": "95f32522",
   "metadata": {},
   "outputs": [
    {
     "data": {
      "text/html": [
       "<div>\n",
       "<style scoped>\n",
       "    .dataframe tbody tr th:only-of-type {\n",
       "        vertical-align: middle;\n",
       "    }\n",
       "\n",
       "    .dataframe tbody tr th {\n",
       "        vertical-align: top;\n",
       "    }\n",
       "\n",
       "    .dataframe thead th {\n",
       "        text-align: right;\n",
       "    }\n",
       "</style>\n",
       "<table border=\"1\" class=\"dataframe\">\n",
       "  <thead>\n",
       "    <tr style=\"text-align: right;\">\n",
       "      <th></th>\n",
       "      <th>country_code</th>\n",
       "      <th>country_name</th>\n",
       "      <th>life_ladder</th>\n",
       "      <th>democracy_index</th>\n",
       "      <th>consumer_price_index</th>\n",
       "      <th>gender_ratio_males_per100_female</th>\n",
       "      <th>infant_mortality_per1000_births</th>\n",
       "      <th>life_expectancy</th>\n",
       "      <th>per_capita_gdp_dollars</th>\n",
       "      <th>population_density</th>\n",
       "      <th>safe_drinking_water_access_pct</th>\n",
       "      <th>seats_held_by_women_pct</th>\n",
       "      <th>unemployment_rate</th>\n",
       "    </tr>\n",
       "  </thead>\n",
       "  <tbody>\n",
       "    <tr>\n",
       "      <th>0</th>\n",
       "      <td>8</td>\n",
       "      <td>Albania</td>\n",
       "      <td>4.995</td>\n",
       "      <td>58.9</td>\n",
       "      <td>119.1</td>\n",
       "      <td>103.7</td>\n",
       "      <td>8.0</td>\n",
       "      <td>78.4</td>\n",
       "      <td>5303</td>\n",
       "      <td>105.1</td>\n",
       "      <td>70.7</td>\n",
       "      <td>29.3</td>\n",
       "      <td>12.8</td>\n",
       "    </tr>\n",
       "    <tr>\n",
       "      <th>1</th>\n",
       "      <td>12</td>\n",
       "      <td>Algeria</td>\n",
       "      <td>4.745</td>\n",
       "      <td>40.1</td>\n",
       "      <td>151.4</td>\n",
       "      <td>102.1</td>\n",
       "      <td>21.2</td>\n",
       "      <td>76.6</td>\n",
       "      <td>3976</td>\n",
       "      <td>18.1</td>\n",
       "      <td>72.4</td>\n",
       "      <td>25.8</td>\n",
       "      <td>11.5</td>\n",
       "    </tr>\n",
       "    <tr>\n",
       "      <th>2</th>\n",
       "      <td>51</td>\n",
       "      <td>Armenia</td>\n",
       "      <td>5.488</td>\n",
       "      <td>55.4</td>\n",
       "      <td>129.2</td>\n",
       "      <td>88.8</td>\n",
       "      <td>10.8</td>\n",
       "      <td>74.9</td>\n",
       "      <td>4623</td>\n",
       "      <td>103.9</td>\n",
       "      <td>86.9</td>\n",
       "      <td>24.2</td>\n",
       "      <td>16.6</td>\n",
       "    </tr>\n",
       "    <tr>\n",
       "      <th>3</th>\n",
       "      <td>40</td>\n",
       "      <td>Austria</td>\n",
       "      <td>7.195</td>\n",
       "      <td>82.9</td>\n",
       "      <td>118.1</td>\n",
       "      <td>97.0</td>\n",
       "      <td>3.2</td>\n",
       "      <td>81.4</td>\n",
       "      <td>49701</td>\n",
       "      <td>108.7</td>\n",
       "      <td>98.9</td>\n",
       "      <td>37.2</td>\n",
       "      <td>4.8</td>\n",
       "    </tr>\n",
       "    <tr>\n",
       "      <th>4</th>\n",
       "      <td>31</td>\n",
       "      <td>Azerbaijan</td>\n",
       "      <td>5.173</td>\n",
       "      <td>27.5</td>\n",
       "      <td>156.9</td>\n",
       "      <td>99.7</td>\n",
       "      <td>20.8</td>\n",
       "      <td>72.8</td>\n",
       "      <td>4782</td>\n",
       "      <td>121.6</td>\n",
       "      <td>88.3</td>\n",
       "      <td>16.8</td>\n",
       "      <td>6.0</td>\n",
       "    </tr>\n",
       "  </tbody>\n",
       "</table>\n",
       "</div>"
      ],
      "text/plain": [
       "   country_code country_name  life_ladder  democracy_index  \\\n",
       "0             8      Albania        4.995             58.9   \n",
       "1            12      Algeria        4.745             40.1   \n",
       "2            51      Armenia        5.488             55.4   \n",
       "3            40      Austria        7.195             82.9   \n",
       "4            31   Azerbaijan        5.173             27.5   \n",
       "\n",
       "   consumer_price_index  gender_ratio_males_per100_female  \\\n",
       "0                 119.1                             103.7   \n",
       "1                 151.4                             102.1   \n",
       "2                 129.2                              88.8   \n",
       "3                 118.1                              97.0   \n",
       "4                 156.9                              99.7   \n",
       "\n",
       "   infant_mortality_per1000_births  life_expectancy  per_capita_gdp_dollars  \\\n",
       "0                              8.0             78.4                    5303   \n",
       "1                             21.2             76.6                    3976   \n",
       "2                             10.8             74.9                    4623   \n",
       "3                              3.2             81.4                   49701   \n",
       "4                             20.8             72.8                    4782   \n",
       "\n",
       "   population_density  safe_drinking_water_access_pct  \\\n",
       "0               105.1                            70.7   \n",
       "1                18.1                            72.4   \n",
       "2               103.9                            86.9   \n",
       "3               108.7                            98.9   \n",
       "4               121.6                            88.3   \n",
       "\n",
       "   seats_held_by_women_pct  unemployment_rate  \n",
       "0                     29.3               12.8  \n",
       "1                     25.8               11.5  \n",
       "2                     24.2               16.6  \n",
       "3                     37.2                4.8  \n",
       "4                     16.8                6.0  "
      ]
     },
     "execution_count": 2,
     "metadata": {},
     "output_type": "execute_result"
    }
   ],
   "source": [
    "# Load the data\n",
    "file_path = Path('happiness_joined.csv')\n",
    "happiness_joined_df = pd.read_csv(file_path,encoding=\"ISO-8859-1\")#,index_col=0)\n",
    "# happiness_joined_df = df.loc[:, columns].copy()\n",
    "\n",
    "# df.reset_index(inplace=True, drop=True)\n",
    "\n",
    "happiness_joined_df.head()\n"
   ]
  },
  {
   "cell_type": "code",
   "execution_count": 3,
   "id": "bd1eee3c",
   "metadata": {},
   "outputs": [
    {
     "data": {
      "text/html": [
       "<div>\n",
       "<style scoped>\n",
       "    .dataframe tbody tr th:only-of-type {\n",
       "        vertical-align: middle;\n",
       "    }\n",
       "\n",
       "    .dataframe tbody tr th {\n",
       "        vertical-align: top;\n",
       "    }\n",
       "\n",
       "    .dataframe thead th {\n",
       "        text-align: right;\n",
       "    }\n",
       "</style>\n",
       "<table border=\"1\" class=\"dataframe\">\n",
       "  <thead>\n",
       "    <tr style=\"text-align: right;\">\n",
       "      <th></th>\n",
       "      <th>country_code</th>\n",
       "      <th>country_name</th>\n",
       "      <th>life_ladder</th>\n",
       "      <th>democracy_index</th>\n",
       "      <th>consumer_price_index</th>\n",
       "      <th>gender_ratio_males_per100_female</th>\n",
       "      <th>infant_mortality_per1000_births</th>\n",
       "      <th>life_expectancy</th>\n",
       "      <th>per_capita_gdp_dollars</th>\n",
       "      <th>population_density</th>\n",
       "      <th>safe_drinking_water_access_pct</th>\n",
       "      <th>seats_held_by_women_pct</th>\n",
       "      <th>unemployment_rate</th>\n",
       "    </tr>\n",
       "  </thead>\n",
       "  <tbody>\n",
       "    <tr>\n",
       "      <th>0</th>\n",
       "      <td>8.0</td>\n",
       "      <td>Albania</td>\n",
       "      <td>4.995</td>\n",
       "      <td>58.9</td>\n",
       "      <td>119.1</td>\n",
       "      <td>103.7</td>\n",
       "      <td>8.0</td>\n",
       "      <td>78.4</td>\n",
       "      <td>5303.0</td>\n",
       "      <td>105.1</td>\n",
       "      <td>70.7</td>\n",
       "      <td>29.3</td>\n",
       "      <td>12.8</td>\n",
       "    </tr>\n",
       "    <tr>\n",
       "      <th>1</th>\n",
       "      <td>12.0</td>\n",
       "      <td>Algeria</td>\n",
       "      <td>4.745</td>\n",
       "      <td>40.1</td>\n",
       "      <td>151.4</td>\n",
       "      <td>102.1</td>\n",
       "      <td>21.2</td>\n",
       "      <td>76.6</td>\n",
       "      <td>3976.0</td>\n",
       "      <td>18.1</td>\n",
       "      <td>72.4</td>\n",
       "      <td>25.8</td>\n",
       "      <td>11.5</td>\n",
       "    </tr>\n",
       "    <tr>\n",
       "      <th>2</th>\n",
       "      <td>51.0</td>\n",
       "      <td>Armenia</td>\n",
       "      <td>5.488</td>\n",
       "      <td>55.4</td>\n",
       "      <td>129.2</td>\n",
       "      <td>88.8</td>\n",
       "      <td>10.8</td>\n",
       "      <td>74.9</td>\n",
       "      <td>4623.0</td>\n",
       "      <td>103.9</td>\n",
       "      <td>86.9</td>\n",
       "      <td>24.2</td>\n",
       "      <td>16.6</td>\n",
       "    </tr>\n",
       "    <tr>\n",
       "      <th>3</th>\n",
       "      <td>40.0</td>\n",
       "      <td>Austria</td>\n",
       "      <td>7.195</td>\n",
       "      <td>82.9</td>\n",
       "      <td>118.1</td>\n",
       "      <td>97.0</td>\n",
       "      <td>3.2</td>\n",
       "      <td>81.4</td>\n",
       "      <td>49701.0</td>\n",
       "      <td>108.7</td>\n",
       "      <td>98.9</td>\n",
       "      <td>37.2</td>\n",
       "      <td>4.8</td>\n",
       "    </tr>\n",
       "    <tr>\n",
       "      <th>4</th>\n",
       "      <td>31.0</td>\n",
       "      <td>Azerbaijan</td>\n",
       "      <td>5.173</td>\n",
       "      <td>27.5</td>\n",
       "      <td>156.9</td>\n",
       "      <td>99.7</td>\n",
       "      <td>20.8</td>\n",
       "      <td>72.8</td>\n",
       "      <td>4782.0</td>\n",
       "      <td>121.6</td>\n",
       "      <td>88.3</td>\n",
       "      <td>16.8</td>\n",
       "      <td>6.0</td>\n",
       "    </tr>\n",
       "  </tbody>\n",
       "</table>\n",
       "</div>"
      ],
      "text/plain": [
       "   country_code country_name  life_ladder  democracy_index  \\\n",
       "0           8.0      Albania        4.995             58.9   \n",
       "1          12.0      Algeria        4.745             40.1   \n",
       "2          51.0      Armenia        5.488             55.4   \n",
       "3          40.0      Austria        7.195             82.9   \n",
       "4          31.0   Azerbaijan        5.173             27.5   \n",
       "\n",
       "   consumer_price_index  gender_ratio_males_per100_female  \\\n",
       "0                 119.1                             103.7   \n",
       "1                 151.4                             102.1   \n",
       "2                 129.2                              88.8   \n",
       "3                 118.1                              97.0   \n",
       "4                 156.9                              99.7   \n",
       "\n",
       "   infant_mortality_per1000_births  life_expectancy  per_capita_gdp_dollars  \\\n",
       "0                              8.0             78.4                  5303.0   \n",
       "1                             21.2             76.6                  3976.0   \n",
       "2                             10.8             74.9                  4623.0   \n",
       "3                              3.2             81.4                 49701.0   \n",
       "4                             20.8             72.8                  4782.0   \n",
       "\n",
       "   population_density  safe_drinking_water_access_pct  \\\n",
       "0               105.1                            70.7   \n",
       "1                18.1                            72.4   \n",
       "2               103.9                            86.9   \n",
       "3               108.7                            98.9   \n",
       "4               121.6                            88.3   \n",
       "\n",
       "   seats_held_by_women_pct  unemployment_rate  \n",
       "0                     29.3               12.8  \n",
       "1                     25.8               11.5  \n",
       "2                     24.2               16.6  \n",
       "3                     37.2                4.8  \n",
       "4                     16.8                6.0  "
      ]
     },
     "execution_count": 3,
     "metadata": {},
     "output_type": "execute_result"
    }
   ],
   "source": [
    "happiness_joined_df[['country_code','democracy_index','consumer_price_index','gender_ratio_males_per100_female','infant_mortality_per1000_births','life_expectancy','per_capita_gdp_dollars','population_density','safe_drinking_water_access_pct','seats_held_by_women_pct','unemployment_rate']] = happiness_joined_df[['country_code','democracy_index','consumer_price_index','gender_ratio_males_per100_female','infant_mortality_per1000_births','life_expectancy','per_capita_gdp_dollars','population_density','safe_drinking_water_access_pct','seats_held_by_women_pct','unemployment_rate']].replace({'\\$': '', ',': ''}, regex=True).astype(float)\n",
    "#\n",
    "happiness_joined_df.head()\n",
    "# # REF: https://pbpython.com/currency-cleanup.html"
   ]
  },
  {
   "cell_type": "code",
   "execution_count": 4,
   "id": "f3db9aa9",
   "metadata": {},
   "outputs": [
    {
     "data": {
      "text/plain": [
       "country_code                        float64\n",
       "country_name                         object\n",
       "life_ladder                         float64\n",
       "democracy_index                     float64\n",
       "consumer_price_index                float64\n",
       "gender_ratio_males_per100_female    float64\n",
       "infant_mortality_per1000_births     float64\n",
       "life_expectancy                     float64\n",
       "per_capita_gdp_dollars              float64\n",
       "population_density                  float64\n",
       "safe_drinking_water_access_pct      float64\n",
       "seats_held_by_women_pct             float64\n",
       "unemployment_rate                   float64\n",
       "dtype: object"
      ]
     },
     "execution_count": 4,
     "metadata": {},
     "output_type": "execute_result"
    }
   ],
   "source": [
    "# data types\n",
    "happiness_joined_df.dtypes"
   ]
  },
  {
   "cell_type": "code",
   "execution_count": 5,
   "id": "d07957c8",
   "metadata": {},
   "outputs": [
    {
     "name": "stdout",
     "output_type": "stream",
     "text": [
      "Columncountry_code has 0 null values\n",
      "Columncountry_name has 0 null values\n",
      "Columnlife_ladder has 0 null values\n",
      "Columndemocracy_index has 0 null values\n",
      "Columnconsumer_price_index has 0 null values\n",
      "Columngender_ratio_males_per100_female has 0 null values\n",
      "Columninfant_mortality_per1000_births has 0 null values\n",
      "Columnlife_expectancy has 0 null values\n",
      "Columnper_capita_gdp_dollars has 0 null values\n",
      "Columnpopulation_density has 0 null values\n",
      "Columnsafe_drinking_water_access_pct has 0 null values\n",
      "Columnseats_held_by_women_pct has 0 null values\n",
      "Columnunemployment_rate has 0 null values\n"
     ]
    }
   ],
   "source": [
    "# What data is missing?\n",
    "# find null values\n",
    "for column in happiness_joined_df.columns:\n",
    "    print(f\"Column{column} has {happiness_joined_df[column].isnull().sum()} null values\")"
   ]
  },
  {
   "cell_type": "code",
   "execution_count": 6,
   "id": "eb542cde",
   "metadata": {},
   "outputs": [
    {
     "name": "stdout",
     "output_type": "stream",
     "text": [
      "Columncountry_code has 91 uniques values\n",
      "Columncountry_name has 91 uniques values\n",
      "Columnlife_ladder has 91 uniques values\n",
      "Columndemocracy_index has 83 uniques values\n",
      "Columnconsumer_price_index has 89 uniques values\n",
      "Columngender_ratio_males_per100_female has 68 uniques values\n",
      "Columninfant_mortality_per1000_births has 75 uniques values\n",
      "Columnlife_expectancy has 73 uniques values\n",
      "Columnper_capita_gdp_dollars has 91 uniques values\n",
      "Columnpopulation_density has 89 uniques values\n",
      "Columnsafe_drinking_water_access_pct has 73 uniques values\n",
      "Columnseats_held_by_women_pct has 80 uniques values\n",
      "Columnunemployment_rate has 66 uniques values\n"
     ]
    }
   ],
   "source": [
    "# What data is missing?\n",
    "# find null values\n",
    "for column in happiness_joined_df.columns:\n",
    "    print(f\"Column{column} has {happiness_joined_df[column].nunique()} uniques values\")"
   ]
  },
  {
   "cell_type": "code",
   "execution_count": 7,
   "id": "8067a620",
   "metadata": {},
   "outputs": [
    {
     "name": "stdout",
     "output_type": "stream",
     "text": [
      "Duplicate entries: 0\n"
     ]
    }
   ],
   "source": [
    "# to check for duplicates\n",
    "print(f\"Duplicate entries: {happiness_joined_df.duplicated().sum()}\")"
   ]
  },
  {
   "cell_type": "markdown",
   "id": "b4793755",
   "metadata": {},
   "source": [
    "## Splitting the Dataset into the Independent Feature Matrix:"
   ]
  },
  {
   "cell_type": "code",
   "execution_count": 8,
   "id": "88228d6e",
   "metadata": {
    "scrolled": true
   },
   "outputs": [
    {
     "data": {
      "text/plain": [
       "['country_code',\n",
       " 'country_name',\n",
       " 'life_ladder',\n",
       " 'democracy_index',\n",
       " 'consumer_price_index',\n",
       " 'gender_ratio_males_per100_female',\n",
       " 'infant_mortality_per1000_births',\n",
       " 'life_expectancy',\n",
       " 'per_capita_gdp_dollars',\n",
       " 'population_density',\n",
       " 'safe_drinking_water_access_pct',\n",
       " 'seats_held_by_women_pct',\n",
       " 'unemployment_rate']"
      ]
     },
     "execution_count": 8,
     "metadata": {},
     "output_type": "execute_result"
    }
   ],
   "source": [
    "happiness_joined_df.columns.values.tolist()"
   ]
  },
  {
   "cell_type": "code",
   "execution_count": 9,
   "id": "b2566c7a",
   "metadata": {},
   "outputs": [
    {
     "name": "stdout",
     "output_type": "stream",
     "text": [
      "                                  country_code  life_ladder  democracy_index  \\\n",
      "country_code                          1.000000    -0.029175         0.047148   \n",
      "life_ladder                          -0.029175     1.000000         0.664441   \n",
      "democracy_index                       0.047148     0.664441         1.000000   \n",
      "consumer_price_index                 -0.068242    -0.345353        -0.420236   \n",
      "gender_ratio_males_per100_female     -0.113236     0.090490        -0.202857   \n",
      "infant_mortality_per1000_births       0.051332    -0.688445        -0.562023   \n",
      "life_expectancy                      -0.054473     0.741481         0.649662   \n",
      "per_capita_gdp_dollars                0.063372     0.755476         0.694617   \n",
      "population_density                    0.075262     0.076126        -0.026942   \n",
      "safe_drinking_water_access_pct       -0.126895     0.703073         0.583487   \n",
      "seats_held_by_women_pct               0.112107     0.348635         0.375481   \n",
      "unemployment_rate                    -0.102382    -0.191881        -0.001582   \n",
      "\n",
      "                                  consumer_price_index  \\\n",
      "country_code                                 -0.068242   \n",
      "life_ladder                                  -0.345353   \n",
      "democracy_index                              -0.420236   \n",
      "consumer_price_index                          1.000000   \n",
      "gender_ratio_males_per100_female             -0.105659   \n",
      "infant_mortality_per1000_births               0.274260   \n",
      "life_expectancy                              -0.375401   \n",
      "per_capita_gdp_dollars                       -0.331370   \n",
      "population_density                           -0.069876   \n",
      "safe_drinking_water_access_pct               -0.255778   \n",
      "seats_held_by_women_pct                      -0.096249   \n",
      "unemployment_rate                            -0.020428   \n",
      "\n",
      "                                  gender_ratio_males_per100_female  \\\n",
      "country_code                                             -0.113236   \n",
      "life_ladder                                               0.090490   \n",
      "democracy_index                                          -0.202857   \n",
      "consumer_price_index                                     -0.105659   \n",
      "gender_ratio_males_per100_female                          1.000000   \n",
      "infant_mortality_per1000_births                           0.032667   \n",
      "life_expectancy                                           0.004494   \n",
      "per_capita_gdp_dollars                                    0.094089   \n",
      "population_density                                        0.291029   \n",
      "safe_drinking_water_access_pct                            0.054737   \n",
      "seats_held_by_women_pct                                  -0.214622   \n",
      "unemployment_rate                                        -0.165068   \n",
      "\n",
      "                                  infant_mortality_per1000_births  \\\n",
      "country_code                                             0.051332   \n",
      "life_ladder                                             -0.688445   \n",
      "democracy_index                                         -0.562023   \n",
      "consumer_price_index                                     0.274260   \n",
      "gender_ratio_males_per100_female                         0.032667   \n",
      "infant_mortality_per1000_births                          1.000000   \n",
      "life_expectancy                                         -0.926369   \n",
      "per_capita_gdp_dollars                                  -0.516602   \n",
      "population_density                                      -0.092114   \n",
      "safe_drinking_water_access_pct                          -0.857284   \n",
      "seats_held_by_women_pct                                 -0.295828   \n",
      "unemployment_rate                                       -0.064069   \n",
      "\n",
      "                                  life_expectancy  per_capita_gdp_dollars  \\\n",
      "country_code                            -0.054473                0.063372   \n",
      "life_ladder                              0.741481                0.755476   \n",
      "democracy_index                          0.649662                0.694617   \n",
      "consumer_price_index                    -0.375401               -0.331370   \n",
      "gender_ratio_males_per100_female         0.004494                0.094089   \n",
      "infant_mortality_per1000_births         -0.926369               -0.516602   \n",
      "life_expectancy                          1.000000                0.641240   \n",
      "per_capita_gdp_dollars                   0.641240                1.000000   \n",
      "population_density                       0.147474                0.206426   \n",
      "safe_drinking_water_access_pct           0.851020                0.603724   \n",
      "seats_held_by_women_pct                  0.352822                0.274743   \n",
      "unemployment_rate                        0.019173               -0.210517   \n",
      "\n",
      "                                  population_density  \\\n",
      "country_code                                0.075262   \n",
      "life_ladder                                 0.076126   \n",
      "democracy_index                            -0.026942   \n",
      "consumer_price_index                       -0.069876   \n",
      "gender_ratio_males_per100_female            0.291029   \n",
      "infant_mortality_per1000_births            -0.092114   \n",
      "life_expectancy                             0.147474   \n",
      "per_capita_gdp_dollars                      0.206426   \n",
      "population_density                          1.000000   \n",
      "safe_drinking_water_access_pct              0.108888   \n",
      "seats_held_by_women_pct                    -0.064014   \n",
      "unemployment_rate                          -0.128398   \n",
      "\n",
      "                                  safe_drinking_water_access_pct  \\\n",
      "country_code                                           -0.126895   \n",
      "life_ladder                                             0.703073   \n",
      "democracy_index                                         0.583487   \n",
      "consumer_price_index                                   -0.255778   \n",
      "gender_ratio_males_per100_female                        0.054737   \n",
      "infant_mortality_per1000_births                        -0.857284   \n",
      "life_expectancy                                         0.851020   \n",
      "per_capita_gdp_dollars                                  0.603724   \n",
      "population_density                                      0.108888   \n",
      "safe_drinking_water_access_pct                          1.000000   \n",
      "seats_held_by_women_pct                                 0.110274   \n",
      "unemployment_rate                                       0.134474   \n",
      "\n",
      "                                  seats_held_by_women_pct  unemployment_rate  \n",
      "country_code                                     0.112107          -0.102382  \n",
      "life_ladder                                      0.348635          -0.191881  \n",
      "democracy_index                                  0.375481          -0.001582  \n",
      "consumer_price_index                            -0.096249          -0.020428  \n",
      "gender_ratio_males_per100_female                -0.214622          -0.165068  \n",
      "infant_mortality_per1000_births                 -0.295828          -0.064069  \n",
      "life_expectancy                                  0.352822           0.019173  \n",
      "per_capita_gdp_dollars                           0.274743          -0.210517  \n",
      "population_density                              -0.064014          -0.128398  \n",
      "safe_drinking_water_access_pct                   0.110274           0.134474  \n",
      "seats_held_by_women_pct                          1.000000          -0.013943  \n",
      "unemployment_rate                               -0.013943           1.000000  \n"
     ]
    }
   ],
   "source": [
    "print(happiness_joined_df.corr())\n",
    "# ref: https://datagy.io/python-sklearn-linear-regression/"
   ]
  },
  {
   "cell_type": "code",
   "execution_count": 10,
   "id": "70e56206",
   "metadata": {
    "scrolled": true
   },
   "outputs": [
    {
     "name": "stdout",
     "output_type": "stream",
     "text": [
      "(91, 13)\n"
     ]
    }
   ],
   "source": [
    "print(happiness_joined_df.shape)"
   ]
  },
  {
   "cell_type": "markdown",
   "id": "869cafeb",
   "metadata": {},
   "source": [
    "## Modeling -- linear regression using all 10 indep variables"
   ]
  },
  {
   "cell_type": "code",
   "execution_count": 11,
   "id": "192b3a53",
   "metadata": {},
   "outputs": [],
   "source": [
    "# select features \n",
    "target = \"life_ladder\"\n",
    "features = happiness_joined_df.columns.drop([target,\"country_code\",\"country_name\"])#, \"life_expectancy\", \"consumer_price_index\", \"democracy_index\", \"infant_mortality_per1000_births\",\"gender_ratio_males_per100_female\", \"population_density\"])#,\"unemployment_rate\"])\n",
    "X = happiness_joined_df[features]\n",
    "y = happiness_joined_df[target]"
   ]
  },
  {
   "cell_type": "code",
   "execution_count": 12,
   "id": "30da55ab",
   "metadata": {},
   "outputs": [
    {
     "name": "stdout",
     "output_type": "stream",
     "text": [
      "                            OLS Regression Results                            \n",
      "==============================================================================\n",
      "Dep. Variable:            life_ladder   R-squared:                       0.747\n",
      "Model:                            OLS   Adj. R-squared:                  0.715\n",
      "Method:                 Least Squares   F-statistic:                     23.60\n",
      "Date:                Wed, 02 Feb 2022   Prob (F-statistic):           5.95e-20\n",
      "Time:                        12:56:09   Log-Likelihood:                -71.284\n",
      "No. Observations:                  91   AIC:                             164.6\n",
      "Df Residuals:                      80   BIC:                             192.2\n",
      "Df Model:                          10                                         \n",
      "Covariance Type:            nonrobust                                         \n",
      "====================================================================================================\n",
      "                                       coef    std err          t      P>|t|      [0.025      0.975]\n",
      "----------------------------------------------------------------------------------------------------\n",
      "const                                4.2506      2.169      1.960      0.053      -0.065       8.566\n",
      "democracy_index                      0.0054      0.005      1.127      0.263      -0.004       0.015\n",
      "consumer_price_index                -0.0011      0.001     -0.855      0.395      -0.004       0.001\n",
      "gender_ratio_males_per100_female     0.0084      0.006      1.408      0.163      -0.003       0.020\n",
      "infant_mortality_per1000_births     -0.0118      0.010     -1.159      0.250      -0.032       0.008\n",
      "life_expectancy                     -0.0051      0.027     -0.191      0.849      -0.059       0.049\n",
      "per_capita_gdp_dollars            1.501e-05   4.35e-06      3.454      0.001    6.36e-06    2.37e-05\n",
      "population_density               -9.175e-05    7.2e-05     -1.274      0.206      -0.000    5.16e-05\n",
      "safe_drinking_water_access_pct       0.0106      0.005      2.048      0.044       0.000       0.021\n",
      "seats_held_by_women_pct              0.0133      0.007      2.037      0.045       0.000       0.026\n",
      "unemployment_rate                   -0.0387      0.015     -2.611      0.011      -0.068      -0.009\n",
      "==============================================================================\n",
      "Omnibus:                        8.205   Durbin-Watson:                   1.850\n",
      "Prob(Omnibus):                  0.017   Jarque-Bera (JB):                8.625\n",
      "Skew:                          -0.532   Prob(JB):                       0.0134\n",
      "Kurtosis:                       4.068   Cond. No.                     1.14e+06\n",
      "==============================================================================\n",
      "\n",
      "Notes:\n",
      "[1] Standard Errors assume that the covariance matrix of the errors is correctly specified.\n",
      "[2] The condition number is large, 1.14e+06. This might indicate that there are\n",
      "strong multicollinearity or other numerical problems.\n"
     ]
    }
   ],
   "source": [
    "import statsmodels.api as sm\n",
    "X2 = sm.add_constant(X)\n",
    "est = sm.OLS(y, X2)\n",
    "est2 = est.fit()\n",
    "print(est2.summary())# delete the code "
   ]
  },
  {
   "cell_type": "code",
   "execution_count": 13,
   "id": "fb81df5b",
   "metadata": {},
   "outputs": [],
   "source": [
    "from sklearn import linear_model\n",
    "from sklearn.linear_model import LinearRegression\n",
    "# instantiate model\n",
    "model = linear_model.LinearRegression()\n",
    "# fit model\n",
    "model.fit(X, y)\n",
    "\n",
    "# fit\n",
    "model.fit(X, y)\n",
    "# predict\n",
    "y_pred = model.predict(X)"
   ]
  },
  {
   "cell_type": "code",
   "execution_count": 14,
   "id": "84fe67d2",
   "metadata": {},
   "outputs": [],
   "source": [
    "from sklearn.preprocessing import StandardScaler\n",
    "# 3) Creating a StandardScaler instance.\n",
    "scaler = StandardScaler()\n",
    "# Fitting the Standard Scaler with the training data.\n",
    "X_scaler = scaler.fit(X)\n",
    "\n",
    "# 4) Scaling the data.\n",
    "X_train_scaled = X_scaler.transform(X)\n",
    "X_test_scaled = X_scaler.transform(X)"
   ]
  },
  {
   "cell_type": "code",
   "execution_count": 15,
   "id": "4ad2852d",
   "metadata": {},
   "outputs": [
    {
     "name": "stdout",
     "output_type": "stream",
     "text": [
      "(91, 10)\n",
      "(91,)\n"
     ]
    }
   ],
   "source": [
    "print(X.shape)\n",
    "print(y.shape)"
   ]
  },
  {
   "cell_type": "code",
   "execution_count": 16,
   "id": "f6e1ee75",
   "metadata": {},
   "outputs": [
    {
     "name": "stdout",
     "output_type": "stream",
     "text": [
      "-6.417333087393762e-16\n",
      "-6.417333087393762e-16\n",
      "1.0\n",
      "1.0\n"
     ]
    }
   ],
   "source": [
    "print(np.mean(X_train_scaled[:,0]))\n",
    "print(np.mean(X_test_scaled[:,0]))\n",
    "print(np.std(X_train_scaled[:,0]))\n",
    "print(np.std(X_test_scaled[:,0]))"
   ]
  },
  {
   "cell_type": "code",
   "execution_count": 17,
   "id": "e387380b",
   "metadata": {},
   "outputs": [
    {
     "name": "stdout",
     "output_type": "stream",
     "text": [
      "R2score: 0.7468647296388298\n",
      "root mean squared error:  0.5296185796769222\n"
     ]
    }
   ],
   "source": [
    "# model evaluation\n",
    "# ref: https://towardsdatascience.com/multiple-regression-as-a-machine-learning-algorithm-a98a6b9f307b\n",
    "from sklearn.metrics import r2_score, mean_squared_error\n",
    "score10 = r2_score(y, y_pred)\n",
    "print(\"R2score:\", score10)\n",
    "rmse10 = mean_squared_error(y, y_pred, squared=False)\n",
    "print('root mean squared error: ', rmse10)\n",
    "# ref: https://datagy.io/python-sklearn-linear-regression/"
   ]
  },
  {
   "cell_type": "code",
   "execution_count": 18,
   "id": "bb412f2c",
   "metadata": {
    "scrolled": true
   },
   "outputs": [
    {
     "data": {
      "text/html": [
       "<div>\n",
       "<style scoped>\n",
       "    .dataframe tbody tr th:only-of-type {\n",
       "        vertical-align: middle;\n",
       "    }\n",
       "\n",
       "    .dataframe tbody tr th {\n",
       "        vertical-align: top;\n",
       "    }\n",
       "\n",
       "    .dataframe thead th {\n",
       "        text-align: right;\n",
       "    }\n",
       "</style>\n",
       "<table border=\"1\" class=\"dataframe\">\n",
       "  <thead>\n",
       "    <tr style=\"text-align: right;\">\n",
       "      <th></th>\n",
       "      <th>Prediction</th>\n",
       "      <th>Actual</th>\n",
       "    </tr>\n",
       "  </thead>\n",
       "  <tbody>\n",
       "    <tr>\n",
       "      <th>0</th>\n",
       "      <td>5.531878</td>\n",
       "      <td>4.995</td>\n",
       "    </tr>\n",
       "    <tr>\n",
       "      <th>1</th>\n",
       "      <td>5.244973</td>\n",
       "      <td>4.745</td>\n",
       "    </tr>\n",
       "    <tr>\n",
       "      <th>2</th>\n",
       "      <td>5.307879</td>\n",
       "      <td>5.488</td>\n",
       "    </tr>\n",
       "    <tr>\n",
       "      <th>3</th>\n",
       "      <td>7.026877</td>\n",
       "      <td>7.195</td>\n",
       "    </tr>\n",
       "    <tr>\n",
       "      <th>4</th>\n",
       "      <td>5.438823</td>\n",
       "      <td>5.173</td>\n",
       "    </tr>\n",
       "  </tbody>\n",
       "</table>\n",
       "</div>"
      ],
      "text/plain": [
       "   Prediction  Actual\n",
       "0    5.531878   4.995\n",
       "1    5.244973   4.745\n",
       "2    5.307879   5.488\n",
       "3    7.026877   7.195\n",
       "4    5.438823   5.173"
      ]
     },
     "execution_count": 18,
     "metadata": {},
     "output_type": "execute_result"
    }
   ],
   "source": [
    "# Make predictions using the test data\n",
    "y_pred = model.predict(X)\n",
    "results = pd.DataFrame({\n",
    "    \"Prediction\": y_pred, \n",
    "    \"Actual\": y\n",
    "}).reset_index(drop=True)\n",
    "results.head()"
   ]
  },
  {
   "cell_type": "code",
   "execution_count": 19,
   "id": "a4b0268c",
   "metadata": {},
   "outputs": [
    {
     "name": "stdout",
     "output_type": "stream",
     "text": [
      "[ 5.42824361e-03 -1.08394259e-03  8.44581303e-03 -1.17775066e-02\n",
      " -5.14907271e-03  1.50106173e-05 -9.17489248e-05  1.05906124e-02\n",
      "  1.32819430e-02 -3.86807627e-02]\n",
      "4.250566610596507\n"
     ]
    }
   ],
   "source": [
    "# The slope\n",
    "# The y-intercept\n",
    "print(model.coef_)\n",
    "print(model.intercept_)"
   ]
  },
  {
   "cell_type": "markdown",
   "id": "d199d1bb",
   "metadata": {},
   "source": [
    "## Modeling -- linear regression using all 9 indep variables except \"life_expectancy\""
   ]
  },
  {
   "cell_type": "code",
   "execution_count": 20,
   "id": "648e5056",
   "metadata": {},
   "outputs": [],
   "source": [
    "# select features \n",
    "target = \"life_ladder\"\n",
    "features = happiness_joined_df.columns.drop([target,\"country_code\",\"country_name\", \"life_expectancy\"])#, \"consumer_price_index\", \"democracy_index\", \"infant_mortality_per1000_births\",\"gender_ratio_males_per100_female\", \"population_density\"])#,\"unemployment_rate\"])\n",
    "X = happiness_joined_df[features]\n",
    "y = happiness_joined_df[target]"
   ]
  },
  {
   "cell_type": "code",
   "execution_count": 21,
   "id": "77da9bb3",
   "metadata": {},
   "outputs": [],
   "source": [
    "from sklearn import linear_model\n",
    "from sklearn.linear_model import LinearRegression\n",
    "# instantiate model\n",
    "model = linear_model.LinearRegression()\n",
    "# fit model\n",
    "model.fit(X, y)\n",
    "\n",
    "# fit\n",
    "model.fit(X, y)\n",
    "# predict\n",
    "y_pred = model.predict(X)"
   ]
  },
  {
   "cell_type": "code",
   "execution_count": 22,
   "id": "232647a1",
   "metadata": {},
   "outputs": [
    {
     "name": "stdout",
     "output_type": "stream",
     "text": [
      "(91, 9)\n",
      "(91,)\n"
     ]
    }
   ],
   "source": [
    "from sklearn.preprocessing import StandardScaler\n",
    "# 3) Creating a StandardScaler instance.\n",
    "scaler = StandardScaler()\n",
    "# Fitting the Standard Scaler with the training data.\n",
    "X_scaler = scaler.fit(X)\n",
    "\n",
    "# 4) Scaling the data.\n",
    "X_train_scaled = X_scaler.transform(X)\n",
    "X_test_scaled = X_scaler.transform(X)\n",
    "print(X.shape)\n",
    "print(y.shape)"
   ]
  },
  {
   "cell_type": "code",
   "execution_count": 23,
   "id": "ea15c3a6",
   "metadata": {},
   "outputs": [
    {
     "name": "stdout",
     "output_type": "stream",
     "text": [
      "-6.417333087393762e-16\n",
      "-6.417333087393762e-16\n",
      "1.0\n",
      "1.0\n"
     ]
    }
   ],
   "source": [
    "print(np.mean(X_train_scaled[:,0]))\n",
    "print(np.mean(X_test_scaled[:,0]))\n",
    "print(np.std(X_train_scaled[:,0]))\n",
    "print(np.std(X_test_scaled[:,0]))"
   ]
  },
  {
   "cell_type": "code",
   "execution_count": 24,
   "id": "137d6aed",
   "metadata": {},
   "outputs": [
    {
     "name": "stdout",
     "output_type": "stream",
     "text": [
      "R2score: 0.7467497582253717\n",
      "root mean squared error:  0.5297388396552475\n"
     ]
    }
   ],
   "source": [
    "# model evaluation\n",
    "# ref: https://towardsdatascience.com/multiple-regression-as-a-machine-learning-algorithm-a98a6b9f307b\n",
    "from sklearn.metrics import r2_score, mean_squared_error\n",
    "score9 = r2_score(y, y_pred)\n",
    "print(\"R2score:\", score9)\n",
    "rmse9 = mean_squared_error(y, y_pred, squared=False)\n",
    "print('root mean squared error: ', rmse9)\n",
    "# ref: https://datagy.io/python-sklearn-linear-regression/"
   ]
  },
  {
   "cell_type": "code",
   "execution_count": 25,
   "id": "e08c3013",
   "metadata": {},
   "outputs": [
    {
     "data": {
      "text/html": [
       "<div>\n",
       "<style scoped>\n",
       "    .dataframe tbody tr th:only-of-type {\n",
       "        vertical-align: middle;\n",
       "    }\n",
       "\n",
       "    .dataframe tbody tr th {\n",
       "        vertical-align: top;\n",
       "    }\n",
       "\n",
       "    .dataframe thead th {\n",
       "        text-align: right;\n",
       "    }\n",
       "</style>\n",
       "<table border=\"1\" class=\"dataframe\">\n",
       "  <thead>\n",
       "    <tr style=\"text-align: right;\">\n",
       "      <th></th>\n",
       "      <th>Prediction</th>\n",
       "      <th>Actual</th>\n",
       "    </tr>\n",
       "  </thead>\n",
       "  <tbody>\n",
       "    <tr>\n",
       "      <th>0</th>\n",
       "      <td>5.541652</td>\n",
       "      <td>4.995</td>\n",
       "    </tr>\n",
       "    <tr>\n",
       "      <th>1</th>\n",
       "      <td>5.267968</td>\n",
       "      <td>4.745</td>\n",
       "    </tr>\n",
       "    <tr>\n",
       "      <th>2</th>\n",
       "      <td>5.303387</td>\n",
       "      <td>5.488</td>\n",
       "    </tr>\n",
       "    <tr>\n",
       "      <th>3</th>\n",
       "      <td>7.026146</td>\n",
       "      <td>7.195</td>\n",
       "    </tr>\n",
       "    <tr>\n",
       "      <th>4</th>\n",
       "      <td>5.441184</td>\n",
       "      <td>5.173</td>\n",
       "    </tr>\n",
       "  </tbody>\n",
       "</table>\n",
       "</div>"
      ],
      "text/plain": [
       "   Prediction  Actual\n",
       "0    5.541652   4.995\n",
       "1    5.267968   4.745\n",
       "2    5.303387   5.488\n",
       "3    7.026146   7.195\n",
       "4    5.441184   5.173"
      ]
     },
     "execution_count": 25,
     "metadata": {},
     "output_type": "execute_result"
    }
   ],
   "source": [
    "# Make predictions using the test data\n",
    "y_pred = model.predict(X)\n",
    "results = pd.DataFrame({\n",
    "    \"Prediction\": y_pred, \n",
    "    \"Actual\": y\n",
    "}).reset_index(drop=True)\n",
    "results.head()"
   ]
  },
  {
   "cell_type": "code",
   "execution_count": 26,
   "id": "19cbbd1d",
   "metadata": {},
   "outputs": [
    {
     "name": "stdout",
     "output_type": "stream",
     "text": [
      "[ 5.34709074e-03 -1.02298047e-03  8.40967265e-03 -1.04121377e-02\n",
      "  1.48450055e-05 -9.36072949e-05  1.03564406e-02  1.29627449e-02\n",
      " -3.85373555e-02]\n",
      "3.8721433173223003\n"
     ]
    }
   ],
   "source": [
    "# The slope\n",
    "# The y-intercept\n",
    "print(model.coef_)\n",
    "print(model.intercept_)"
   ]
  },
  {
   "cell_type": "markdown",
   "id": "f545ff68",
   "metadata": {},
   "source": [
    "## Modeling -- linear regression using all 8 indep variables except \"life_expectancy\" & \"consumer_price_index\""
   ]
  },
  {
   "cell_type": "code",
   "execution_count": 27,
   "id": "69c8eadb",
   "metadata": {},
   "outputs": [],
   "source": [
    "# select features \n",
    "target = \"life_ladder\"\n",
    "features = happiness_joined_df.columns.drop([target,\"country_code\",\"country_name\", \"life_expectancy\", \"consumer_price_index\"])#, \"democracy_index\", \"infant_mortality_per1000_births\",\"gender_ratio_males_per100_female\", \"population_density\"])#,\"unemployment_rate\"])\n",
    "X = happiness_joined_df[features]\n",
    "y = happiness_joined_df[target]\n"
   ]
  },
  {
   "cell_type": "code",
   "execution_count": 28,
   "id": "472ecdf9",
   "metadata": {},
   "outputs": [
    {
     "name": "stdout",
     "output_type": "stream",
     "text": [
      "(91, 8)\n",
      "(91,)\n"
     ]
    }
   ],
   "source": [
    "from sklearn import linear_model\n",
    "from sklearn.linear_model import LinearRegression\n",
    "# instantiate model\n",
    "model = linear_model.LinearRegression()\n",
    "# fit model\n",
    "model.fit(X, y)\n",
    "\n",
    "# fit\n",
    "model.fit(X, y)\n",
    "# predict\n",
    "y_pred = model.predict(X)\n",
    "from sklearn.preprocessing import StandardScaler\n",
    "# 3) Creating a StandardScaler instance.\n",
    "scaler = StandardScaler()\n",
    "# Fitting the Standard Scaler with the training data.\n",
    "X_scaler = scaler.fit(X)\n",
    "\n",
    "# 4) Scaling the data.\n",
    "X_train_scaled = X_scaler.transform(X)\n",
    "X_test_scaled = X_scaler.transform(X)\n",
    "print(X.shape)\n",
    "print(y.shape)"
   ]
  },
  {
   "cell_type": "code",
   "execution_count": 29,
   "id": "b0bfde0a",
   "metadata": {},
   "outputs": [
    {
     "name": "stdout",
     "output_type": "stream",
     "text": [
      "-6.417333087393762e-16\n",
      "-6.417333087393762e-16\n",
      "1.0\n",
      "1.0\n"
     ]
    }
   ],
   "source": [
    "print(np.mean(X_train_scaled[:,0]))\n",
    "print(np.mean(X_test_scaled[:,0]))\n",
    "print(np.std(X_train_scaled[:,0]))\n",
    "print(np.std(X_test_scaled[:,0]))"
   ]
  },
  {
   "cell_type": "code",
   "execution_count": 30,
   "id": "14f358cc",
   "metadata": {},
   "outputs": [
    {
     "name": "stdout",
     "output_type": "stream",
     "text": [
      "R2score: 0.7445506111539881\n",
      "root mean squared error:  0.5320339124324287\n"
     ]
    }
   ],
   "source": [
    "# model evaluation\n",
    "# ref: https://towardsdatascience.com/multiple-regression-as-a-machine-learning-algorithm-a98a6b9f307b\n",
    "from sklearn.metrics import r2_score, mean_squared_error\n",
    "score8 = r2_score(y, y_pred)\n",
    "print(\"R2score:\", score8)\n",
    "rmse8 = mean_squared_error(y, y_pred, squared=False)\n",
    "print('root mean squared error: ', rmse8)\n",
    "# ref: https://datagy.io/python-sklearn-linear-regression/"
   ]
  },
  {
   "cell_type": "code",
   "execution_count": 31,
   "id": "17ba82ac",
   "metadata": {},
   "outputs": [
    {
     "data": {
      "text/html": [
       "<div>\n",
       "<style scoped>\n",
       "    .dataframe tbody tr th:only-of-type {\n",
       "        vertical-align: middle;\n",
       "    }\n",
       "\n",
       "    .dataframe tbody tr th {\n",
       "        vertical-align: top;\n",
       "    }\n",
       "\n",
       "    .dataframe thead th {\n",
       "        text-align: right;\n",
       "    }\n",
       "</style>\n",
       "<table border=\"1\" class=\"dataframe\">\n",
       "  <thead>\n",
       "    <tr style=\"text-align: right;\">\n",
       "      <th></th>\n",
       "      <th>Prediction</th>\n",
       "      <th>Actual</th>\n",
       "    </tr>\n",
       "  </thead>\n",
       "  <tbody>\n",
       "    <tr>\n",
       "      <th>0</th>\n",
       "      <td>5.532266</td>\n",
       "      <td>4.995</td>\n",
       "    </tr>\n",
       "    <tr>\n",
       "      <th>1</th>\n",
       "      <td>5.254083</td>\n",
       "      <td>4.745</td>\n",
       "    </tr>\n",
       "    <tr>\n",
       "      <th>2</th>\n",
       "      <td>5.279480</td>\n",
       "      <td>5.488</td>\n",
       "    </tr>\n",
       "    <tr>\n",
       "      <th>3</th>\n",
       "      <td>7.020253</td>\n",
       "      <td>7.195</td>\n",
       "    </tr>\n",
       "    <tr>\n",
       "      <th>4</th>\n",
       "      <td>5.403107</td>\n",
       "      <td>5.173</td>\n",
       "    </tr>\n",
       "  </tbody>\n",
       "</table>\n",
       "</div>"
      ],
      "text/plain": [
       "   Prediction  Actual\n",
       "0    5.532266   4.995\n",
       "1    5.254083   4.745\n",
       "2    5.279480   5.488\n",
       "3    7.020253   7.195\n",
       "4    5.403107   5.173"
      ]
     },
     "execution_count": 31,
     "metadata": {},
     "output_type": "execute_result"
    }
   ],
   "source": [
    "# Make predictions using the test data\n",
    "y_pred = model.predict(X)\n",
    "results = pd.DataFrame({\n",
    "    \"Prediction\": y_pred, \n",
    "    \"Actual\": y\n",
    "}).reset_index(drop=True)\n",
    "results.head()"
   ]
  },
  {
   "cell_type": "code",
   "execution_count": 32,
   "id": "ca49da4b",
   "metadata": {},
   "outputs": [
    {
     "name": "stdout",
     "output_type": "stream",
     "text": [
      "[ 6.64002288e-03  9.44990483e-03 -1.11986064e-02  1.50008768e-05\n",
      " -9.21161679e-05  9.76348175e-03  1.24707528e-02 -3.73326057e-02]\n",
      "3.6031203113578263\n"
     ]
    }
   ],
   "source": [
    "# The slope\n",
    "# The y-intercept\n",
    "print(model.coef_)\n",
    "print(model.intercept_)"
   ]
  },
  {
   "cell_type": "markdown",
   "id": "f92dce7d",
   "metadata": {},
   "source": [
    "## Modeling -- linear regression using all 7 indep variables except \"life_expectancy\" , \"consumer_price_index\" & \"population_density\""
   ]
  },
  {
   "cell_type": "code",
   "execution_count": 33,
   "id": "54b50a5f",
   "metadata": {},
   "outputs": [],
   "source": [
    "# select features \n",
    "target = \"life_ladder\"\n",
    "features = happiness_joined_df.columns.drop([target,\"country_code\",\"country_name\", \"life_expectancy\", \"consumer_price_index\", \"population_density\"])#, \"democracy_index\", \"infant_mortality_per1000_births\",\"gender_ratio_males_per100_female\", \"population_density\"])#,\"unemployment_rate\"])\n",
    "X = happiness_joined_df[features]\n",
    "y = happiness_joined_df[target]\n"
   ]
  },
  {
   "cell_type": "code",
   "execution_count": 34,
   "id": "013c0f0d",
   "metadata": {},
   "outputs": [
    {
     "name": "stdout",
     "output_type": "stream",
     "text": [
      "(91, 7)\n",
      "(91,)\n"
     ]
    }
   ],
   "source": [
    "\n",
    "from sklearn import linear_model\n",
    "from sklearn.linear_model import LinearRegression\n",
    "# instantiate model\n",
    "model = linear_model.LinearRegression()\n",
    "# fit model\n",
    "model.fit(X, y)\n",
    "\n",
    "# fit\n",
    "model.fit(X, y)\n",
    "# predict\n",
    "y_pred = model.predict(X)\n",
    "from sklearn.preprocessing import StandardScaler\n",
    "# 3) Creating a StandardScaler instance.\n",
    "scaler = StandardScaler()\n",
    "# Fitting the Standard Scaler with the training data.\n",
    "X_scaler = scaler.fit(X)\n",
    "\n",
    "# 4) Scaling the data.\n",
    "X_train_scaled = X_scaler.transform(X)\n",
    "X_test_scaled = X_scaler.transform(X)\n",
    "print(X.shape)\n",
    "print(y.shape)"
   ]
  },
  {
   "cell_type": "code",
   "execution_count": 35,
   "id": "e37ddc12",
   "metadata": {},
   "outputs": [
    {
     "name": "stdout",
     "output_type": "stream",
     "text": [
      "-6.417333087393762e-16\n",
      "-6.417333087393762e-16\n",
      "1.0\n",
      "1.0\n",
      "R2score: 0.7392751795853896\n",
      "root mean squared error:  0.5374995068076686\n"
     ]
    }
   ],
   "source": [
    "print(np.mean(X_train_scaled[:,0]))\n",
    "print(np.mean(X_test_scaled[:,0]))\n",
    "print(np.std(X_train_scaled[:,0]))\n",
    "print(np.std(X_test_scaled[:,0]))\n",
    "\n",
    "# model evaluation\n",
    "# ref: https://towardsdatascience.com/multiple-regression-as-a-machine-learning-algorithm-a98a6b9f307b\n",
    "from sklearn.metrics import r2_score, mean_squared_error\n",
    "score7 = r2_score(y, y_pred)\n",
    "print(\"R2score:\", score7)\n",
    "rmse7 = mean_squared_error(y, y_pred, squared=False)\n",
    "print('root mean squared error: ', rmse7)\n",
    "# ref: https://datagy.io/python-sklearn-linear-regression/"
   ]
  },
  {
   "cell_type": "code",
   "execution_count": 36,
   "id": "bc73470b",
   "metadata": {},
   "outputs": [
    {
     "data": {
      "text/html": [
       "<div>\n",
       "<style scoped>\n",
       "    .dataframe tbody tr th:only-of-type {\n",
       "        vertical-align: middle;\n",
       "    }\n",
       "\n",
       "    .dataframe tbody tr th {\n",
       "        vertical-align: top;\n",
       "    }\n",
       "\n",
       "    .dataframe thead th {\n",
       "        text-align: right;\n",
       "    }\n",
       "</style>\n",
       "<table border=\"1\" class=\"dataframe\">\n",
       "  <thead>\n",
       "    <tr style=\"text-align: right;\">\n",
       "      <th></th>\n",
       "      <th>Prediction</th>\n",
       "      <th>Actual</th>\n",
       "    </tr>\n",
       "  </thead>\n",
       "  <tbody>\n",
       "    <tr>\n",
       "      <th>0</th>\n",
       "      <td>5.523792</td>\n",
       "      <td>4.995</td>\n",
       "    </tr>\n",
       "    <tr>\n",
       "      <th>1</th>\n",
       "      <td>5.232960</td>\n",
       "      <td>4.745</td>\n",
       "    </tr>\n",
       "    <tr>\n",
       "      <th>2</th>\n",
       "      <td>5.296630</td>\n",
       "      <td>5.488</td>\n",
       "    </tr>\n",
       "    <tr>\n",
       "      <th>3</th>\n",
       "      <td>6.996171</td>\n",
       "      <td>7.195</td>\n",
       "    </tr>\n",
       "    <tr>\n",
       "      <th>4</th>\n",
       "      <td>5.380974</td>\n",
       "      <td>5.173</td>\n",
       "    </tr>\n",
       "  </tbody>\n",
       "</table>\n",
       "</div>"
      ],
      "text/plain": [
       "   Prediction  Actual\n",
       "0    5.523792   4.995\n",
       "1    5.232960   4.745\n",
       "2    5.296630   5.488\n",
       "3    6.996171   7.195\n",
       "4    5.380974   5.173"
      ]
     },
     "execution_count": 36,
     "metadata": {},
     "output_type": "execute_result"
    }
   ],
   "source": [
    "# Make predictions using the test data\n",
    "y_pred = model.predict(X)\n",
    "results = pd.DataFrame({\n",
    "    \"Prediction\": y_pred, \n",
    "    \"Actual\": y\n",
    "}).reset_index(drop=True)\n",
    "results.head()"
   ]
  },
  {
   "cell_type": "code",
   "execution_count": 37,
   "id": "95e598d6",
   "metadata": {},
   "outputs": [
    {
     "name": "stdout",
     "output_type": "stream",
     "text": [
      "[ 7.50389152e-03  7.95294503e-03 -1.04904924e-02  1.38458421e-05\n",
      "  1.00367850e-02  1.29260015e-02 -3.69169821e-02]\n",
      "3.6517967280187804\n"
     ]
    }
   ],
   "source": [
    "# The slope\n",
    "# The y-intercept\n",
    "print(model.coef_)\n",
    "print(model.intercept_)"
   ]
  },
  {
   "cell_type": "markdown",
   "id": "54111315",
   "metadata": {},
   "source": [
    "## Modeling -- linear regression using all 6 indep variables except \"life_expectancy\" , \"gender_ratio_males_per100_female\" , \"consumer_price_index\" & \"population_density\""
   ]
  },
  {
   "cell_type": "code",
   "execution_count": 38,
   "id": "1e62d6d2",
   "metadata": {},
   "outputs": [],
   "source": [
    "# select features \n",
    "target = \"life_ladder\"\n",
    "features = happiness_joined_df.columns.drop([target,\"country_code\",\"country_name\", \"life_expectancy\", \"consumer_price_index\", \"population_density\", \"gender_ratio_males_per100_female\"])#, \"democracy_index\", \"infant_mortality_per1000_births\",\"gender_ratio_males_per100_female\", \"population_density\"])#,\"unemployment_rate\"])\n",
    "X = happiness_joined_df[features]\n",
    "y = happiness_joined_df[target]\n"
   ]
  },
  {
   "cell_type": "code",
   "execution_count": 39,
   "id": "d968a306",
   "metadata": {},
   "outputs": [
    {
     "name": "stdout",
     "output_type": "stream",
     "text": [
      "(91, 6)\n",
      "(91,)\n"
     ]
    }
   ],
   "source": [
    "# Normal train-test split\n",
    "from sklearn import linear_model\n",
    "from sklearn.linear_model import LinearRegression\n",
    "# instantiate model\n",
    "model = linear_model.LinearRegression()\n",
    "# fit model\n",
    "model.fit(X, y)\n",
    "\n",
    "# fit\n",
    "model.fit(X, y)\n",
    "# predict\n",
    "y_pred = model.predict(X)\n",
    "from sklearn.preprocessing import StandardScaler\n",
    "# 3) Creating a StandardScaler instance.\n",
    "scaler = StandardScaler()\n",
    "# Fitting the Standard Scaler with the training data.\n",
    "X_scaler = scaler.fit(X)\n",
    "\n",
    "# 4) Scaling the data.\n",
    "X_train_scaled = X_scaler.transform(X)\n",
    "X_test_scaled = X_scaler.transform(X)\n",
    "print(X.shape)\n",
    "print(y.shape)"
   ]
  },
  {
   "cell_type": "code",
   "execution_count": 40,
   "id": "4cffd3ce",
   "metadata": {},
   "outputs": [
    {
     "name": "stdout",
     "output_type": "stream",
     "text": [
      "-6.417333087393762e-16\n",
      "-6.417333087393762e-16\n",
      "1.0\n",
      "1.0\n",
      "R2score: 0.7332170352866536\n",
      "root mean squared error:  0.5437082574937616\n"
     ]
    }
   ],
   "source": [
    "print(np.mean(X_train_scaled[:,0]))\n",
    "print(np.mean(X_test_scaled[:,0]))\n",
    "print(np.std(X_train_scaled[:,0]))\n",
    "print(np.std(X_test_scaled[:,0]))\n",
    "\n",
    "# model evaluation\n",
    "# ref: https://towardsdatascience.com/multiple-regression-as-a-machine-learning-algorithm-a98a6b9f307b\n",
    "from sklearn.metrics import r2_score, mean_squared_error\n",
    "score6 = r2_score(y, y_pred)\n",
    "print(\"R2score:\", score6)\n",
    "rmse6 = mean_squared_error(y, y_pred, squared=False)\n",
    "print('root mean squared error: ', rmse6)\n",
    "# ref: https://datagy.io/python-sklearn-linear-regression/"
   ]
  },
  {
   "cell_type": "code",
   "execution_count": 41,
   "id": "c360aa8d",
   "metadata": {},
   "outputs": [
    {
     "data": {
      "text/html": [
       "<div>\n",
       "<style scoped>\n",
       "    .dataframe tbody tr th:only-of-type {\n",
       "        vertical-align: middle;\n",
       "    }\n",
       "\n",
       "    .dataframe tbody tr th {\n",
       "        vertical-align: top;\n",
       "    }\n",
       "\n",
       "    .dataframe thead th {\n",
       "        text-align: right;\n",
       "    }\n",
       "</style>\n",
       "<table border=\"1\" class=\"dataframe\">\n",
       "  <thead>\n",
       "    <tr style=\"text-align: right;\">\n",
       "      <th></th>\n",
       "      <th>Prediction</th>\n",
       "      <th>Actual</th>\n",
       "    </tr>\n",
       "  </thead>\n",
       "  <tbody>\n",
       "    <tr>\n",
       "      <th>0</th>\n",
       "      <td>5.444791</td>\n",
       "      <td>4.995</td>\n",
       "    </tr>\n",
       "    <tr>\n",
       "      <th>1</th>\n",
       "      <td>5.219229</td>\n",
       "      <td>4.745</td>\n",
       "    </tr>\n",
       "    <tr>\n",
       "      <th>2</th>\n",
       "      <td>5.353035</td>\n",
       "      <td>5.488</td>\n",
       "    </tr>\n",
       "    <tr>\n",
       "      <th>3</th>\n",
       "      <td>7.011861</td>\n",
       "      <td>7.195</td>\n",
       "    </tr>\n",
       "    <tr>\n",
       "      <th>4</th>\n",
       "      <td>5.448824</td>\n",
       "      <td>5.173</td>\n",
       "    </tr>\n",
       "  </tbody>\n",
       "</table>\n",
       "</div>"
      ],
      "text/plain": [
       "   Prediction  Actual\n",
       "0    5.444791   4.995\n",
       "1    5.219229   4.745\n",
       "2    5.353035   5.488\n",
       "3    7.011861   7.195\n",
       "4    5.448824   5.173"
      ]
     },
     "execution_count": 41,
     "metadata": {},
     "output_type": "execute_result"
    }
   ],
   "source": [
    "# Make predictions using the test data\n",
    "y_pred = model.predict(X)\n",
    "results = pd.DataFrame({\n",
    "    \"Prediction\": y_pred, \n",
    "    \"Actual\": y\n",
    "}).reset_index(drop=True)\n",
    "results.head()"
   ]
  },
  {
   "cell_type": "code",
   "execution_count": 42,
   "id": "fceaf039",
   "metadata": {},
   "outputs": [
    {
     "name": "stdout",
     "output_type": "stream",
     "text": [
      "[ 5.47516204e-03 -9.89072936e-03  1.51333530e-05  1.08702813e-02\n",
      "  1.19267350e-02 -3.94421386e-02]\n",
      "4.508054497381376\n"
     ]
    }
   ],
   "source": [
    "# The slope\n",
    "# The y-intercept\n",
    "print(model.coef_)\n",
    "print(model.intercept_)"
   ]
  },
  {
   "cell_type": "markdown",
   "id": "2bdd0d00",
   "metadata": {},
   "source": [
    "## Modeling -- linear regression using all 5 indep variables except \"life_expectancy\" , \"gender_ratio_males_per100_female\" , \"democracy_index\", \"consumer_price_index\" & \"population_density\""
   ]
  },
  {
   "cell_type": "code",
   "execution_count": 43,
   "id": "6cb77329",
   "metadata": {},
   "outputs": [],
   "source": [
    "# select features \n",
    "target = \"life_ladder\"\n",
    "features = happiness_joined_df.columns.drop([target,\"country_code\",\"country_name\", \"life_expectancy\", \"consumer_price_index\", \"population_density\", \"gender_ratio_males_per100_female\", \"democracy_index\"])#, \"infant_mortality_per1000_births\",\"gender_ratio_males_per100_female\", \"population_density\"])#,\"unemployment_rate\"])\n",
    "X = happiness_joined_df[features]\n",
    "y = happiness_joined_df[target]\n"
   ]
  },
  {
   "cell_type": "code",
   "execution_count": 44,
   "id": "80ce7cb6",
   "metadata": {},
   "outputs": [
    {
     "name": "stdout",
     "output_type": "stream",
     "text": [
      "(91, 5)\n",
      "(91,)\n"
     ]
    }
   ],
   "source": [
    "\n",
    "from sklearn import linear_model\n",
    "from sklearn.linear_model import LinearRegression\n",
    "# instantiate model\n",
    "model = linear_model.LinearRegression()\n",
    "# fit model\n",
    "model.fit(X, y)\n",
    "\n",
    "# fit\n",
    "model.fit(X, y)\n",
    "# predict\n",
    "y_pred = model.predict(X)\n",
    "from sklearn.preprocessing import StandardScaler\n",
    "# 3) Creating a StandardScaler instance.\n",
    "scaler = StandardScaler()\n",
    "# Fitting the Standard Scaler with the training data.\n",
    "X_scaler = scaler.fit(X)\n",
    "\n",
    "# 4) Scaling the data.\n",
    "X_train_scaled = X_scaler.transform(X)\n",
    "X_test_scaled = X_scaler.transform(X)\n",
    "print(X.shape)\n",
    "print(y.shape)"
   ]
  },
  {
   "cell_type": "code",
   "execution_count": 45,
   "id": "d36169fb",
   "metadata": {},
   "outputs": [
    {
     "name": "stdout",
     "output_type": "stream",
     "text": [
      "1.8544384587145473e-16\n",
      "1.8544384587145473e-16\n",
      "1.0\n",
      "1.0\n",
      "R2score: 0.7279547535722914\n",
      "root mean squared error:  0.5490443824755353\n"
     ]
    }
   ],
   "source": [
    "print(np.mean(X_train_scaled[:,0]))\n",
    "print(np.mean(X_test_scaled[:,0]))\n",
    "print(np.std(X_train_scaled[:,0]))\n",
    "print(np.std(X_test_scaled[:,0]))\n",
    "\n",
    "# model evaluation\n",
    "# ref: https://towardsdatascience.com/multiple-regression-as-a-machine-learning-algorithm-a98a6b9f307b\n",
    "from sklearn.metrics import r2_score, mean_squared_error\n",
    "score5 = r2_score(y, y_pred)\n",
    "print(\"R2score:\", score5)\n",
    "rmse5 = mean_squared_error(y, y_pred, squared=False)\n",
    "print('root mean squared error: ', rmse5)\n",
    "# ref: https://datagy.io/python-sklearn-linear-regression/"
   ]
  },
  {
   "cell_type": "code",
   "execution_count": 46,
   "id": "cf09b9a8",
   "metadata": {
    "scrolled": true
   },
   "outputs": [
    {
     "data": {
      "text/html": [
       "<div>\n",
       "<style scoped>\n",
       "    .dataframe tbody tr th:only-of-type {\n",
       "        vertical-align: middle;\n",
       "    }\n",
       "\n",
       "    .dataframe tbody tr th {\n",
       "        vertical-align: top;\n",
       "    }\n",
       "\n",
       "    .dataframe thead th {\n",
       "        text-align: right;\n",
       "    }\n",
       "</style>\n",
       "<table border=\"1\" class=\"dataframe\">\n",
       "  <thead>\n",
       "    <tr style=\"text-align: right;\">\n",
       "      <th></th>\n",
       "      <th>Prediction</th>\n",
       "      <th>Actual</th>\n",
       "    </tr>\n",
       "  </thead>\n",
       "  <tbody>\n",
       "    <tr>\n",
       "      <th>0</th>\n",
       "      <td>5.445391</td>\n",
       "      <td>4.995</td>\n",
       "    </tr>\n",
       "    <tr>\n",
       "      <th>1</th>\n",
       "      <td>5.301411</td>\n",
       "      <td>4.745</td>\n",
       "    </tr>\n",
       "    <tr>\n",
       "      <th>2</th>\n",
       "      <td>5.377135</td>\n",
       "      <td>5.488</td>\n",
       "    </tr>\n",
       "    <tr>\n",
       "      <th>3</th>\n",
       "      <td>7.012214</td>\n",
       "      <td>7.195</td>\n",
       "    </tr>\n",
       "    <tr>\n",
       "      <th>4</th>\n",
       "      <td>5.582590</td>\n",
       "      <td>5.173</td>\n",
       "    </tr>\n",
       "  </tbody>\n",
       "</table>\n",
       "</div>"
      ],
      "text/plain": [
       "   Prediction  Actual\n",
       "0    5.445391   4.995\n",
       "1    5.301411   4.745\n",
       "2    5.377135   5.488\n",
       "3    7.012214   7.195\n",
       "4    5.582590   5.173"
      ]
     },
     "execution_count": 46,
     "metadata": {},
     "output_type": "execute_result"
    }
   ],
   "source": [
    "# Make predictions using the test data\n",
    "y_pred = model.predict(X)\n",
    "results = pd.DataFrame({\n",
    "    \"Prediction\": y_pred, \n",
    "    \"Actual\": y\n",
    "}).reset_index(drop=True)\n",
    "results.head()"
   ]
  },
  {
   "cell_type": "code",
   "execution_count": 47,
   "id": "12b36aae",
   "metadata": {
    "scrolled": true
   },
   "outputs": [
    {
     "name": "stdout",
     "output_type": "stream",
     "text": [
      "[-1.06049249e-02  1.76749031e-05  1.14697308e-02  1.38588643e-02\n",
      " -3.72822406e-02]\n",
      "4.696738289427705\n"
     ]
    }
   ],
   "source": [
    "# The slope\n",
    "# The y-intercept\n",
    "print(model.coef_)\n",
    "print(model.intercept_)"
   ]
  },
  {
   "cell_type": "markdown",
   "id": "d7dd3968",
   "metadata": {},
   "source": [
    "## Modeling -- linear regression using all 4 indep variables except \"life_expectancy\" , \"gender_ratio_males_per100_female\" , \"democracy_index\", \"consumer_price_index\" \"infant_mortality_per1000_births\" & \"population_density\""
   ]
  },
  {
   "cell_type": "code",
   "execution_count": 48,
   "id": "7f44e002",
   "metadata": {},
   "outputs": [],
   "source": [
    "# select features \n",
    "target = \"life_ladder\"\n",
    "features = happiness_joined_df.columns.drop([target,\"country_code\",\"country_name\", \"life_expectancy\", \"consumer_price_index\", \"population_density\", \"gender_ratio_males_per100_female\", \"democracy_index\", \"infant_mortality_per1000_births\"])#,\"gender_ratio_males_per100_female\", \"population_density\"])#,\"unemployment_rate\"])\n",
    "X = happiness_joined_df[features]\n",
    "y = happiness_joined_df[target]\n"
   ]
  },
  {
   "cell_type": "code",
   "execution_count": 49,
   "id": "b36314e2",
   "metadata": {},
   "outputs": [
    {
     "name": "stdout",
     "output_type": "stream",
     "text": [
      "(91, 4)\n",
      "(91,)\n"
     ]
    }
   ],
   "source": [
    "\n",
    "from sklearn import linear_model\n",
    "from sklearn.linear_model import LinearRegression\n",
    "# instantiate model\n",
    "model = linear_model.LinearRegression()\n",
    "# fit model\n",
    "model.fit(X, y)\n",
    "\n",
    "# fit\n",
    "model.fit(X, y)\n",
    "# predict\n",
    "y_pred = model.predict(X)\n",
    "from sklearn.preprocessing import StandardScaler\n",
    "# 3) Creating a StandardScaler instance.\n",
    "scaler = StandardScaler()\n",
    "# Fitting the Standard Scaler with the training data.\n",
    "X_scaler = scaler.fit(X)\n",
    "\n",
    "# 4) Scaling the data.\n",
    "X_train_scaled = X_scaler.transform(X)\n",
    "X_test_scaled = X_scaler.transform(X)\n",
    "print(X.shape)\n",
    "print(y.shape)"
   ]
  },
  {
   "cell_type": "code",
   "execution_count": 50,
   "id": "95ddbcdf",
   "metadata": {},
   "outputs": [
    {
     "name": "stdout",
     "output_type": "stream",
     "text": [
      "-4.1480860260720135e-17\n",
      "-4.1480860260720135e-17\n",
      "1.0\n",
      "1.0\n",
      "R2score: 0.7208849585881073\n",
      "root mean squared error:  0.5561327899882408\n"
     ]
    }
   ],
   "source": [
    "print(np.mean(X_train_scaled[:,0]))\n",
    "print(np.mean(X_test_scaled[:,0]))\n",
    "print(np.std(X_train_scaled[:,0]))\n",
    "print(np.std(X_test_scaled[:,0]))\n",
    "\n",
    "# model evaluation\n",
    "# ref: https://towardsdatascience.com/multiple-regression-as-a-machine-learning-algorithm-a98a6b9f307b\n",
    "from sklearn.metrics import r2_score, mean_squared_error\n",
    "score4 = r2_score(y, y_pred)\n",
    "print(\"R2score:\", score4)\n",
    "rmse4 = mean_squared_error(y, y_pred, squared=False)\n",
    "print('root mean squared error: ', rmse4)\n",
    "# ref: https://datagy.io/python-sklearn-linear-regression/"
   ]
  },
  {
   "cell_type": "code",
   "execution_count": 51,
   "id": "02cd5839",
   "metadata": {},
   "outputs": [
    {
     "data": {
      "text/html": [
       "<div>\n",
       "<style scoped>\n",
       "    .dataframe tbody tr th:only-of-type {\n",
       "        vertical-align: middle;\n",
       "    }\n",
       "\n",
       "    .dataframe tbody tr th {\n",
       "        vertical-align: top;\n",
       "    }\n",
       "\n",
       "    .dataframe thead th {\n",
       "        text-align: right;\n",
       "    }\n",
       "</style>\n",
       "<table border=\"1\" class=\"dataframe\">\n",
       "  <thead>\n",
       "    <tr style=\"text-align: right;\">\n",
       "      <th></th>\n",
       "      <th>Prediction</th>\n",
       "      <th>Actual</th>\n",
       "    </tr>\n",
       "  </thead>\n",
       "  <tbody>\n",
       "    <tr>\n",
       "      <th>0</th>\n",
       "      <td>5.350973</td>\n",
       "      <td>4.995</td>\n",
       "    </tr>\n",
       "    <tr>\n",
       "      <th>1</th>\n",
       "      <td>5.349520</td>\n",
       "      <td>4.745</td>\n",
       "    </tr>\n",
       "    <tr>\n",
       "      <th>2</th>\n",
       "      <td>5.379218</td>\n",
       "      <td>5.488</td>\n",
       "    </tr>\n",
       "    <tr>\n",
       "      <th>3</th>\n",
       "      <td>7.054887</td>\n",
       "      <td>7.195</td>\n",
       "    </tr>\n",
       "    <tr>\n",
       "      <th>4</th>\n",
       "      <td>5.706312</td>\n",
       "      <td>5.173</td>\n",
       "    </tr>\n",
       "  </tbody>\n",
       "</table>\n",
       "</div>"
      ],
      "text/plain": [
       "   Prediction  Actual\n",
       "0    5.350973   4.995\n",
       "1    5.349520   4.745\n",
       "2    5.379218   5.488\n",
       "3    7.054887   7.195\n",
       "4    5.706312   5.173"
      ]
     },
     "execution_count": 51,
     "metadata": {},
     "output_type": "execute_result"
    }
   ],
   "source": [
    "# Make predictions using the test data\n",
    "y_pred = model.predict(X)\n",
    "results = pd.DataFrame({\n",
    "    \"Prediction\": y_pred, \n",
    "    \"Actual\": y\n",
    "}).reset_index(drop=True)\n",
    "results.head()"
   ]
  },
  {
   "cell_type": "code",
   "execution_count": 52,
   "id": "47b30a5d",
   "metadata": {},
   "outputs": [
    {
     "name": "stdout",
     "output_type": "stream",
     "text": [
      "[ 1.67830469e-05  1.75322034e-02  1.76528906e-02 -4.06143628e-02]\n",
      "4.025079654598346\n"
     ]
    }
   ],
   "source": [
    "# The slope\n",
    "# The y-intercept\n",
    "print(model.coef_)\n",
    "print(model.intercept_)"
   ]
  },
  {
   "cell_type": "markdown",
   "id": "292003bd",
   "metadata": {},
   "source": [
    "# -------------------------  the END ------------------------------------------------"
   ]
  },
  {
   "cell_type": "code",
   "execution_count": 53,
   "id": "c30e9e5a",
   "metadata": {
    "scrolled": true
   },
   "outputs": [
    {
     "data": {
      "text/html": [
       "<div>\n",
       "<style scoped>\n",
       "    .dataframe tbody tr th:only-of-type {\n",
       "        vertical-align: middle;\n",
       "    }\n",
       "\n",
       "    .dataframe tbody tr th {\n",
       "        vertical-align: top;\n",
       "    }\n",
       "\n",
       "    .dataframe thead th {\n",
       "        text-align: right;\n",
       "    }\n",
       "</style>\n",
       "<table border=\"1\" class=\"dataframe\">\n",
       "  <thead>\n",
       "    <tr style=\"text-align: right;\">\n",
       "      <th></th>\n",
       "      <th>Model using X-variables except:</th>\n",
       "      <th>Model_R2_shifts</th>\n",
       "      <th>rmse_shifts</th>\n",
       "    </tr>\n",
       "  </thead>\n",
       "  <tbody>\n",
       "    <tr>\n",
       "      <th>0</th>\n",
       "      <td>\"country_code\" &amp; \"country_name\"</td>\n",
       "      <td>0.746865</td>\n",
       "      <td>0.529619</td>\n",
       "    </tr>\n",
       "    <tr>\n",
       "      <th>1</th>\n",
       "      <td>“ &amp;  \"life_expectancy\"</td>\n",
       "      <td>0.746750</td>\n",
       "      <td>0.529739</td>\n",
       "    </tr>\n",
       "    <tr>\n",
       "      <th>2</th>\n",
       "      <td>“ &amp; \"consumer_price_index\"</td>\n",
       "      <td>0.744551</td>\n",
       "      <td>0.532034</td>\n",
       "    </tr>\n",
       "    <tr>\n",
       "      <th>3</th>\n",
       "      <td>“ &amp; \"population_density\"</td>\n",
       "      <td>0.739275</td>\n",
       "      <td>0.537500</td>\n",
       "    </tr>\n",
       "    <tr>\n",
       "      <th>4</th>\n",
       "      <td>“ &amp; \"gender_ratio_males_per100_female\"</td>\n",
       "      <td>0.733217</td>\n",
       "      <td>0.543708</td>\n",
       "    </tr>\n",
       "    <tr>\n",
       "      <th>5</th>\n",
       "      <td>\" &amp; \"democracy_index\"</td>\n",
       "      <td>0.727955</td>\n",
       "      <td>0.549044</td>\n",
       "    </tr>\n",
       "    <tr>\n",
       "      <th>6</th>\n",
       "      <td>\" &amp; infant_mortality_per1000_births</td>\n",
       "      <td>0.720885</td>\n",
       "      <td>0.556133</td>\n",
       "    </tr>\n",
       "  </tbody>\n",
       "</table>\n",
       "</div>"
      ],
      "text/plain": [
       "          Model using X-variables except:  Model_R2_shifts  rmse_shifts\n",
       "0         \"country_code\" & \"country_name\"         0.746865     0.529619\n",
       "1                  “ &  \"life_expectancy\"         0.746750     0.529739\n",
       "2              “ & \"consumer_price_index\"         0.744551     0.532034\n",
       "3                “ & \"population_density\"         0.739275     0.537500\n",
       "4  “ & \"gender_ratio_males_per100_female\"         0.733217     0.543708\n",
       "5                   \" & \"democracy_index\"         0.727955     0.549044\n",
       "6     \" & infant_mortality_per1000_births         0.720885     0.556133"
      ]
     },
     "execution_count": 53,
     "metadata": {},
     "output_type": "execute_result"
    }
   ],
   "source": [
    "# summary_df that shows upward/lower shifts in rerunning the model after deleting some variables:\n",
    "# initialize list of lists\n",
    "data = [['\"country_code\" & \"country_name\"', score10,rmse10 ], ['“ &  \"life_expectancy\"', score9,rmse9], ['“ & \"consumer_price_index\"', score8,rmse8],['“ & \"population_density\"', score7,rmse7],['“ & \"gender_ratio_males_per100_female\"', score6,rmse6],['\" & \"democracy_index\"', score5,rmse5],['\" & infant_mortality_per1000_births', score4,rmse4]]\n",
    " \n",
    "# Create the pandas DataFrame\n",
    "summaryNo_splits_df = pd.DataFrame(data, columns = ['Model using X-variables except:', 'Model_R2_shifts', 'rmse_shifts'])\n",
    "summaryNo_splits_df\n"
   ]
  },
  {
   "cell_type": "raw",
   "id": "fc9458bd",
   "metadata": {},
   "source": [
    "It is noticed that after choosing to delete the x-variable up until the \"consumer_price_index\" [row 3] where R2 is shifted is in good condition and RMSE is the least of all, our model is best at its accuracy. "
   ]
  },
  {
   "cell_type": "code",
   "execution_count": null,
   "id": "51e20d1f",
   "metadata": {},
   "outputs": [],
   "source": [
    "# Creating a pairwise plot in Seaborn\n",
    "import seaborn as sns\n",
    "import matplotlib.pyplot as plt\n",
    "sns.pairplot(happiness_joined_df)\n",
    "plt.show()"
   ]
  },
  {
   "cell_type": "code",
   "execution_count": null,
   "id": "c37d0eaa",
   "metadata": {},
   "outputs": [],
   "source": []
  },
  {
   "cell_type": "code",
   "execution_count": null,
   "id": "37aae545",
   "metadata": {},
   "outputs": [],
   "source": []
  },
  {
   "cell_type": "code",
   "execution_count": null,
   "id": "9e16983b",
   "metadata": {},
   "outputs": [],
   "source": []
  },
  {
   "cell_type": "code",
   "execution_count": null,
   "id": "724d5072",
   "metadata": {},
   "outputs": [],
   "source": []
  },
  {
   "cell_type": "code",
   "execution_count": null,
   "id": "8d7ef901",
   "metadata": {},
   "outputs": [],
   "source": []
  },
  {
   "cell_type": "code",
   "execution_count": null,
   "id": "089a3fb9",
   "metadata": {},
   "outputs": [],
   "source": []
  },
  {
   "cell_type": "code",
   "execution_count": null,
   "id": "0efa7969",
   "metadata": {},
   "outputs": [],
   "source": []
  },
  {
   "cell_type": "code",
   "execution_count": null,
   "id": "66789e97",
   "metadata": {},
   "outputs": [],
   "source": []
  },
  {
   "cell_type": "code",
   "execution_count": null,
   "id": "2334d07f",
   "metadata": {},
   "outputs": [],
   "source": [
    "# https://towardsdatascience.com/super-simple-machine-learning-by-me-multiple-linear-regression-part-1-447800e8b624\n",
    "# https://www.datacourses.com/find-p-value-significance-in-scikit-learn-3810/\n",
    "# https://www.w3schools.com/python/python_ml_multiple_regression.asp\n",
    "\n",
    "# https://www.quora.com/What-are-some-good-machine-learning-algorithms-for-predicting-a-continuous-variable-with-N-number-of-inputs\n",
    "# https://www.jigsawacademy.com/popular-regression-algorithms-ml/   (imp)\n",
    "\n",
    "\n",
    "# https://colab.research.google.com/drive/1TY5M27edj_Aeh-vWE42SUMUwv49w-EW5?usp=sharing&authuser=1#scrollTo=Efpl-zrCO27f"
   ]
  },
  {
   "cell_type": "code",
   "execution_count": null,
   "id": "9d7673fe",
   "metadata": {},
   "outputs": [],
   "source": [
    "# Import linear regression from the SciPy stats module.\n",
    "from scipy.stats import linregress"
   ]
  },
  {
   "cell_type": "code",
   "execution_count": null,
   "id": "cbff5dd4",
   "metadata": {},
   "outputs": [],
   "source": [
    "# Perform linear regression.\n",
    "(slope, intercept, r_value, p_value, std_err) = linregress(model.fit(X, y))\n",
    "# Get the equation of the line.\n",
    "line_eq = \"y = \" + str(round(slope,2)) + \"x + \" + str(round(intercept,2))\n",
    "print(line_eq)\n",
    "print(f\"The p-value is: {p_value:.3f}\")"
   ]
  },
  {
   "cell_type": "code",
   "execution_count": null,
   "id": "c4638b55",
   "metadata": {},
   "outputs": [],
   "source": [
    "import statsmodels.api as sm\n",
    "X2 = sm.add_constant(X)\n",
    "est = sm.OLS(y, X2)\n",
    "est2 = est.fit()\n",
    "print(est2.summary())# delete the code "
   ]
  },
  {
   "cell_type": "code",
   "execution_count": null,
   "id": "80381e95",
   "metadata": {},
   "outputs": [],
   "source": [
    "# rerun the significant value >0.05 value for the indep cvariables\n",
    "# seperate with subheadings for each variables "
   ]
  },
  {
   "cell_type": "code",
   "execution_count": null,
   "id": "f11f61b4",
   "metadata": {},
   "outputs": [],
   "source": [
    "# select features \n",
    "#X = happiness_joined_df[['democracy_index','consumer_price_index','gender_ratio_males_per100_female','infant_mortality_per1000_births','life_expectancy','per_capita_gdp_dollars','population_density','safe_drinking_water_access_pct','seats_held_by_women_pct','unemployment_rate']]\n",
    "#y = happiness_joined_df[\"life_ladder\"]\n",
    "# ref: https://www.pluralsight.com/guides/importing-and-splitting-data-into-dependent-and-independent-features-for-ml\n",
    "# ref: https://towardsdatascience.com/multiple-regression-as-a-machine-learning-algorithm-a98a6b9f307b\n",
    "\n",
    "\n",
    "target = \"life_ladder\"\n",
    "features = happiness_joined_df.columns.drop([target,\"country_code\",\"country_name\", \"life_expectancy\", \"consumer_price_index\", \"democracy_index\", \"infant_mortality_per1000_births\",\"gender_ratio_males_per100_female\", \"population_density\"])#,\"unemployment_rate\"])\n",
    "X = happiness_joined_df[features]\n",
    "y = happiness_joined_df[target]"
   ]
  }
 ],
 "metadata": {
  "kernelspec": {
   "display_name": "mlenv",
   "language": "python",
   "name": "mlenv"
  },
  "language_info": {
   "codemirror_mode": {
    "name": "ipython",
    "version": 3
   },
   "file_extension": ".py",
   "mimetype": "text/x-python",
   "name": "python",
   "nbconvert_exporter": "python",
   "pygments_lexer": "ipython3",
   "version": "3.7.11"
  }
 },
 "nbformat": 4,
 "nbformat_minor": 5
}
