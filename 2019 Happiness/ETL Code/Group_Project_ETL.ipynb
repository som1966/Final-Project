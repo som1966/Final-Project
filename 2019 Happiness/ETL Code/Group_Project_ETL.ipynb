{
  "nbformat": 4,
  "nbformat_minor": 0,
  "metadata": {
    "colab": {
      "name": "Group_Project_ETL.ipynb",
      "provenance": []
    },
    "kernelspec": {
      "name": "python3",
      "display_name": "Python 3"
    },
    "language_info": {
      "name": "python"
    }
  },
  "cells": [
    {
      "cell_type": "markdown",
      "source": [
        "# **ETL process from S3 to PostgreSQL using Google Colab and PySpark**"
      ],
      "metadata": {
        "id": "5yC-wOC71Tso"
      }
    },
    {
      "cell_type": "markdown",
      "source": [
        "# Load PySpark and prep environment for Etract and Load processes"
      ],
      "metadata": {
        "id": "zFjjcrAWuToI"
      }
    },
    {
      "cell_type": "code",
      "execution_count": 125,
      "metadata": {
        "colab": {
          "base_uri": "https://localhost:8080/"
        },
        "id": "TaXkD4mzwjtu",
        "outputId": "935db8ba-9757-48f8-f725-5c23299d1a2f"
      },
      "outputs": [
        {
          "output_type": "stream",
          "name": "stdout",
          "text": [
            "Ign:1 https://developer.download.nvidia.com/compute/cuda/repos/ubuntu1804/x86_64  InRelease\n",
            "Hit:2 https://cloud.r-project.org/bin/linux/ubuntu bionic-cran40/ InRelease\n",
            "Ign:3 https://developer.download.nvidia.com/compute/machine-learning/repos/ubuntu1804/x86_64  InRelease\n",
            "Hit:4 https://developer.download.nvidia.com/compute/cuda/repos/ubuntu1804/x86_64  Release\n",
            "Hit:5 https://developer.download.nvidia.com/compute/machine-learning/repos/ubuntu1804/x86_64  Release\n",
            "Hit:6 http://ppa.launchpad.net/c2d4u.team/c2d4u4.0+/ubuntu bionic InRelease\n",
            "Hit:7 http://archive.ubuntu.com/ubuntu bionic InRelease\n",
            "Get:8 http://security.ubuntu.com/ubuntu bionic-security InRelease [88.7 kB]\n",
            "Get:9 http://archive.ubuntu.com/ubuntu bionic-updates InRelease [88.7 kB]\n",
            "Hit:11 http://ppa.launchpad.net/cran/libgit2/ubuntu bionic InRelease\n",
            "Hit:13 http://ppa.launchpad.net/deadsnakes/ppa/ubuntu bionic InRelease\n",
            "Get:14 http://archive.ubuntu.com/ubuntu bionic-backports InRelease [74.6 kB]\n",
            "Hit:15 http://ppa.launchpad.net/graphics-drivers/ppa/ubuntu bionic InRelease\n",
            "Fetched 252 kB in 3s (86.4 kB/s)\n",
            "Reading package lists... Done\n"
          ]
        }
      ],
      "source": [
        "# Install PySpark\n",
        "import os\n",
        "spark_version = 'spark-3.0.3'\n",
        "os.environ['SPARK_VERSION']=spark_version\n",
        "\n",
        "# Install Spark and Java\n",
        "!apt-get update\n",
        "!apt-get install openjdk-11-jdk-headless -qq > /dev/null\n",
        "!wget -q http://www.apache.org/dist/spark/$SPARK_VERSION/$SPARK_VERSION-bin-hadoop2.7.tgz\n",
        "!tar xf $SPARK_VERSION-bin-hadoop2.7.tgz\n",
        "!pip install -q findspark\n",
        "\n",
        "# Set Environment Variables\n",
        "import os\n",
        "os.environ[\"JAVA_HOME\"] = \"/usr/lib/jvm/java-11-openjdk-amd64\"\n",
        "os.environ[\"SPARK_HOME\"] = f\"/content/{spark_version}-bin-hadoop2.7\"\n",
        "\n",
        "# Start a SparkSession\n",
        "import findspark\n",
        "findspark.init()"
      ]
    },
    {
      "cell_type": "code",
      "source": [
        "# Download the Postgres driver that will allow Spark to interact with Postgres.\n",
        "!wget https://jdbc.postgresql.org/download/postgresql-42.2.16.jar"
      ],
      "metadata": {
        "colab": {
          "base_uri": "https://localhost:8080/"
        },
        "id": "iY4eUINuxPMZ",
        "outputId": "17843140-7a7d-4924-cbed-638f0baf70be"
      },
      "execution_count": 126,
      "outputs": [
        {
          "output_type": "stream",
          "name": "stdout",
          "text": [
            "--2022-01-25 03:48:31--  https://jdbc.postgresql.org/download/postgresql-42.2.16.jar\n",
            "Resolving jdbc.postgresql.org (jdbc.postgresql.org)... 72.32.157.228, 2001:4800:3e1:1::228\n",
            "Connecting to jdbc.postgresql.org (jdbc.postgresql.org)|72.32.157.228|:443... connected.\n",
            "HTTP request sent, awaiting response... 200 OK\n",
            "Length: 1002883 (979K) [application/java-archive]\n",
            "Saving to: ‘postgresql-42.2.16.jar.5’\n",
            "\n",
            "postgresql-42.2.16. 100%[===================>] 979.38K  1.22MB/s    in 0.8s    \n",
            "\n",
            "2022-01-25 03:48:33 (1.22 MB/s) - ‘postgresql-42.2.16.jar.5’ saved [1002883/1002883]\n",
            "\n"
          ]
        }
      ]
    },
    {
      "cell_type": "code",
      "source": [
        "# Start a Spark session with an additional option that adds the driver to Spark.\n",
        "# This connection is necessary for the Load processes\n",
        "from pyspark.sql import SparkSession\n",
        "spark = SparkSession.builder.appName(\"CloudETL\").config(\"spark.driver.extraClassPath\",\"/content/postgresql-42.2.16.jar\").getOrCreate()"
      ],
      "metadata": {
        "id": "v1s7oOd8xHeG"
      },
      "execution_count": 127,
      "outputs": []
    },
    {
      "cell_type": "code",
      "source": [
        "# Store environmental variable for Load processes\n",
        "from getpass import getpass\n",
        "password = getpass('Enter PW')"
      ],
      "metadata": {
        "id": "m2QTyteg0nVD",
        "colab": {
          "base_uri": "https://localhost:8080/"
        },
        "outputId": "549e5384-223c-4d29-8ed1-4ad9e77c961a"
      },
      "execution_count": 128,
      "outputs": [
        {
          "name": "stdout",
          "output_type": "stream",
          "text": [
            "Enter PW··········\n"
          ]
        }
      ]
    },
    {
      "cell_type": "code",
      "source": [
        "# Configure settings for RDS used for Load processes\n",
        "mode = \"append\"\n",
        "jdbc_url=\"jdbc:postgresql://gw-group-project.ctg85syqs9uc.us-east-1.rds.amazonaws.com:5432/project_happiness\"\n",
        "config = {\"user\":\"postgres\", \n",
        "          \"password\": password, \n",
        "          \"driver\":\"org.postgresql.Driver\"}"
      ],
      "metadata": {
        "id": "-BMNSY1r2jWO"
      },
      "execution_count": 129,
      "outputs": []
    },
    {
      "cell_type": "code",
      "source": [
        "# Load SparkFile module for Extract processes\n",
        "from pyspark import SparkFiles"
      ],
      "metadata": {
        "id": "qiJvypoE5C6v"
      },
      "execution_count": 130,
      "outputs": []
    },
    {
      "cell_type": "markdown",
      "source": [
        "# **ETL Process for all 12 datasets**"
      ],
      "metadata": {
        "id": "OnR1SbRcKziM"
      }
    },
    {
      "cell_type": "markdown",
      "source": [
        "# 1 - country_list_df"
      ],
      "metadata": {
        "id": "U9qwiZuYLAYf"
      }
    },
    {
      "cell_type": "markdown",
      "source": [
        "## Extract"
      ],
      "metadata": {
        "id": "QQKxABlCuwpW"
      }
    },
    {
      "cell_type": "code",
      "source": [
        "# Read in Country data from S3 Bucket\n",
        "url = \"https://corti-gw-group-project.s3.amazonaws.com/Unprocessed+Data/UN_Country.csv\"\n",
        "spark.sparkContext.addFile(url)\n",
        "country_list_df = spark.read.csv(SparkFiles.get(\"UN_Country.csv\"), sep=\",\", header=True, inferSchema=True)"
      ],
      "metadata": {
        "id": "O2NBJLDf0gE4"
      },
      "execution_count": 131,
      "outputs": []
    },
    {
      "cell_type": "code",
      "source": [
        "# Show Country DataFrame and data types\n",
        "country_list_df.show()\n",
        "country_list_df.dtypes"
      ],
      "metadata": {
        "colab": {
          "base_uri": "https://localhost:8080/"
        },
        "id": "9kM9ZwDi02FQ",
        "outputId": "3a664902-1a31-4429-93b3-939e59af0fef"
      },
      "execution_count": 132,
      "outputs": [
        {
          "output_type": "stream",
          "name": "stdout",
          "text": [
            "+------------+-------------------+\n",
            "|country_code|       country_name|\n",
            "+------------+-------------------+\n",
            "|           4|        Afghanistan|\n",
            "|           8|            Albania|\n",
            "|          12|            Algeria|\n",
            "|          16|     American Samoa|\n",
            "|          20|            Andorra|\n",
            "|          24|             Angola|\n",
            "|         660|           Anguilla|\n",
            "|          28|Antigua and Barbuda|\n",
            "|          32|          Argentina|\n",
            "|          51|            Armenia|\n",
            "|         533|              Aruba|\n",
            "|          36|          Australia|\n",
            "|          40|            Austria|\n",
            "|          31|         Azerbaijan|\n",
            "|          44|            Bahamas|\n",
            "|          48|            Bahrain|\n",
            "|          50|         Bangladesh|\n",
            "|          52|           Barbados|\n",
            "|         112|            Belarus|\n",
            "|          56|            Belgium|\n",
            "+------------+-------------------+\n",
            "only showing top 20 rows\n",
            "\n"
          ]
        },
        {
          "output_type": "execute_result",
          "data": {
            "text/plain": [
              "[('country_code', 'int'), ('country_name', 'string')]"
            ]
          },
          "metadata": {},
          "execution_count": 132
        }
      ]
    },
    {
      "cell_type": "code",
      "source": [
        "# Row and column count pre-cleaning\n",
        "print(country_list_df.count(), len(country_list_df.columns))"
      ],
      "metadata": {
        "colab": {
          "base_uri": "https://localhost:8080/"
        },
        "id": "Fxts3XL0L0eX",
        "outputId": "7998f91c-d5e2-47e4-9d55-4efd36ee1c0c"
      },
      "execution_count": 133,
      "outputs": [
        {
          "output_type": "stream",
          "name": "stdout",
          "text": [
            "235 2\n"
          ]
        }
      ]
    },
    {
      "cell_type": "markdown",
      "source": [
        "## Transform"
      ],
      "metadata": {
        "id": "H6VLY1-Cu2w-"
      }
    },
    {
      "cell_type": "code",
      "source": [
        "# Drop Nulls\n",
        "country_list_df = country_list_df.dropna()"
      ],
      "metadata": {
        "id": "8tCvluglLFZ2"
      },
      "execution_count": 134,
      "outputs": []
    },
    {
      "cell_type": "code",
      "source": [
        "# Row and column count post-cleaning\n",
        "print(country_list_df.count(), len(country_list_df.columns))"
      ],
      "metadata": {
        "colab": {
          "base_uri": "https://localhost:8080/"
        },
        "id": "HjcAV7YoMNU0",
        "outputId": "14827839-2143-4786-dc42-c7f2cb17c35b"
      },
      "execution_count": 135,
      "outputs": [
        {
          "output_type": "stream",
          "name": "stdout",
          "text": [
            "235 2\n"
          ]
        }
      ]
    },
    {
      "cell_type": "code",
      "source": [
        "country_list_df.show()\n",
        "country_list_df.dtypes"
      ],
      "metadata": {
        "colab": {
          "base_uri": "https://localhost:8080/"
        },
        "id": "hLwO5h5NP_j5",
        "outputId": "45820a2f-ae05-4cf8-e270-d181c1f14a9f"
      },
      "execution_count": 136,
      "outputs": [
        {
          "output_type": "stream",
          "name": "stdout",
          "text": [
            "+------------+-------------------+\n",
            "|country_code|       country_name|\n",
            "+------------+-------------------+\n",
            "|           4|        Afghanistan|\n",
            "|           8|            Albania|\n",
            "|          12|            Algeria|\n",
            "|          16|     American Samoa|\n",
            "|          20|            Andorra|\n",
            "|          24|             Angola|\n",
            "|         660|           Anguilla|\n",
            "|          28|Antigua and Barbuda|\n",
            "|          32|          Argentina|\n",
            "|          51|            Armenia|\n",
            "|         533|              Aruba|\n",
            "|          36|          Australia|\n",
            "|          40|            Austria|\n",
            "|          31|         Azerbaijan|\n",
            "|          44|            Bahamas|\n",
            "|          48|            Bahrain|\n",
            "|          50|         Bangladesh|\n",
            "|          52|           Barbados|\n",
            "|         112|            Belarus|\n",
            "|          56|            Belgium|\n",
            "+------------+-------------------+\n",
            "only showing top 20 rows\n",
            "\n"
          ]
        },
        {
          "output_type": "execute_result",
          "data": {
            "text/plain": [
              "[('country_code', 'int'), ('country_name', 'string')]"
            ]
          },
          "metadata": {},
          "execution_count": 136
        }
      ]
    },
    {
      "cell_type": "markdown",
      "source": [
        "## Load"
      ],
      "metadata": {
        "id": "NVbc7W1Uu6mC"
      }
    },
    {
      "cell_type": "code",
      "source": [
        "# Write county_list_df to table in RDS\n",
        "country_list_df.write.jdbc(url=jdbc_url, table='country', mode=mode, properties=config)"
      ],
      "metadata": {
        "id": "1CjvicVk4Jjs"
      },
      "execution_count": 137,
      "outputs": []
    },
    {
      "cell_type": "markdown",
      "source": [
        "\n",
        "\n",
        "---\n",
        "\n"
      ],
      "metadata": {
        "id": "BezpdsG1T69U"
      }
    },
    {
      "cell_type": "markdown",
      "source": [
        "# 2 - demoracy_index_df"
      ],
      "metadata": {
        "id": "X4-ZUeoeLFvF"
      }
    },
    {
      "cell_type": "markdown",
      "source": [
        "## Extract"
      ],
      "metadata": {
        "id": "XA8_qaCUvC1U"
      }
    },
    {
      "cell_type": "code",
      "source": [
        "# Read in Democracy Index data from S3 Bucket\n",
        "url = \"https://corti-gw-group-project.s3.amazonaws.com/Unprocessed+Data/Democracy_Index_2019.csv\"\n",
        "spark.sparkContext.addFile(url)\n",
        "demoracy_index_df = spark.read.csv(SparkFiles.get(\"Democracy_Index_2019.csv\"), sep=\",\", header=True, inferSchema=True)"
      ],
      "metadata": {
        "id": "asKyf9fh_4sw"
      },
      "execution_count": 138,
      "outputs": []
    },
    {
      "cell_type": "code",
      "source": [
        "demoracy_index_df.show()\n",
        "demoracy_index_df.dtypes"
      ],
      "metadata": {
        "id": "OELDgDKJALLa",
        "colab": {
          "base_uri": "https://localhost:8080/"
        },
        "outputId": "8c67ab0c-7657-4f2e-acc8-7e03cdf63b3e"
      },
      "execution_count": 139,
      "outputs": [
        {
          "output_type": "stream",
          "name": "stdout",
          "text": [
            "+------------+--------------------+----+---------------------+\n",
            "|country_code|        country_name|  yr|Democracy index (EIU)|\n",
            "+------------+--------------------+----+---------------------+\n",
            "|           4|         Afghanistan|2019|                 28.5|\n",
            "|           8|             Albania|2019|                 58.9|\n",
            "|          12|             Algeria|2019|                 40.1|\n",
            "|          24|              Angola|2019|                 37.2|\n",
            "|          32|           Argentina|2019|                 70.2|\n",
            "|          51|             Armenia|2019|                 55.4|\n",
            "|          36|           Australia|2019|                 90.9|\n",
            "|          40|             Austria|2019|                 82.9|\n",
            "|          31|          Azerbaijan|2019|                 27.5|\n",
            "|          48|             Bahrain|2019|                 25.5|\n",
            "|          50|          Bangladesh|2019|                 58.8|\n",
            "|         112|             Belarus|2019|                 24.8|\n",
            "|          56|             Belgium|2019|                 76.4|\n",
            "|         204|               Benin|2019|                 50.9|\n",
            "|          64|              Bhutan|2019|                 53.0|\n",
            "|          68|Bolivia (Plurin. ...|2019|                 48.4|\n",
            "|          70|Bosnia and Herzeg...|2019|                 48.6|\n",
            "|          72|            Botswana|2019|                 78.1|\n",
            "|          76|              Brazil|2019|                 68.6|\n",
            "|         100|            Bulgaria|2019|                 70.3|\n",
            "+------------+--------------------+----+---------------------+\n",
            "only showing top 20 rows\n",
            "\n"
          ]
        },
        {
          "output_type": "execute_result",
          "data": {
            "text/plain": [
              "[('country_code', 'int'),\n",
              " ('country_name', 'string'),\n",
              " ('yr', 'int'),\n",
              " ('Democracy index (EIU)', 'double')]"
            ]
          },
          "metadata": {},
          "execution_count": 139
        }
      ]
    },
    {
      "cell_type": "code",
      "source": [
        "# Row and column count pre-cleaning\n",
        "print(demoracy_index_df.count(), len(demoracy_index_df.columns))"
      ],
      "metadata": {
        "id": "H9HA6cxpOGTk",
        "colab": {
          "base_uri": "https://localhost:8080/"
        },
        "outputId": "f42a05d1-a12e-4d3e-9346-bbfb468e0b20"
      },
      "execution_count": 140,
      "outputs": [
        {
          "output_type": "stream",
          "name": "stdout",
          "text": [
            "1864 4\n"
          ]
        }
      ]
    },
    {
      "cell_type": "markdown",
      "source": [
        "## Transform"
      ],
      "metadata": {
        "id": "e5WjUtf8vGzv"
      }
    },
    {
      "cell_type": "code",
      "source": [
        "# Only include relevant columns in dataframe\n",
        "demoracy_index_df = demoracy_index_df.select([\"country_code\", \"Democracy index (EIU)\"])"
      ],
      "metadata": {
        "id": "hRlrJf1dPaIG"
      },
      "execution_count": 141,
      "outputs": []
    },
    {
      "cell_type": "code",
      "source": [
        "# Rename Columns\n",
        "demoracy_index_df = demoracy_index_df.withColumnRenamed(\"Region/Country/Area\", \"country_code\")\n",
        "demoracy_index_df = demoracy_index_df.withColumnRenamed(\"Democracy index (EIU)\", \"democracy_index\")"
      ],
      "metadata": {
        "id": "eYiInOuDxv3K"
      },
      "execution_count": 142,
      "outputs": []
    },
    {
      "cell_type": "code",
      "source": [
        "# Drop Nulls\n",
        "demoracy_index_df = demoracy_index_df.dropna()"
      ],
      "metadata": {
        "id": "73xBLQppOcq7"
      },
      "execution_count": 143,
      "outputs": []
    },
    {
      "cell_type": "code",
      "source": [
        "# Row and column count post-cleaning\n",
        "print(demoracy_index_df.count(), len(demoracy_index_df.columns))"
      ],
      "metadata": {
        "id": "8Re_xethOiAD",
        "colab": {
          "base_uri": "https://localhost:8080/"
        },
        "outputId": "c7e2071f-ff4e-4e76-c2a2-16b8fb52bf95"
      },
      "execution_count": 144,
      "outputs": [
        {
          "output_type": "stream",
          "name": "stdout",
          "text": [
            "165 2\n"
          ]
        }
      ]
    },
    {
      "cell_type": "code",
      "source": [
        "demoracy_index_df.show()\n",
        "demoracy_index_df.dtypes"
      ],
      "metadata": {
        "id": "Yt6sN3LcPqw-",
        "colab": {
          "base_uri": "https://localhost:8080/"
        },
        "outputId": "b5e9caab-cb41-42a3-8001-6ecff7010dbf"
      },
      "execution_count": 145,
      "outputs": [
        {
          "output_type": "stream",
          "name": "stdout",
          "text": [
            "+------------+---------------+\n",
            "|country_code|democracy_index|\n",
            "+------------+---------------+\n",
            "|           4|           28.5|\n",
            "|           8|           58.9|\n",
            "|          12|           40.1|\n",
            "|          24|           37.2|\n",
            "|          32|           70.2|\n",
            "|          51|           55.4|\n",
            "|          36|           90.9|\n",
            "|          40|           82.9|\n",
            "|          31|           27.5|\n",
            "|          48|           25.5|\n",
            "|          50|           58.8|\n",
            "|         112|           24.8|\n",
            "|          56|           76.4|\n",
            "|         204|           50.9|\n",
            "|          64|           53.0|\n",
            "|          68|           48.4|\n",
            "|          70|           48.6|\n",
            "|          72|           78.1|\n",
            "|          76|           68.6|\n",
            "|         100|           70.3|\n",
            "+------------+---------------+\n",
            "only showing top 20 rows\n",
            "\n"
          ]
        },
        {
          "output_type": "execute_result",
          "data": {
            "text/plain": [
              "[('country_code', 'int'), ('democracy_index', 'double')]"
            ]
          },
          "metadata": {},
          "execution_count": 145
        }
      ]
    },
    {
      "cell_type": "markdown",
      "source": [
        "## Load"
      ],
      "metadata": {
        "id": "X_srDPxLvJKH"
      }
    },
    {
      "cell_type": "code",
      "source": [
        "# Write county_list_df to table in RDS\n",
        "demoracy_index_df.write.jdbc(url=jdbc_url, table='democracy_index', mode=mode, properties=config)"
      ],
      "metadata": {
        "id": "eYyTPmDcC_Ef"
      },
      "execution_count": 146,
      "outputs": []
    },
    {
      "cell_type": "markdown",
      "source": [
        "\n",
        "\n",
        "---\n",
        "\n"
      ],
      "metadata": {
        "id": "Eh64q9kET4Hw"
      }
    },
    {
      "cell_type": "markdown",
      "source": [
        "# 3 - happiness_score_df"
      ],
      "metadata": {
        "id": "tlmgpZuNQjyH"
      }
    },
    {
      "cell_type": "markdown",
      "source": [
        "## Extract"
      ],
      "metadata": {
        "id": "HVDwBi-RvObJ"
      }
    },
    {
      "cell_type": "code",
      "source": [
        "# Read in Happiness Score data from S3 Bucket\n",
        "url = 'https://corti-gw-group-project.s3.amazonaws.com/Unprocessed+Data/Happiness_Scores_2019.csv'\n",
        "spark.sparkContext.addFile(url)\n",
        "happiness_score_df = spark.read.csv(SparkFiles.get(\"Happiness_Scores_2019.csv\"), sep=\",\", header=True, inferSchema=True)"
      ],
      "metadata": {
        "id": "oueKgQf4AS-z"
      },
      "execution_count": 147,
      "outputs": []
    },
    {
      "cell_type": "code",
      "source": [
        "happiness_score_df.show()\n",
        "happiness_score_df.dtypes"
      ],
      "metadata": {
        "id": "fwraKZOUAeSw",
        "colab": {
          "base_uri": "https://localhost:8080/"
        },
        "outputId": "9f29d290-440f-4929-c7d1-47fe01d3f777"
      },
      "execution_count": 148,
      "outputs": [
        {
          "output_type": "stream",
          "name": "stdout",
          "text": [
            "+------------+--------------------+----+-----------+\n",
            "|country_code|        country_name|  yr|Life Ladder|\n",
            "+------------+--------------------+----+-----------+\n",
            "|           4|         Afghanistan|2019|      2.375|\n",
            "|           8|             Albania|2019|      4.995|\n",
            "|          12|             Algeria|2019|      4.745|\n",
            "|          32|           Argentina|2019|      6.086|\n",
            "|          51|             Armenia|2019|      5.488|\n",
            "|          36|           Australia|2019|      7.234|\n",
            "|          40|             Austria|2019|      7.195|\n",
            "|          31|          Azerbaijan|2019|      5.173|\n",
            "|          48|             Bahrain|2019|      7.098|\n",
            "|          50|          Bangladesh|2019|      5.114|\n",
            "|         112|             Belarus|2019|      5.821|\n",
            "|          56|             Belgium|2019|      6.772|\n",
            "|         204|               Benin|2019|      4.976|\n",
            "|          68|Bolivia (Plurin. ...|2019|      5.674|\n",
            "|          70|Bosnia and Herzeg...|2019|      6.016|\n",
            "|          72|            Botswana|2019|      3.471|\n",
            "|          76|              Brazil|2019|      6.451|\n",
            "|         100|            Bulgaria|2019|      5.108|\n",
            "|         854|        Burkina Faso|2019|      4.741|\n",
            "|         116|            Cambodia|2019|      4.998|\n",
            "+------------+--------------------+----+-----------+\n",
            "only showing top 20 rows\n",
            "\n"
          ]
        },
        {
          "output_type": "execute_result",
          "data": {
            "text/plain": [
              "[('country_code', 'int'),\n",
              " ('country_name', 'string'),\n",
              " ('yr', 'int'),\n",
              " ('Life Ladder', 'double')]"
            ]
          },
          "metadata": {},
          "execution_count": 148
        }
      ]
    },
    {
      "cell_type": "code",
      "source": [
        "# Row and column count pre-cleaning\n",
        "print(happiness_score_df.count(), len(happiness_score_df.columns))"
      ],
      "metadata": {
        "id": "KhfYUx_5QtoW",
        "colab": {
          "base_uri": "https://localhost:8080/"
        },
        "outputId": "5b836808-fa58-4468-a5e6-9d8bda3c953d"
      },
      "execution_count": 149,
      "outputs": [
        {
          "output_type": "stream",
          "name": "stdout",
          "text": [
            "140 4\n"
          ]
        }
      ]
    },
    {
      "cell_type": "markdown",
      "source": [
        "## Transform"
      ],
      "metadata": {
        "id": "6Z9DcxhTvQ2K"
      }
    },
    {
      "cell_type": "code",
      "source": [
        "# Only include relevant columns in dataframe\n",
        "happiness_score_df = happiness_score_df.select([\"country_code\", \"Life Ladder\"])"
      ],
      "metadata": {
        "id": "8ltyQ9HjQxG6"
      },
      "execution_count": 150,
      "outputs": []
    },
    {
      "cell_type": "code",
      "source": [
        "# Rename Columns\n",
        "happiness_score_df = happiness_score_df.withColumnRenamed(\"Life Ladder\", \"life_ladder\")"
      ],
      "metadata": {
        "id": "gEv0BH9ryrE-"
      },
      "execution_count": 151,
      "outputs": []
    },
    {
      "cell_type": "code",
      "source": [
        "# Drop Nulls\n",
        "happiness_score_df = happiness_score_df.dropna()"
      ],
      "metadata": {
        "id": "PDHPCwyhQxAy"
      },
      "execution_count": 152,
      "outputs": []
    },
    {
      "cell_type": "code",
      "source": [
        "# Row and column count post-cleaning\n",
        "print(happiness_score_df.count(), len(happiness_score_df.columns))"
      ],
      "metadata": {
        "id": "y4S9JSjWQw8L",
        "colab": {
          "base_uri": "https://localhost:8080/"
        },
        "outputId": "f6c34c16-0c35-4e72-e6ab-7369395d5c67"
      },
      "execution_count": 153,
      "outputs": [
        {
          "output_type": "stream",
          "name": "stdout",
          "text": [
            "140 2\n"
          ]
        }
      ]
    },
    {
      "cell_type": "code",
      "source": [
        "happiness_score_df.show()\n",
        "happiness_score_df.dtypes"
      ],
      "metadata": {
        "id": "oETiMN3oQw00",
        "colab": {
          "base_uri": "https://localhost:8080/"
        },
        "outputId": "60bd89c0-7b9e-4457-9088-3c673041cd3f"
      },
      "execution_count": 154,
      "outputs": [
        {
          "output_type": "stream",
          "name": "stdout",
          "text": [
            "+------------+-----------+\n",
            "|country_code|life_ladder|\n",
            "+------------+-----------+\n",
            "|           4|      2.375|\n",
            "|           8|      4.995|\n",
            "|          12|      4.745|\n",
            "|          32|      6.086|\n",
            "|          51|      5.488|\n",
            "|          36|      7.234|\n",
            "|          40|      7.195|\n",
            "|          31|      5.173|\n",
            "|          48|      7.098|\n",
            "|          50|      5.114|\n",
            "|         112|      5.821|\n",
            "|          56|      6.772|\n",
            "|         204|      4.976|\n",
            "|          68|      5.674|\n",
            "|          70|      6.016|\n",
            "|          72|      3.471|\n",
            "|          76|      6.451|\n",
            "|         100|      5.108|\n",
            "|         854|      4.741|\n",
            "|         116|      4.998|\n",
            "+------------+-----------+\n",
            "only showing top 20 rows\n",
            "\n"
          ]
        },
        {
          "output_type": "execute_result",
          "data": {
            "text/plain": [
              "[('country_code', 'int'), ('life_ladder', 'double')]"
            ]
          },
          "metadata": {},
          "execution_count": 154
        }
      ]
    },
    {
      "cell_type": "markdown",
      "source": [
        "## Load"
      ],
      "metadata": {
        "id": "gAQcYGS2vT33"
      }
    },
    {
      "cell_type": "code",
      "source": [
        "# Write happiness_score_df to table in RDS\n",
        "happiness_score_df.write.jdbc(url=jdbc_url, table='happiness_score', mode=mode, properties=config)"
      ],
      "metadata": {
        "id": "9K-25MYQDz2w"
      },
      "execution_count": 155,
      "outputs": []
    },
    {
      "cell_type": "markdown",
      "source": [
        "\n",
        "\n",
        "---\n",
        "\n"
      ],
      "metadata": {
        "id": "-HRu4U6vT0x-"
      }
    },
    {
      "cell_type": "markdown",
      "source": [
        "# 4 - consumer_price_df"
      ],
      "metadata": {
        "id": "hP1_BKLOR7JP"
      }
    },
    {
      "cell_type": "markdown",
      "source": [
        "## Extract"
      ],
      "metadata": {
        "id": "hEl1QXTyvafX"
      }
    },
    {
      "cell_type": "code",
      "source": [
        "# Read in Consumer Price Index data from S3 Bucket\n",
        "url = \"https://corti-gw-group-project.s3.amazonaws.com/Unprocessed+Data/UN_Consumer_Price+Index_2019.csv\"\n",
        "spark.sparkContext.addFile(url)\n",
        "consumer_price_df = spark.read.csv(SparkFiles.get(\"UN_Consumer_Price+Index_2019.csv\"), sep=\",\", header=True, inferSchema=True)"
      ],
      "metadata": {
        "id": "45CrGDI3AiCB"
      },
      "execution_count": 156,
      "outputs": []
    },
    {
      "cell_type": "code",
      "source": [
        "consumer_price_df.show()\n",
        "consumer_price_df.dtypes"
      ],
      "metadata": {
        "id": "GJD5e4lXH_YI",
        "colab": {
          "base_uri": "https://localhost:8080/"
        },
        "outputId": "2ba49932-eb56-4812-beb6-9beeb469a8a0"
      },
      "execution_count": 157,
      "outputs": [
        {
          "output_type": "stream",
          "name": "stdout",
          "text": [
            "+-------------------+-------------------+----+--------------------+-----+\n",
            "|Region/Country/Area|                _c1|Year|              Series|Value|\n",
            "+-------------------+-------------------+----+--------------------+-----+\n",
            "|                  4|        Afghanistan|2019|Consumer price in...|149.9|\n",
            "|                  8|            Albania|2019|Consumer price in...|119.1|\n",
            "|                 12|            Algeria|2019|Consumer price in...|151.4|\n",
            "|                 20|            Andorra|2019|Consumer price in...|105.8|\n",
            "|                 24|             Angola|2019|Consumer price in...|378.9|\n",
            "|                660|           Anguilla|2019|Consumer price in...|107.1|\n",
            "|                 28|Antigua and Barbuda|2019|Consumer price in...|115.4|\n",
            "|                 32|          Argentina|2019|Consumer price in...|232.8|\n",
            "|                 51|            Armenia|2019|Consumer price in...|129.2|\n",
            "|                533|              Aruba|2019|Consumer price in...|109.2|\n",
            "|                 36|          Australia|2019|Consumer price in...|119.8|\n",
            "|                 40|            Austria|2019|Consumer price in...|118.1|\n",
            "|                 31|         Azerbaijan|2019|Consumer price in...|156.9|\n",
            "|                 44|            Bahamas|2019|Consumer price in...|116.2|\n",
            "|                 48|            Bahrain|2019|Consumer price in...|118.8|\n",
            "|                 50|         Bangladesh|2019|Consumer price in...|179.7|\n",
            "|                 52|           Barbados|2019|Consumer price in...|191.7|\n",
            "|                112|            Belarus|2019|Consumer price in...|508.1|\n",
            "|                 56|            Belgium|2019|Consumer price in...|117.1|\n",
            "|                 84|             Belize|2019|Consumer price in...|106.2|\n",
            "+-------------------+-------------------+----+--------------------+-----+\n",
            "only showing top 20 rows\n",
            "\n"
          ]
        },
        {
          "output_type": "execute_result",
          "data": {
            "text/plain": [
              "[('Region/Country/Area', 'int'),\n",
              " ('_c1', 'string'),\n",
              " ('Year', 'int'),\n",
              " ('Series', 'string'),\n",
              " ('Value', 'double')]"
            ]
          },
          "metadata": {},
          "execution_count": 157
        }
      ]
    },
    {
      "cell_type": "code",
      "source": [
        "# Row and column count pre-cleaning\n",
        "print(consumer_price_df.count(), len(consumer_price_df.columns))"
      ],
      "metadata": {
        "id": "yshsj9uoSNWh",
        "colab": {
          "base_uri": "https://localhost:8080/"
        },
        "outputId": "6ead6fca-6ec2-4823-f258-1697c70f56c0"
      },
      "execution_count": 158,
      "outputs": [
        {
          "output_type": "stream",
          "name": "stdout",
          "text": [
            "187 5\n"
          ]
        }
      ]
    },
    {
      "cell_type": "markdown",
      "source": [
        "## Transform"
      ],
      "metadata": {
        "id": "ErOs0anLvdUN"
      }
    },
    {
      "cell_type": "code",
      "source": [
        "# Only include relevant columns in dataframe\n",
        "consumer_price_df = consumer_price_df.select([\"Region/Country/Area\", \"Value\"])"
      ],
      "metadata": {
        "id": "zd3tJW61SNOj"
      },
      "execution_count": 159,
      "outputs": []
    },
    {
      "cell_type": "code",
      "source": [
        "# Rename Columns\n",
        "consumer_price_df = consumer_price_df.withColumnRenamed(\"Region/Country/Area\", \"country_code\")\n",
        "consumer_price_df = consumer_price_df.withColumnRenamed(\"Value\", \"consumer_price_index\")"
      ],
      "metadata": {
        "id": "s7DS4XTVSNHR"
      },
      "execution_count": 160,
      "outputs": []
    },
    {
      "cell_type": "code",
      "source": [
        "# Drop Nulls\n",
        "consumer_price_df = consumer_price_df.dropna()"
      ],
      "metadata": {
        "id": "yyC0Qb4WSNEn"
      },
      "execution_count": 161,
      "outputs": []
    },
    {
      "cell_type": "code",
      "source": [
        "# Row and column count post-cleaning\n",
        "print(consumer_price_df.count(), len(consumer_price_df.columns))"
      ],
      "metadata": {
        "id": "3xziaOrFSNB4",
        "colab": {
          "base_uri": "https://localhost:8080/"
        },
        "outputId": "b6281db9-c8ad-45bf-ddfd-d97b3dca70c2"
      },
      "execution_count": 162,
      "outputs": [
        {
          "output_type": "stream",
          "name": "stdout",
          "text": [
            "187 2\n"
          ]
        }
      ]
    },
    {
      "cell_type": "code",
      "source": [
        "consumer_price_df.show()\n",
        "consumer_price_df.dtypes"
      ],
      "metadata": {
        "id": "Bapt-sHbSM_V",
        "colab": {
          "base_uri": "https://localhost:8080/"
        },
        "outputId": "f5fbb90d-0cdc-4e13-f368-11d7eeb1fade"
      },
      "execution_count": 163,
      "outputs": [
        {
          "output_type": "stream",
          "name": "stdout",
          "text": [
            "+------------+--------------------+\n",
            "|country_code|consumer_price_index|\n",
            "+------------+--------------------+\n",
            "|           4|               149.9|\n",
            "|           8|               119.1|\n",
            "|          12|               151.4|\n",
            "|          20|               105.8|\n",
            "|          24|               378.9|\n",
            "|         660|               107.1|\n",
            "|          28|               115.4|\n",
            "|          32|               232.8|\n",
            "|          51|               129.2|\n",
            "|         533|               109.2|\n",
            "|          36|               119.8|\n",
            "|          40|               118.1|\n",
            "|          31|               156.9|\n",
            "|          44|               116.2|\n",
            "|          48|               118.8|\n",
            "|          50|               179.7|\n",
            "|          52|               191.7|\n",
            "|         112|               508.1|\n",
            "|          56|               117.1|\n",
            "|          84|               106.2|\n",
            "+------------+--------------------+\n",
            "only showing top 20 rows\n",
            "\n"
          ]
        },
        {
          "output_type": "execute_result",
          "data": {
            "text/plain": [
              "[('country_code', 'int'), ('consumer_price_index', 'double')]"
            ]
          },
          "metadata": {},
          "execution_count": 163
        }
      ]
    },
    {
      "cell_type": "markdown",
      "source": [
        "## Load"
      ],
      "metadata": {
        "id": "-gw9EwJkvfb3"
      }
    },
    {
      "cell_type": "code",
      "source": [
        "# Write consumer_price_df to table in RDS\n",
        "consumer_price_df.write.jdbc(url=jdbc_url, table='consumer_price_index', mode=mode, properties=config)"
      ],
      "metadata": {
        "id": "i2DDZaKYEH3b"
      },
      "execution_count": 164,
      "outputs": []
    },
    {
      "cell_type": "markdown",
      "source": [
        "\n",
        "\n",
        "---\n",
        "\n"
      ],
      "metadata": {
        "id": "ctVyrvpYUTBG"
      }
    },
    {
      "cell_type": "markdown",
      "source": [
        "# 5 - gdp_per_capita_df"
      ],
      "metadata": {
        "id": "eYIMDbVUTb6Q"
      }
    },
    {
      "cell_type": "markdown",
      "source": [
        "## Extract"
      ],
      "metadata": {
        "id": "FoxpJAOLvjXD"
      }
    },
    {
      "cell_type": "code",
      "source": [
        "# Read in GDP Per Capita data from S3 Bucket\n",
        "url = \"https://corti-gw-group-project.s3.amazonaws.com/Unprocessed+Data/UN_GDP_Per_Capita_2019.csv\"\n",
        "spark.sparkContext.addFile(url)\n",
        "gdp_per_capita_df = spark.read.csv(SparkFiles.get(\"UN_GDP_Per_Capita_2019.csv\"), sep=\",\", header=True, inferSchema=True)"
      ],
      "metadata": {
        "id": "LAxFGgh_IFNd"
      },
      "execution_count": 165,
      "outputs": []
    },
    {
      "cell_type": "code",
      "source": [
        "gdp_per_capita_df.show()\n",
        "gdp_per_capita_df.dtypes"
      ],
      "metadata": {
        "id": "OleIpmtbIR6p",
        "colab": {
          "base_uri": "https://localhost:8080/"
        },
        "outputId": "4e2393c2-b861-48e8-bac0-31099d6363bc"
      },
      "execution_count": 166,
      "outputs": [
        {
          "output_type": "stream",
          "name": "stdout",
          "text": [
            "+-------------------+-------------------+----+--------------------+----------+\n",
            "|Region/Country/Area|                _c1|Year|              Series|     Value|\n",
            "+-------------------+-------------------+----+--------------------+----------+\n",
            "|                  4|        Afghanistan|2019|GDP per capita (U...|   $470.00|\n",
            "|                  8|            Albania|2019|GDP per capita (U...| $5,303.00|\n",
            "|                 12|            Algeria|2019|GDP per capita (U...| $3,976.00|\n",
            "|                 20|            Andorra|2019|GDP per capita (U...|$40,887.00|\n",
            "|                 24|             Angola|2019|GDP per capita (U...| $2,671.00|\n",
            "|                660|           Anguilla|2019|GDP per capita (U...|$25,529.00|\n",
            "|                 28|Antigua and Barbuda|2019|GDP per capita (U...|$17,113.00|\n",
            "|                 32|          Argentina|2019|GDP per capita (U...|$10,041.00|\n",
            "|                 51|            Armenia|2019|GDP per capita (U...| $4,623.00|\n",
            "|                533|              Aruba|2019|GDP per capita (U...|$30,975.00|\n",
            "|                 36|          Australia|2019|GDP per capita (U...|$54,763.00|\n",
            "|                 40|            Austria|2019|GDP per capita (U...|$49,701.00|\n",
            "|                 31|         Azerbaijan|2019|GDP per capita (U...| $4,782.00|\n",
            "|                 44|            Bahamas|2019|GDP per capita (U...|$34,864.00|\n",
            "|                 48|            Bahrain|2019|GDP per capita (U...|$23,504.00|\n",
            "|                 50|         Bangladesh|2019|GDP per capita (U...| $1,846.00|\n",
            "|                 52|           Barbados|2019|GDP per capita (U...|$18,149.00|\n",
            "|                112|            Belarus|2019|GDP per capita (U...| $6,674.00|\n",
            "|                 56|            Belgium|2019|GDP per capita (U...|$46,198.00|\n",
            "|                 84|             Belize|2019|GDP per capita (U...| $4,815.00|\n",
            "+-------------------+-------------------+----+--------------------+----------+\n",
            "only showing top 20 rows\n",
            "\n"
          ]
        },
        {
          "output_type": "execute_result",
          "data": {
            "text/plain": [
              "[('Region/Country/Area', 'int'),\n",
              " ('_c1', 'string'),\n",
              " ('Year', 'int'),\n",
              " ('Series', 'string'),\n",
              " ('Value', 'string')]"
            ]
          },
          "metadata": {},
          "execution_count": 166
        }
      ]
    },
    {
      "cell_type": "code",
      "source": [
        "# Row and column count pre-cleaning\n",
        "print(gdp_per_capita_df.count(), len(gdp_per_capita_df.columns))"
      ],
      "metadata": {
        "id": "3nv7KmlyVONy",
        "colab": {
          "base_uri": "https://localhost:8080/"
        },
        "outputId": "011b6b28-c7db-4b41-8cdc-0e32034c97b0"
      },
      "execution_count": 167,
      "outputs": [
        {
          "output_type": "stream",
          "name": "stdout",
          "text": [
            "210 5\n"
          ]
        }
      ]
    },
    {
      "cell_type": "markdown",
      "source": [
        "## Transform"
      ],
      "metadata": {
        "id": "aSmSOTewvlZS"
      }
    },
    {
      "cell_type": "code",
      "source": [
        "# Only include relevant columns in dataframe\n",
        "gdp_per_capita_df = gdp_per_capita_df.select([\"Region/Country/Area\", \"Value\"])"
      ],
      "metadata": {
        "id": "fpuHbeYTVOHj"
      },
      "execution_count": 168,
      "outputs": []
    },
    {
      "cell_type": "code",
      "source": [
        "# Rename Columns\n",
        "gdp_per_capita_df = gdp_per_capita_df.withColumnRenamed(\"Region/Country/Area\", \"country_code\")"
      ],
      "metadata": {
        "id": "566XuP0yVOE-"
      },
      "execution_count": 169,
      "outputs": []
    },
    {
      "cell_type": "code",
      "source": [
        "# Drop Nulls\n",
        "gdp_per_capita_df = gdp_per_capita_df.dropna()"
      ],
      "metadata": {
        "id": "Dv3l3soIVOCg"
      },
      "execution_count": 170,
      "outputs": []
    },
    {
      "cell_type": "code",
      "source": [
        "gdp_per_capita_df.show()\n",
        "gdp_per_capita_df.dtypes"
      ],
      "metadata": {
        "id": "ck9UiITXVN4w",
        "colab": {
          "base_uri": "https://localhost:8080/"
        },
        "outputId": "5d31153a-4a0f-4926-941a-8fec79bdf344"
      },
      "execution_count": 171,
      "outputs": [
        {
          "output_type": "stream",
          "name": "stdout",
          "text": [
            "+------------+----------+\n",
            "|country_code|     Value|\n",
            "+------------+----------+\n",
            "|           4|   $470.00|\n",
            "|           8| $5,303.00|\n",
            "|          12| $3,976.00|\n",
            "|          20|$40,887.00|\n",
            "|          24| $2,671.00|\n",
            "|         660|$25,529.00|\n",
            "|          28|$17,113.00|\n",
            "|          32|$10,041.00|\n",
            "|          51| $4,623.00|\n",
            "|         533|$30,975.00|\n",
            "|          36|$54,763.00|\n",
            "|          40|$49,701.00|\n",
            "|          31| $4,782.00|\n",
            "|          44|$34,864.00|\n",
            "|          48|$23,504.00|\n",
            "|          50| $1,846.00|\n",
            "|          52|$18,149.00|\n",
            "|         112| $6,674.00|\n",
            "|          56|$46,198.00|\n",
            "|          84| $4,815.00|\n",
            "+------------+----------+\n",
            "only showing top 20 rows\n",
            "\n"
          ]
        },
        {
          "output_type": "execute_result",
          "data": {
            "text/plain": [
              "[('country_code', 'int'), ('Value', 'string')]"
            ]
          },
          "metadata": {},
          "execution_count": 171
        }
      ]
    },
    {
      "cell_type": "code",
      "source": [
        "# Convert dollars (string) to double (get rid of \"$\")\n",
        "import pyspark.sql.functions as f\n",
        "gdp_per_capita_df = gdp_per_capita_df.withColumn('per_capita_gdp_dollars', f.regexp_replace('Value', '[$,]', '').cast('double'))\n",
        "gdp_per_capita_df.show()"
      ],
      "metadata": {
        "id": "SMZf8VlZmZTA",
        "colab": {
          "base_uri": "https://localhost:8080/"
        },
        "outputId": "7f0b1fe6-be27-4841-da96-4f6ce35ecd31"
      },
      "execution_count": 172,
      "outputs": [
        {
          "output_type": "stream",
          "name": "stdout",
          "text": [
            "+------------+----------+----------------------+\n",
            "|country_code|     Value|per_capita_gdp_dollars|\n",
            "+------------+----------+----------------------+\n",
            "|           4|   $470.00|                 470.0|\n",
            "|           8| $5,303.00|                5303.0|\n",
            "|          12| $3,976.00|                3976.0|\n",
            "|          20|$40,887.00|               40887.0|\n",
            "|          24| $2,671.00|                2671.0|\n",
            "|         660|$25,529.00|               25529.0|\n",
            "|          28|$17,113.00|               17113.0|\n",
            "|          32|$10,041.00|               10041.0|\n",
            "|          51| $4,623.00|                4623.0|\n",
            "|         533|$30,975.00|               30975.0|\n",
            "|          36|$54,763.00|               54763.0|\n",
            "|          40|$49,701.00|               49701.0|\n",
            "|          31| $4,782.00|                4782.0|\n",
            "|          44|$34,864.00|               34864.0|\n",
            "|          48|$23,504.00|               23504.0|\n",
            "|          50| $1,846.00|                1846.0|\n",
            "|          52|$18,149.00|               18149.0|\n",
            "|         112| $6,674.00|                6674.0|\n",
            "|          56|$46,198.00|               46198.0|\n",
            "|          84| $4,815.00|                4815.0|\n",
            "+------------+----------+----------------------+\n",
            "only showing top 20 rows\n",
            "\n"
          ]
        }
      ]
    },
    {
      "cell_type": "code",
      "source": [
        "# Only include relevant columns in dataframe\n",
        "gdp_per_capita_df = gdp_per_capita_df.select([\"country_code\", \"per_capita_gdp_dollars\"])"
      ],
      "metadata": {
        "id": "ujirp9XXnQYP"
      },
      "execution_count": 173,
      "outputs": []
    },
    {
      "cell_type": "code",
      "source": [
        "gdp_per_capita_df.show()\n",
        "gdp_per_capita_df.dtypes"
      ],
      "metadata": {
        "id": "NFC_c0DcnwTw",
        "colab": {
          "base_uri": "https://localhost:8080/"
        },
        "outputId": "18951aa5-735c-4c90-aeb2-f86cf43d749c"
      },
      "execution_count": 174,
      "outputs": [
        {
          "output_type": "stream",
          "name": "stdout",
          "text": [
            "+------------+----------------------+\n",
            "|country_code|per_capita_gdp_dollars|\n",
            "+------------+----------------------+\n",
            "|           4|                 470.0|\n",
            "|           8|                5303.0|\n",
            "|          12|                3976.0|\n",
            "|          20|               40887.0|\n",
            "|          24|                2671.0|\n",
            "|         660|               25529.0|\n",
            "|          28|               17113.0|\n",
            "|          32|               10041.0|\n",
            "|          51|                4623.0|\n",
            "|         533|               30975.0|\n",
            "|          36|               54763.0|\n",
            "|          40|               49701.0|\n",
            "|          31|                4782.0|\n",
            "|          44|               34864.0|\n",
            "|          48|               23504.0|\n",
            "|          50|                1846.0|\n",
            "|          52|               18149.0|\n",
            "|         112|                6674.0|\n",
            "|          56|               46198.0|\n",
            "|          84|                4815.0|\n",
            "+------------+----------------------+\n",
            "only showing top 20 rows\n",
            "\n"
          ]
        },
        {
          "output_type": "execute_result",
          "data": {
            "text/plain": [
              "[('country_code', 'int'), ('per_capita_gdp_dollars', 'double')]"
            ]
          },
          "metadata": {},
          "execution_count": 174
        }
      ]
    },
    {
      "cell_type": "markdown",
      "source": [
        "## Load"
      ],
      "metadata": {
        "id": "VSdjrEM9voPI"
      }
    },
    {
      "cell_type": "code",
      "source": [
        "# Write gdp_per_capita_df to table in RDS\n",
        "gdp_per_capita_df.write.jdbc(url=jdbc_url, table='per_capita_gdp', mode=mode, properties=config)"
      ],
      "metadata": {
        "id": "ytKKpYXWEZMd"
      },
      "execution_count": 175,
      "outputs": []
    },
    {
      "cell_type": "markdown",
      "source": [
        "\n",
        "\n",
        "---\n",
        "\n"
      ],
      "metadata": {
        "id": "b5hs60n9UeFF"
      }
    },
    {
      "cell_type": "markdown",
      "source": [
        "# 6 - gender_ratio_df"
      ],
      "metadata": {
        "id": "KilbFbY7Ud4X"
      }
    },
    {
      "cell_type": "markdown",
      "source": [
        "## Extract"
      ],
      "metadata": {
        "id": "24YnOFy3vtls"
      }
    },
    {
      "cell_type": "code",
      "source": [
        "# Read in Gender Ratio data from S3 Bucket\n",
        "url = \"https://corti-gw-group-project.s3.amazonaws.com/Unprocessed+Data/UN_Gender_Ratio_2019.csv\"\n",
        "spark.sparkContext.addFile(url)\n",
        "gender_ratio_df = spark.read.csv(SparkFiles.get(\"UN_Gender_Ratio_2019.csv\"), sep=\",\", header=True, inferSchema=True)"
      ],
      "metadata": {
        "id": "KgYcO7rAIfPS"
      },
      "execution_count": 176,
      "outputs": []
    },
    {
      "cell_type": "code",
      "source": [
        "gender_ratio_df.show()\n",
        "gender_ratio_df.dtypes"
      ],
      "metadata": {
        "id": "uNhyPzqKIuoq",
        "colab": {
          "base_uri": "https://localhost:8080/"
        },
        "outputId": "89f76f2c-7090-49c4-c0bb-fa6df825fe3a"
      },
      "execution_count": 177,
      "outputs": [
        {
          "output_type": "stream",
          "name": "stdout",
          "text": [
            "+-------------------+-------------------+----+--------------------+-----+\n",
            "|Region/Country/Area|                _c1|Year|              Series|Value|\n",
            "+-------------------+-------------------+----+--------------------+-----+\n",
            "|                  4|        Afghanistan|2019|Sex ratio (males ...|105.5|\n",
            "|                  8|            Albania|2019|Sex ratio (males ...|103.7|\n",
            "|                 12|            Algeria|2019|Sex ratio (males ...|102.1|\n",
            "|                 24|             Angola|2019|Sex ratio (males ...| 97.9|\n",
            "|                 28|Antigua and Barbuda|2019|Sex ratio (males ...| 93.2|\n",
            "|                 32|          Argentina|2019|Sex ratio (males ...| 95.2|\n",
            "|                 51|            Armenia|2019|Sex ratio (males ...| 88.8|\n",
            "|                533|              Aruba|2019|Sex ratio (males ...| 90.3|\n",
            "|                 36|          Australia|2019|Sex ratio (males ...| 99.2|\n",
            "|                 40|            Austria|2019|Sex ratio (males ...| 97.0|\n",
            "|                 31|         Azerbaijan|2019|Sex ratio (males ...| 99.7|\n",
            "|                 44|            Bahamas|2019|Sex ratio (males ...| 94.5|\n",
            "|                 48|            Bahrain|2019|Sex ratio (males ...|179.9|\n",
            "|                 50|         Bangladesh|2019|Sex ratio (males ...|102.4|\n",
            "|                 52|           Barbados|2019|Sex ratio (males ...| 93.7|\n",
            "|                112|            Belarus|2019|Sex ratio (males ...| 87.1|\n",
            "|                 56|            Belgium|2019|Sex ratio (males ...| 98.0|\n",
            "|                 84|             Belize|2019|Sex ratio (males ...| 99.1|\n",
            "|                204|              Benin|2019|Sex ratio (males ...| 99.7|\n",
            "|                 64|             Bhutan|2019|Sex ratio (males ...|113.1|\n",
            "+-------------------+-------------------+----+--------------------+-----+\n",
            "only showing top 20 rows\n",
            "\n"
          ]
        },
        {
          "output_type": "execute_result",
          "data": {
            "text/plain": [
              "[('Region/Country/Area', 'int'),\n",
              " ('_c1', 'string'),\n",
              " ('Year', 'int'),\n",
              " ('Series', 'string'),\n",
              " ('Value', 'double')]"
            ]
          },
          "metadata": {},
          "execution_count": 177
        }
      ]
    },
    {
      "cell_type": "code",
      "source": [
        "# Row and column count pre-cleaning\n",
        "print(gender_ratio_df.count(), len(gender_ratio_df.columns))"
      ],
      "metadata": {
        "id": "58V7BNN9oUSa",
        "colab": {
          "base_uri": "https://localhost:8080/"
        },
        "outputId": "4857903d-5f72-492a-d581-c42c3332536e"
      },
      "execution_count": 178,
      "outputs": [
        {
          "output_type": "stream",
          "name": "stdout",
          "text": [
            "196 5\n"
          ]
        }
      ]
    },
    {
      "cell_type": "markdown",
      "source": [
        "## Transform"
      ],
      "metadata": {
        "id": "taGI_wjfvvg0"
      }
    },
    {
      "cell_type": "code",
      "source": [
        "# Only include relevant columns in dataframe\n",
        "gender_ratio_df = gender_ratio_df.select([\"Region/Country/Area\", \"Value\"])"
      ],
      "metadata": {
        "id": "wQ1NFymJoUQf"
      },
      "execution_count": 179,
      "outputs": []
    },
    {
      "cell_type": "code",
      "source": [
        "# Rename Columns\n",
        "gender_ratio_df = gender_ratio_df.withColumnRenamed(\"Region/Country/Area\", \"country_code\")\n",
        "gender_ratio_df = gender_ratio_df.withColumnRenamed(\"Value\", \"gender_ratio_males_per100_female\")"
      ],
      "metadata": {
        "id": "MfWU0lSDoUNv"
      },
      "execution_count": 180,
      "outputs": []
    },
    {
      "cell_type": "code",
      "source": [
        "# Drop Nulls\n",
        "gender_ratio_df = gender_ratio_df.dropna()"
      ],
      "metadata": {
        "id": "JFSY6YJ9oULV"
      },
      "execution_count": 181,
      "outputs": []
    },
    {
      "cell_type": "code",
      "source": [
        "# Row and column count post-cleaning\n",
        "print(gender_ratio_df.count(), len(gender_ratio_df.columns))"
      ],
      "metadata": {
        "id": "Ucz8KatioUIx",
        "colab": {
          "base_uri": "https://localhost:8080/"
        },
        "outputId": "f697263d-7d4d-4568-bb45-f4e76dfa6b13"
      },
      "execution_count": 182,
      "outputs": [
        {
          "output_type": "stream",
          "name": "stdout",
          "text": [
            "196 2\n"
          ]
        }
      ]
    },
    {
      "cell_type": "code",
      "source": [
        "gender_ratio_df.show()\n",
        "gender_ratio_df.dtypes"
      ],
      "metadata": {
        "id": "u-QYiQEtoUFu",
        "colab": {
          "base_uri": "https://localhost:8080/"
        },
        "outputId": "8f11efeb-f0cb-480a-9dd3-e90581b68a96"
      },
      "execution_count": 183,
      "outputs": [
        {
          "output_type": "stream",
          "name": "stdout",
          "text": [
            "+------------+--------------------------------+\n",
            "|country_code|gender_ratio_males_per100_female|\n",
            "+------------+--------------------------------+\n",
            "|           4|                           105.5|\n",
            "|           8|                           103.7|\n",
            "|          12|                           102.1|\n",
            "|          24|                            97.9|\n",
            "|          28|                            93.2|\n",
            "|          32|                            95.2|\n",
            "|          51|                            88.8|\n",
            "|         533|                            90.3|\n",
            "|          36|                            99.2|\n",
            "|          40|                            97.0|\n",
            "|          31|                            99.7|\n",
            "|          44|                            94.5|\n",
            "|          48|                           179.9|\n",
            "|          50|                           102.4|\n",
            "|          52|                            93.7|\n",
            "|         112|                            87.1|\n",
            "|          56|                            98.0|\n",
            "|          84|                            99.1|\n",
            "|         204|                            99.7|\n",
            "|          64|                           113.1|\n",
            "+------------+--------------------------------+\n",
            "only showing top 20 rows\n",
            "\n"
          ]
        },
        {
          "output_type": "execute_result",
          "data": {
            "text/plain": [
              "[('country_code', 'int'), ('gender_ratio_males_per100_female', 'double')]"
            ]
          },
          "metadata": {},
          "execution_count": 183
        }
      ]
    },
    {
      "cell_type": "markdown",
      "source": [
        "## Load"
      ],
      "metadata": {
        "id": "ycQW9cWnvxl8"
      }
    },
    {
      "cell_type": "code",
      "source": [
        "# Write gender_ratio_df to table in RDS\n",
        "gender_ratio_df.write.jdbc(url=jdbc_url, table='gender_ratio', mode=mode, properties=config)"
      ],
      "metadata": {
        "id": "0Vf5kB6ZEwS5"
      },
      "execution_count": 184,
      "outputs": []
    },
    {
      "cell_type": "markdown",
      "source": [
        "\n",
        "\n",
        "---\n",
        "\n"
      ],
      "metadata": {
        "id": "-pmopsMtUksg"
      }
    },
    {
      "cell_type": "markdown",
      "source": [
        "# 7 - infant_mortality_df"
      ],
      "metadata": {
        "id": "nu6dyxfiUlyW"
      }
    },
    {
      "cell_type": "markdown",
      "source": [
        "## Extract"
      ],
      "metadata": {
        "id": "PNr0IDmsv1ZF"
      }
    },
    {
      "cell_type": "code",
      "source": [
        "# Read in Infant Mortality data from S3 Bucket\n",
        "url = \"https://corti-gw-group-project.s3.amazonaws.com/Unprocessed+Data/UN_Infant_Mortality_2020.csv\"\n",
        "spark.sparkContext.addFile(url)\n",
        "infant_mortality_df = spark.read.csv(SparkFiles.get(\"UN_Infant_Mortality_2020.csv\"), sep=\",\", header=True, inferSchema=True)"
      ],
      "metadata": {
        "id": "jlg6HiUBIyMt"
      },
      "execution_count": 185,
      "outputs": []
    },
    {
      "cell_type": "code",
      "source": [
        "infant_mortality_df.show()\n",
        "infant_mortality_df.dtypes"
      ],
      "metadata": {
        "id": "1Qvn141VJANp",
        "colab": {
          "base_uri": "https://localhost:8080/"
        },
        "outputId": "6b5ab939-32a6-41ef-8e66-5bdae9eeeb23"
      },
      "execution_count": 186,
      "outputs": [
        {
          "output_type": "stream",
          "name": "stdout",
          "text": [
            "+-------------------+-------------------+----+--------------------+-----+\n",
            "|Region/Country/Area|                _c1|Year|              Series|Value|\n",
            "+-------------------+-------------------+----+--------------------+-----+\n",
            "|                  4|        Afghanistan|2020|Infant mortality ...| 51.7|\n",
            "|                  8|            Albania|2020|Infant mortality ...|  8.0|\n",
            "|                 12|            Algeria|2020|Infant mortality ...| 21.2|\n",
            "|                 24|             Angola|2020|Infant mortality ...| 61.5|\n",
            "|                 28|Antigua and Barbuda|2020|Infant mortality ...|  5.2|\n",
            "|                 32|          Argentina|2020|Infant mortality ...| 10.2|\n",
            "|                 51|            Armenia|2020|Infant mortality ...| 10.8|\n",
            "|                533|              Aruba|2020|Infant mortality ...| 13.6|\n",
            "|                 36|          Australia|2020|Infant mortality ...|  3.1|\n",
            "|                 40|            Austria|2020|Infant mortality ...|  3.2|\n",
            "|                 31|         Azerbaijan|2020|Infant mortality ...| 20.8|\n",
            "|                 44|            Bahamas|2020|Infant mortality ...|  5.9|\n",
            "|                 48|            Bahrain|2020|Infant mortality ...|  6.0|\n",
            "|                 50|         Bangladesh|2020|Infant mortality ...| 26.8|\n",
            "|                 52|           Barbados|2020|Infant mortality ...| 10.0|\n",
            "|                112|            Belarus|2020|Infant mortality ...|  3.0|\n",
            "|                 56|            Belgium|2020|Infant mortality ...|  2.8|\n",
            "|                 84|             Belize|2020|Infant mortality ...| 12.8|\n",
            "|                204|              Benin|2020|Infant mortality ...| 61.1|\n",
            "|                 64|             Bhutan|2020|Infant mortality ...| 24.1|\n",
            "+-------------------+-------------------+----+--------------------+-----+\n",
            "only showing top 20 rows\n",
            "\n"
          ]
        },
        {
          "output_type": "execute_result",
          "data": {
            "text/plain": [
              "[('Region/Country/Area', 'int'),\n",
              " ('_c1', 'string'),\n",
              " ('Year', 'int'),\n",
              " ('Series', 'string'),\n",
              " ('Value', 'double')]"
            ]
          },
          "metadata": {},
          "execution_count": 186
        }
      ]
    },
    {
      "cell_type": "code",
      "source": [
        "# Row and column count pre-cleaning\n",
        "print(infant_mortality_df.count(), len(infant_mortality_df.columns))"
      ],
      "metadata": {
        "id": "LDg0-LaapDv2",
        "colab": {
          "base_uri": "https://localhost:8080/"
        },
        "outputId": "7d5b2c9a-f5d5-4739-d58c-7b2ca3444f5e"
      },
      "execution_count": 187,
      "outputs": [
        {
          "output_type": "stream",
          "name": "stdout",
          "text": [
            "201 5\n"
          ]
        }
      ]
    },
    {
      "cell_type": "markdown",
      "source": [
        "## Transform"
      ],
      "metadata": {
        "id": "nEiY4bLHv3Yz"
      }
    },
    {
      "cell_type": "code",
      "source": [
        "# Only include relevant columns in dataframe\n",
        "infant_mortality_df = infant_mortality_df.select([\"Region/Country/Area\", \"Value\"])"
      ],
      "metadata": {
        "id": "omiNtqgMpDsx"
      },
      "execution_count": 188,
      "outputs": []
    },
    {
      "cell_type": "code",
      "source": [
        "# Rename Columns\n",
        "infant_mortality_df = infant_mortality_df.withColumnRenamed(\"Region/Country/Area\", \"country_code\")\n",
        "infant_mortality_df = infant_mortality_df.withColumnRenamed(\"Value\", \"infant_mortality_per1000_births\")"
      ],
      "metadata": {
        "id": "0RU2ooPRpDp8"
      },
      "execution_count": 189,
      "outputs": []
    },
    {
      "cell_type": "code",
      "source": [
        "# Drop Nulls\n",
        "infant_mortality_df = infant_mortality_df.dropna()"
      ],
      "metadata": {
        "id": "NUzctNlZpDkq"
      },
      "execution_count": 190,
      "outputs": []
    },
    {
      "cell_type": "code",
      "source": [
        "# Row and column count post-cleaning\n",
        "print(infant_mortality_df.count(), len(infant_mortality_df.columns))"
      ],
      "metadata": {
        "id": "1P0123tPpDhh",
        "colab": {
          "base_uri": "https://localhost:8080/"
        },
        "outputId": "b4f13a43-cda4-46b0-e33a-ef5f7e506be6"
      },
      "execution_count": 191,
      "outputs": [
        {
          "output_type": "stream",
          "name": "stdout",
          "text": [
            "201 2\n"
          ]
        }
      ]
    },
    {
      "cell_type": "code",
      "source": [
        "infant_mortality_df.show()\n",
        "infant_mortality_df.dtypes"
      ],
      "metadata": {
        "id": "ZgWITevFpDe6",
        "colab": {
          "base_uri": "https://localhost:8080/"
        },
        "outputId": "b82cc6d1-c756-40ba-9bf3-cd2357184659"
      },
      "execution_count": 192,
      "outputs": [
        {
          "output_type": "stream",
          "name": "stdout",
          "text": [
            "+------------+-------------------------------+\n",
            "|country_code|infant_mortality_per1000_births|\n",
            "+------------+-------------------------------+\n",
            "|           4|                           51.7|\n",
            "|           8|                            8.0|\n",
            "|          12|                           21.2|\n",
            "|          24|                           61.5|\n",
            "|          28|                            5.2|\n",
            "|          32|                           10.2|\n",
            "|          51|                           10.8|\n",
            "|         533|                           13.6|\n",
            "|          36|                            3.1|\n",
            "|          40|                            3.2|\n",
            "|          31|                           20.8|\n",
            "|          44|                            5.9|\n",
            "|          48|                            6.0|\n",
            "|          50|                           26.8|\n",
            "|          52|                           10.0|\n",
            "|         112|                            3.0|\n",
            "|          56|                            2.8|\n",
            "|          84|                           12.8|\n",
            "|         204|                           61.1|\n",
            "|          64|                           24.1|\n",
            "+------------+-------------------------------+\n",
            "only showing top 20 rows\n",
            "\n"
          ]
        },
        {
          "output_type": "execute_result",
          "data": {
            "text/plain": [
              "[('country_code', 'int'), ('infant_mortality_per1000_births', 'double')]"
            ]
          },
          "metadata": {},
          "execution_count": 192
        }
      ]
    },
    {
      "cell_type": "markdown",
      "source": [
        "## Load"
      ],
      "metadata": {
        "id": "x8nrHJYXv5sj"
      }
    },
    {
      "cell_type": "code",
      "source": [
        "# Write infant_mortality_df to table in RDS\n",
        "infant_mortality_df.write.jdbc(url=jdbc_url, table='infant_mortality', mode=mode, properties=config)"
      ],
      "metadata": {
        "id": "ypFBkLBZFDh_"
      },
      "execution_count": 193,
      "outputs": []
    },
    {
      "cell_type": "markdown",
      "source": [
        "\n",
        "\n",
        "---\n",
        "\n"
      ],
      "metadata": {
        "id": "VogTjEWaUqZf"
      }
    },
    {
      "cell_type": "markdown",
      "source": [
        "# 8 - life_expectancy_df"
      ],
      "metadata": {
        "id": "eYinkCQ6UqRX"
      }
    },
    {
      "cell_type": "markdown",
      "source": [
        "## Extract"
      ],
      "metadata": {
        "id": "ht0ZoYV1v9pM"
      }
    },
    {
      "cell_type": "code",
      "source": [
        "# Read in Life Expectancy data from S3 Bucket\n",
        "url = \"https://corti-gw-group-project.s3.amazonaws.com/Unprocessed+Data/UN_Life_Expectancy_2020.csv\"\n",
        "spark.sparkContext.addFile(url)\n",
        "life_expectancy_df = spark.read.csv(SparkFiles.get(\"UN_Life_Expectancy_2020.csv\"), sep=\",\", header=True, inferSchema=True)"
      ],
      "metadata": {
        "id": "oCwoRcgEJCt5"
      },
      "execution_count": 194,
      "outputs": []
    },
    {
      "cell_type": "code",
      "source": [
        "life_expectancy_df.show()\n",
        "life_expectancy_df.dtypes"
      ],
      "metadata": {
        "id": "z90V4wf1JOSg",
        "colab": {
          "base_uri": "https://localhost:8080/"
        },
        "outputId": "5bf097f3-6402-4187-e715-dd32cf5f6996"
      },
      "execution_count": 195,
      "outputs": [
        {
          "output_type": "stream",
          "name": "stdout",
          "text": [
            "+-------------------+-------------------+----+--------------------+-----+\n",
            "|Region/Country/Area|                _c1|Year|              Series|Value|\n",
            "+-------------------+-------------------+----+--------------------+-----+\n",
            "|                  4|        Afghanistan|2020|Life expectancy a...| 64.3|\n",
            "|                  8|            Albania|2020|Life expectancy a...| 78.4|\n",
            "|                 12|            Algeria|2020|Life expectancy a...| 76.6|\n",
            "|                 24|             Angola|2020|Life expectancy a...| 60.5|\n",
            "|                 28|Antigua and Barbuda|2020|Life expectancy a...| 76.8|\n",
            "|                 32|          Argentina|2020|Life expectancy a...| 76.4|\n",
            "|                 51|            Armenia|2020|Life expectancy a...| 74.9|\n",
            "|                533|              Aruba|2020|Life expectancy a...| 76.1|\n",
            "|                 36|          Australia|2020|Life expectancy a...| 83.2|\n",
            "|                 40|            Austria|2020|Life expectancy a...| 81.4|\n",
            "|                 31|         Azerbaijan|2020|Life expectancy a...| 72.8|\n",
            "|                 44|            Bahamas|2020|Life expectancy a...| 73.7|\n",
            "|                 48|            Bahrain|2020|Life expectancy a...| 77.1|\n",
            "|                 50|         Bangladesh|2020|Life expectancy a...| 72.2|\n",
            "|                 52|           Barbados|2020|Life expectancy a...| 79.0|\n",
            "|                112|            Belarus|2020|Life expectancy a...| 74.5|\n",
            "|                 56|            Belgium|2020|Life expectancy a...| 81.4|\n",
            "|                 84|             Belize|2020|Life expectancy a...| 74.4|\n",
            "|                204|              Benin|2020|Life expectancy a...| 61.3|\n",
            "|                 64|             Bhutan|2020|Life expectancy a...| 71.3|\n",
            "+-------------------+-------------------+----+--------------------+-----+\n",
            "only showing top 20 rows\n",
            "\n"
          ]
        },
        {
          "output_type": "execute_result",
          "data": {
            "text/plain": [
              "[('Region/Country/Area', 'int'),\n",
              " ('_c1', 'string'),\n",
              " ('Year', 'int'),\n",
              " ('Series', 'string'),\n",
              " ('Value', 'double')]"
            ]
          },
          "metadata": {},
          "execution_count": 195
        }
      ]
    },
    {
      "cell_type": "code",
      "source": [
        "# Row and column count pre-cleaning\n",
        "print(life_expectancy_df.count(), len(life_expectancy_df.columns))"
      ],
      "metadata": {
        "id": "-Vy1gnXZpt73",
        "colab": {
          "base_uri": "https://localhost:8080/"
        },
        "outputId": "660ecb5a-8186-41d0-ecc0-ce1ccbbe9c10"
      },
      "execution_count": 196,
      "outputs": [
        {
          "output_type": "stream",
          "name": "stdout",
          "text": [
            "201 5\n"
          ]
        }
      ]
    },
    {
      "cell_type": "markdown",
      "source": [
        "## Transform"
      ],
      "metadata": {
        "id": "ORvOZaOwwAMd"
      }
    },
    {
      "cell_type": "code",
      "source": [
        "# Only include relevant columns in dataframe\n",
        "life_expectancy_df = life_expectancy_df.select([\"Region/Country/Area\", \"Value\"])"
      ],
      "metadata": {
        "id": "XPwOjCtOpt3J"
      },
      "execution_count": 197,
      "outputs": []
    },
    {
      "cell_type": "code",
      "source": [
        "# Rename Columns\n",
        "life_expectancy_df = life_expectancy_df.withColumnRenamed(\"Region/Country/Area\", \"country_code\")\n",
        "life_expectancy_df = life_expectancy_df.withColumnRenamed(\"Value\", \"life_expectancy\")"
      ],
      "metadata": {
        "id": "fFG1wloDpt0k"
      },
      "execution_count": 198,
      "outputs": []
    },
    {
      "cell_type": "code",
      "source": [
        "# Drop Nulls\n",
        "life_expectancy_df = life_expectancy_df.dropna()"
      ],
      "metadata": {
        "id": "Pa_yonawptx1"
      },
      "execution_count": 199,
      "outputs": []
    },
    {
      "cell_type": "code",
      "source": [
        "# Row and column count post-cleaning\n",
        "print(life_expectancy_df.count(), len(life_expectancy_df.columns))"
      ],
      "metadata": {
        "id": "QJ--dAbuptre",
        "colab": {
          "base_uri": "https://localhost:8080/"
        },
        "outputId": "803a9835-3ef9-4079-d40e-50f2d10d1d80"
      },
      "execution_count": 200,
      "outputs": [
        {
          "output_type": "stream",
          "name": "stdout",
          "text": [
            "201 2\n"
          ]
        }
      ]
    },
    {
      "cell_type": "code",
      "source": [
        "life_expectancy_df.show()\n",
        "life_expectancy_df.dtypes"
      ],
      "metadata": {
        "id": "rKdBzSNWptmE",
        "colab": {
          "base_uri": "https://localhost:8080/"
        },
        "outputId": "91723ec6-9d59-465d-8171-4cb1abbd260b"
      },
      "execution_count": 201,
      "outputs": [
        {
          "output_type": "stream",
          "name": "stdout",
          "text": [
            "+------------+---------------+\n",
            "|country_code|life_expectancy|\n",
            "+------------+---------------+\n",
            "|           4|           64.3|\n",
            "|           8|           78.4|\n",
            "|          12|           76.6|\n",
            "|          24|           60.5|\n",
            "|          28|           76.8|\n",
            "|          32|           76.4|\n",
            "|          51|           74.9|\n",
            "|         533|           76.1|\n",
            "|          36|           83.2|\n",
            "|          40|           81.4|\n",
            "|          31|           72.8|\n",
            "|          44|           73.7|\n",
            "|          48|           77.1|\n",
            "|          50|           72.2|\n",
            "|          52|           79.0|\n",
            "|         112|           74.5|\n",
            "|          56|           81.4|\n",
            "|          84|           74.4|\n",
            "|         204|           61.3|\n",
            "|          64|           71.3|\n",
            "+------------+---------------+\n",
            "only showing top 20 rows\n",
            "\n"
          ]
        },
        {
          "output_type": "execute_result",
          "data": {
            "text/plain": [
              "[('country_code', 'int'), ('life_expectancy', 'double')]"
            ]
          },
          "metadata": {},
          "execution_count": 201
        }
      ]
    },
    {
      "cell_type": "markdown",
      "source": [
        "## Load"
      ],
      "metadata": {
        "id": "bSJR6-ukwCn8"
      }
    },
    {
      "cell_type": "code",
      "source": [
        "# Write life_expectancy_df to table in RDS\n",
        "life_expectancy_df.write.jdbc(url=jdbc_url, table='life_expectancy', mode=mode, properties=config)"
      ],
      "metadata": {
        "id": "b-2BaKu1FQXe"
      },
      "execution_count": 202,
      "outputs": []
    },
    {
      "cell_type": "markdown",
      "source": [
        "\n",
        "\n",
        "---\n",
        "\n"
      ],
      "metadata": {
        "id": "7967B2ocUvhJ"
      }
    },
    {
      "cell_type": "markdown",
      "source": [
        "# 9 - pop_density_df"
      ],
      "metadata": {
        "id": "gR762DuxUwLA"
      }
    },
    {
      "cell_type": "markdown",
      "source": [
        "## Extract"
      ],
      "metadata": {
        "id": "sd38ahKrwGu2"
      }
    },
    {
      "cell_type": "code",
      "source": [
        "# Read in Population Density data from S3 Bucket\n",
        "url = \"https://corti-gw-group-project.s3.amazonaws.com/Unprocessed+Data/UN_Population_Density_2019.csv\"\n",
        "spark.sparkContext.addFile(url)\n",
        "pop_density_df = spark.read.csv(SparkFiles.get(\"UN_Population_Density_2019.csv\"), sep=\",\", header=True, inferSchema=True)"
      ],
      "metadata": {
        "id": "AtNsmVXhJQza"
      },
      "execution_count": 203,
      "outputs": []
    },
    {
      "cell_type": "code",
      "source": [
        "pop_density_df.show()\n",
        "pop_density_df.dtypes"
      ],
      "metadata": {
        "id": "aZrj2jirJbFo",
        "colab": {
          "base_uri": "https://localhost:8080/"
        },
        "outputId": "be299de2-4fcb-4f4b-8283-b86237d449ef"
      },
      "execution_count": 204,
      "outputs": [
        {
          "output_type": "stream",
          "name": "stdout",
          "text": [
            "+-------------------+-------------------+----+------------------+------+\n",
            "|Region/Country/Area|                _c1|Year|            Series| Value|\n",
            "+-------------------+-------------------+----+------------------+------+\n",
            "|                  4|        Afghanistan|2019|Population density|  58.3|\n",
            "|                  8|            Albania|2019|Population density| 105.1|\n",
            "|                 12|            Algeria|2019|Population density|  18.1|\n",
            "|                 16|     American Samoa|2019|Population density| 276.6|\n",
            "|                 20|            Andorra|2019|Population density| 164.1|\n",
            "|                 24|             Angola|2019|Population density|  25.5|\n",
            "|                660|           Anguilla|2019|Population density| 165.2|\n",
            "|                 28|Antigua and Barbuda|2019|Population density| 220.7|\n",
            "|                 32|          Argentina|2019|Population density|  16.4|\n",
            "|                 51|            Armenia|2019|Population density| 103.9|\n",
            "|                533|              Aruba|2019|Population density| 590.6|\n",
            "|                 36|          Australia|2019|Population density|   3.3|\n",
            "|                 40|            Austria|2019|Population density| 108.7|\n",
            "|                 31|         Azerbaijan|2019|Population density| 121.6|\n",
            "|                 44|            Bahamas|2019|Population density|  38.9|\n",
            "|                 48|            Bahrain|2019|Population density|2159.4|\n",
            "|                 50|         Bangladesh|2019|Population density|1252.6|\n",
            "|                 52|           Barbados|2019|Population density| 667.5|\n",
            "|                112|            Belarus|2019|Population density|  46.6|\n",
            "|                 56|            Belgium|2019|Population density| 381.1|\n",
            "+-------------------+-------------------+----+------------------+------+\n",
            "only showing top 20 rows\n",
            "\n"
          ]
        },
        {
          "output_type": "execute_result",
          "data": {
            "text/plain": [
              "[('Region/Country/Area', 'int'),\n",
              " ('_c1', 'string'),\n",
              " ('Year', 'int'),\n",
              " ('Series', 'string'),\n",
              " ('Value', 'double')]"
            ]
          },
          "metadata": {},
          "execution_count": 204
        }
      ]
    },
    {
      "cell_type": "code",
      "source": [
        "# Row and column count pre-cleaning\n",
        "print(pop_density_df.count(), len(pop_density_df.columns))"
      ],
      "metadata": {
        "id": "iHGTDo2QqOkJ",
        "colab": {
          "base_uri": "https://localhost:8080/"
        },
        "outputId": "8764448a-0852-4606-f033-ead46c7b7b63"
      },
      "execution_count": 205,
      "outputs": [
        {
          "output_type": "stream",
          "name": "stdout",
          "text": [
            "227 5\n"
          ]
        }
      ]
    },
    {
      "cell_type": "markdown",
      "source": [
        "## Transform"
      ],
      "metadata": {
        "id": "_1UmjiQ2wIvP"
      }
    },
    {
      "cell_type": "code",
      "source": [
        "# Only include relevant columns in dataframe\n",
        "pop_density_df = pop_density_df.select([\"Region/Country/Area\", \"Value\"])"
      ],
      "metadata": {
        "id": "4pUFbOeEqOfv"
      },
      "execution_count": 206,
      "outputs": []
    },
    {
      "cell_type": "code",
      "source": [
        "# Rename Columns\n",
        "pop_density_df = pop_density_df.withColumnRenamed(\"Region/Country/Area\", \"country_code\")\n",
        "pop_density_df = pop_density_df.withColumnRenamed(\"Value\", \"population_density\")"
      ],
      "metadata": {
        "id": "TdNwpq72qOci"
      },
      "execution_count": 207,
      "outputs": []
    },
    {
      "cell_type": "code",
      "source": [
        "# Drop Nulls\n",
        "pop_density_df = pop_density_df.dropna()"
      ],
      "metadata": {
        "id": "ImICQbIsqOZG"
      },
      "execution_count": 208,
      "outputs": []
    },
    {
      "cell_type": "code",
      "source": [
        "# Row and column count post-cleaning\n",
        "print(pop_density_df.count(), len(pop_density_df.columns))"
      ],
      "metadata": {
        "id": "zapI6tL3qOWR",
        "colab": {
          "base_uri": "https://localhost:8080/"
        },
        "outputId": "c11b973b-6b04-47ab-a6f2-c047fb8dbf17"
      },
      "execution_count": 209,
      "outputs": [
        {
          "output_type": "stream",
          "name": "stdout",
          "text": [
            "227 2\n"
          ]
        }
      ]
    },
    {
      "cell_type": "code",
      "source": [
        "pop_density_df.show()\n",
        "pop_density_df.dtypes"
      ],
      "metadata": {
        "id": "O8VftijEqONL",
        "colab": {
          "base_uri": "https://localhost:8080/"
        },
        "outputId": "89868f45-7670-405f-b654-025a9220c170"
      },
      "execution_count": 210,
      "outputs": [
        {
          "output_type": "stream",
          "name": "stdout",
          "text": [
            "+------------+------------------+\n",
            "|country_code|population_density|\n",
            "+------------+------------------+\n",
            "|           4|              58.3|\n",
            "|           8|             105.1|\n",
            "|          12|              18.1|\n",
            "|          16|             276.6|\n",
            "|          20|             164.1|\n",
            "|          24|              25.5|\n",
            "|         660|             165.2|\n",
            "|          28|             220.7|\n",
            "|          32|              16.4|\n",
            "|          51|             103.9|\n",
            "|         533|             590.6|\n",
            "|          36|               3.3|\n",
            "|          40|             108.7|\n",
            "|          31|             121.6|\n",
            "|          44|              38.9|\n",
            "|          48|            2159.4|\n",
            "|          50|            1252.6|\n",
            "|          52|             667.5|\n",
            "|         112|              46.6|\n",
            "|          56|             381.1|\n",
            "+------------+------------------+\n",
            "only showing top 20 rows\n",
            "\n"
          ]
        },
        {
          "output_type": "execute_result",
          "data": {
            "text/plain": [
              "[('country_code', 'int'), ('population_density', 'double')]"
            ]
          },
          "metadata": {},
          "execution_count": 210
        }
      ]
    },
    {
      "cell_type": "markdown",
      "source": [
        "## Load"
      ],
      "metadata": {
        "id": "N8Of0sv9wLgi"
      }
    },
    {
      "cell_type": "code",
      "source": [
        "# Write pop_density_df to table in RDS\n",
        "pop_density_df.write.jdbc(url=jdbc_url, table='population_density', mode=mode, properties=config)"
      ],
      "metadata": {
        "id": "81G0nKBVFcoq"
      },
      "execution_count": 211,
      "outputs": []
    },
    {
      "cell_type": "markdown",
      "source": [
        "\n",
        "\n",
        "---\n",
        "\n"
      ],
      "metadata": {
        "id": "57PYfVF4U1Gy"
      }
    },
    {
      "cell_type": "markdown",
      "source": [
        "# 10 - women_seats_df"
      ],
      "metadata": {
        "id": "12W2Z9HsU2FU"
      }
    },
    {
      "cell_type": "markdown",
      "source": [
        "## Extract"
      ],
      "metadata": {
        "id": "zveXz_dlwPCc"
      }
    },
    {
      "cell_type": "code",
      "source": [
        "# Read in Women Seats in Government data from S3 Bucket\n",
        "url = \"https://corti-gw-group-project.s3.amazonaws.com/Unprocessed+Data/UN_Seats_Held_by_Women_2019.csv\"\n",
        "spark.sparkContext.addFile(url)\n",
        "women_seats_df = spark.read.csv(SparkFiles.get(\"UN_Seats_Held_by_Women_2019.csv\"), sep=\",\", header=True, inferSchema=True)"
      ],
      "metadata": {
        "id": "Rgjd_WRlJdQk"
      },
      "execution_count": 212,
      "outputs": []
    },
    {
      "cell_type": "code",
      "source": [
        "women_seats_df.show()\n",
        "women_seats_df.dtypes"
      ],
      "metadata": {
        "id": "hJcEE0ngJo8h",
        "colab": {
          "base_uri": "https://localhost:8080/"
        },
        "outputId": "7eeb7b77-1e75-41fc-a3b7-4a154b79da89"
      },
      "execution_count": 213,
      "outputs": [
        {
          "output_type": "stream",
          "name": "stdout",
          "text": [
            "+-------------------+--------------------+----+--------------------+------------------+---------------------------+-----+\n",
            "|Region/Country/Area|                 _c1|Year|              Series|Last Election Date|Last Election Date footnote|Value|\n",
            "+-------------------+--------------------+----+--------------------+------------------+---------------------------+-----+\n",
            "|                  8|             Albania|2019|Seats held by wom...|           2017-06|                       null| 29.3|\n",
            "|                 12|             Algeria|2019|Seats held by wom...|           2017-05|                       null| 25.8|\n",
            "|                 20|             Andorra|2019|Seats held by wom...|           2019-04|                       null| 32.1|\n",
            "|                 24|              Angola|2019|Seats held by wom...|           2017-08|                       null| 30.0|\n",
            "|                 28| Antigua and Barbuda|2019|Seats held by wom...|           2018-03|                       null| 11.1|\n",
            "|                 32|           Argentina|2019|Seats held by wom...|           2019-10|                       null| 38.8|\n",
            "|                 51|             Armenia|2019|Seats held by wom...|           2018-12|                       null| 24.2|\n",
            "|                 36|           Australia|2019|Seats held by wom...|           2019-05|                       null| 30.0|\n",
            "|                 40|             Austria|2019|Seats held by wom...|           2019-09|                       null| 37.2|\n",
            "|                 31|          Azerbaijan|2019|Seats held by wom...|           2020-02|                       null| 16.8|\n",
            "|                 44|             Bahamas|2019|Seats held by wom...|           2017-05|                       null| 12.8|\n",
            "|                 48|             Bahrain|2019|Seats held by wom...|           2018-11|                       null| 15.0|\n",
            "|                 50|          Bangladesh|2019|Seats held by wom...|           2018-12|                       null| 20.7|\n",
            "|                 52|            Barbados|2019|Seats held by wom...|           2018-05|                       null| 20.0|\n",
            "|                112|             Belarus|2019|Seats held by wom...|           2019-11|                       null| 34.5|\n",
            "|                 56|             Belgium|2019|Seats held by wom...|           2019-05|                       null| 38.0|\n",
            "|                 84|              Belize|2019|Seats held by wom...|           2020-11|                       null|  9.4|\n",
            "|                204|               Benin|2019|Seats held by wom...|           2019-04|                       null|  7.2|\n",
            "|                 64|              Bhutan|2019|Seats held by wom...|           2018-10|                       null| 14.9|\n",
            "|                 68|Bolivia (Plurin. ...|2019|Seats held by wom...|           2020-10|                       null| 53.1|\n",
            "+-------------------+--------------------+----+--------------------+------------------+---------------------------+-----+\n",
            "only showing top 20 rows\n",
            "\n"
          ]
        },
        {
          "output_type": "execute_result",
          "data": {
            "text/plain": [
              "[('Region/Country/Area', 'int'),\n",
              " ('_c1', 'string'),\n",
              " ('Year', 'int'),\n",
              " ('Series', 'string'),\n",
              " ('Last Election Date', 'string'),\n",
              " ('Last Election Date footnote', 'string'),\n",
              " ('Value', 'double')]"
            ]
          },
          "metadata": {},
          "execution_count": 213
        }
      ]
    },
    {
      "cell_type": "code",
      "source": [
        "# Row and column count pre-cleaning\n",
        "print(women_seats_df.count(), len(women_seats_df.columns))"
      ],
      "metadata": {
        "id": "iQH7acUjqwbj",
        "colab": {
          "base_uri": "https://localhost:8080/"
        },
        "outputId": "9bff3215-e227-461c-f5ab-57a1f31da310"
      },
      "execution_count": 214,
      "outputs": [
        {
          "output_type": "stream",
          "name": "stdout",
          "text": [
            "192 7\n"
          ]
        }
      ]
    },
    {
      "cell_type": "markdown",
      "source": [
        "## Transform"
      ],
      "metadata": {
        "id": "QL2OBLYBwRAo"
      }
    },
    {
      "cell_type": "code",
      "source": [
        "# Only include relevant columns in dataframe\n",
        "women_seats_df = women_seats_df.select([\"Region/Country/Area\", \"Value\"])"
      ],
      "metadata": {
        "id": "3Ex1UgF6qwXA"
      },
      "execution_count": 215,
      "outputs": []
    },
    {
      "cell_type": "code",
      "source": [
        "# Rename Columns\n",
        "women_seats_df = women_seats_df.withColumnRenamed(\"Region/Country/Area\", \"country_code\")\n",
        "women_seats_df = women_seats_df.withColumnRenamed(\"Value\", \"seats_held_by_women_pct\")"
      ],
      "metadata": {
        "id": "sfXqdQS3qwS6"
      },
      "execution_count": 216,
      "outputs": []
    },
    {
      "cell_type": "code",
      "source": [
        "# Drop Nulls\n",
        "women_seats_df = women_seats_df.dropna()"
      ],
      "metadata": {
        "id": "jbjH7poBqwPa"
      },
      "execution_count": 217,
      "outputs": []
    },
    {
      "cell_type": "code",
      "source": [
        "# Row and column count post-cleaning\n",
        "print(women_seats_df.count(), len(women_seats_df.columns))"
      ],
      "metadata": {
        "id": "OGsUnj2SqwLk",
        "colab": {
          "base_uri": "https://localhost:8080/"
        },
        "outputId": "6e15dd67-57d2-4344-f3d4-0b1b9944bdbb"
      },
      "execution_count": 218,
      "outputs": [
        {
          "output_type": "stream",
          "name": "stdout",
          "text": [
            "192 2\n"
          ]
        }
      ]
    },
    {
      "cell_type": "code",
      "source": [
        "women_seats_df.show()\n",
        "women_seats_df.dtypes"
      ],
      "metadata": {
        "id": "D3PReGpRqwEm",
        "colab": {
          "base_uri": "https://localhost:8080/"
        },
        "outputId": "455549dc-c59f-45a5-f4bb-52e188c896d6"
      },
      "execution_count": 219,
      "outputs": [
        {
          "output_type": "stream",
          "name": "stdout",
          "text": [
            "+------------+-----------------------+\n",
            "|country_code|seats_held_by_women_pct|\n",
            "+------------+-----------------------+\n",
            "|           8|                   29.3|\n",
            "|          12|                   25.8|\n",
            "|          20|                   32.1|\n",
            "|          24|                   30.0|\n",
            "|          28|                   11.1|\n",
            "|          32|                   38.8|\n",
            "|          51|                   24.2|\n",
            "|          36|                   30.0|\n",
            "|          40|                   37.2|\n",
            "|          31|                   16.8|\n",
            "|          44|                   12.8|\n",
            "|          48|                   15.0|\n",
            "|          50|                   20.7|\n",
            "|          52|                   20.0|\n",
            "|         112|                   34.5|\n",
            "|          56|                   38.0|\n",
            "|          84|                    9.4|\n",
            "|         204|                    7.2|\n",
            "|          64|                   14.9|\n",
            "|          68|                   53.1|\n",
            "+------------+-----------------------+\n",
            "only showing top 20 rows\n",
            "\n"
          ]
        },
        {
          "output_type": "execute_result",
          "data": {
            "text/plain": [
              "[('country_code', 'int'), ('seats_held_by_women_pct', 'double')]"
            ]
          },
          "metadata": {},
          "execution_count": 219
        }
      ]
    },
    {
      "cell_type": "markdown",
      "source": [
        "## Load"
      ],
      "metadata": {
        "id": "bt6DKOpmwUE2"
      }
    },
    {
      "cell_type": "code",
      "source": [
        "# Write women_seats_df to table in RDS\n",
        "women_seats_df.write.jdbc(url=jdbc_url, table='seats_held_by_women', mode=mode, properties=config)"
      ],
      "metadata": {
        "id": "5XKlwTIfFvtN"
      },
      "execution_count": 220,
      "outputs": []
    },
    {
      "cell_type": "markdown",
      "source": [
        "\n",
        "\n",
        "---\n",
        "\n"
      ],
      "metadata": {
        "id": "tG1LLvEbU5HZ"
      }
    },
    {
      "cell_type": "markdown",
      "source": [
        "# 11 - unemployment_rate_df\n",
        "\n"
      ],
      "metadata": {
        "id": "RpjQAqY8U5rn"
      }
    },
    {
      "cell_type": "markdown",
      "source": [
        "## Extract"
      ],
      "metadata": {
        "id": "JMGcQDMMwYb6"
      }
    },
    {
      "cell_type": "code",
      "source": [
        "# Read in Unemployment Rate data from S3 Bucket\n",
        "url = \"https://corti-gw-group-project.s3.amazonaws.com/Unprocessed+Data/UN_Unemployment_Rate_2020.csv\"\n",
        "spark.sparkContext.addFile(url)\n",
        "unemployment_rate_df = spark.read.csv(SparkFiles.get(\"UN_Unemployment_Rate_2020.csv\"), sep=\",\", header=True, inferSchema=True)"
      ],
      "metadata": {
        "id": "frEfpyTMJrW0"
      },
      "execution_count": 221,
      "outputs": []
    },
    {
      "cell_type": "code",
      "source": [
        "unemployment_rate_df.show()\n",
        "unemployment_rate_df.dtypes"
      ],
      "metadata": {
        "id": "CWEPgtt2KDHz",
        "colab": {
          "base_uri": "https://localhost:8080/"
        },
        "outputId": "76f99fb5-0f74-442c-9939-6b6cc5bedf16"
      },
      "execution_count": 222,
      "outputs": [
        {
          "output_type": "stream",
          "name": "stdout",
          "text": [
            "+-------------------+--------------------+----+--------------------+-----+\n",
            "|Region/Country/Area|                 _c1|Year|              Series|Value|\n",
            "+-------------------+--------------------+----+--------------------+-----+\n",
            "|                  4|         Afghanistan|2020|Unemployment rate...| 11.2|\n",
            "|                  8|             Albania|2020|Unemployment rate...| 12.8|\n",
            "|                 12|             Algeria|2020|Unemployment rate...| 11.5|\n",
            "|                 24|              Angola|2020|Unemployment rate...|  6.8|\n",
            "|                 32|           Argentina|2020|Unemployment rate...| 10.4|\n",
            "|                 51|             Armenia|2020|Unemployment rate...| 16.6|\n",
            "|                 36|           Australia|2020|Unemployment rate...|  5.3|\n",
            "|                 40|             Austria|2020|Unemployment rate...|  4.8|\n",
            "|                 31|          Azerbaijan|2020|Unemployment rate...|  6.0|\n",
            "|                 44|             Bahamas|2020|Unemployment rate...| 11.3|\n",
            "|                 48|             Bahrain|2020|Unemployment rate...|  0.8|\n",
            "|                 50|          Bangladesh|2020|Unemployment rate...|  4.2|\n",
            "|                 52|            Barbados|2020|Unemployment rate...| 10.9|\n",
            "|                112|             Belarus|2020|Unemployment rate...|  4.6|\n",
            "|                 56|             Belgium|2020|Unemployment rate...|  5.7|\n",
            "|                 84|              Belize|2020|Unemployment rate...|  6.4|\n",
            "|                204|               Benin|2020|Unemployment rate...|  2.0|\n",
            "|                 64|              Bhutan|2020|Unemployment rate...|  2.4|\n",
            "|                 68|Bolivia (Plurin. ...|2020|Unemployment rate...|  3.5|\n",
            "|                 70|Bosnia and Herzeg...|2020|Unemployment rate...| 18.4|\n",
            "+-------------------+--------------------+----+--------------------+-----+\n",
            "only showing top 20 rows\n",
            "\n"
          ]
        },
        {
          "output_type": "execute_result",
          "data": {
            "text/plain": [
              "[('Region/Country/Area', 'int'),\n",
              " ('_c1', 'string'),\n",
              " ('Year', 'int'),\n",
              " ('Series', 'string'),\n",
              " ('Value', 'double')]"
            ]
          },
          "metadata": {},
          "execution_count": 222
        }
      ]
    },
    {
      "cell_type": "code",
      "source": [
        "# Row and column count pre-cleaning\n",
        "print(unemployment_rate_df.count(), len(unemployment_rate_df.columns))"
      ],
      "metadata": {
        "id": "Alpjx4evrfG6",
        "colab": {
          "base_uri": "https://localhost:8080/"
        },
        "outputId": "8011ddae-ef5a-489d-f72a-6a5b33fae2f5"
      },
      "execution_count": 223,
      "outputs": [
        {
          "output_type": "stream",
          "name": "stdout",
          "text": [
            "188 5\n"
          ]
        }
      ]
    },
    {
      "cell_type": "markdown",
      "source": [
        "## Transform"
      ],
      "metadata": {
        "id": "PWoRIXW_waXu"
      }
    },
    {
      "cell_type": "code",
      "source": [
        "# Only include relevant columns in dataframe\n",
        "unemployment_rate_df = unemployment_rate_df.select([\"Region/Country/Area\", \"Value\"])"
      ],
      "metadata": {
        "id": "UjIljmV8rfCo"
      },
      "execution_count": 224,
      "outputs": []
    },
    {
      "cell_type": "code",
      "source": [
        "# Rename Columns\n",
        "unemployment_rate_df = unemployment_rate_df.withColumnRenamed(\"Region/Country/Area\", \"country_code\")\n",
        "unemployment_rate_df = unemployment_rate_df.withColumnRenamed(\"Value\", \"unemployment_rate\")"
      ],
      "metadata": {
        "id": "GmgvYunhre-X"
      },
      "execution_count": 225,
      "outputs": []
    },
    {
      "cell_type": "code",
      "source": [
        "# Drop Nulls\n",
        "unemployment_rate_df = unemployment_rate_df.dropna()"
      ],
      "metadata": {
        "id": "YsVWPSSYre7K"
      },
      "execution_count": 226,
      "outputs": []
    },
    {
      "cell_type": "code",
      "source": [
        "# Row and column count post-cleaning\n",
        "print(unemployment_rate_df.count(), len(unemployment_rate_df.columns))"
      ],
      "metadata": {
        "id": "ZUQRLgBsre3C",
        "colab": {
          "base_uri": "https://localhost:8080/"
        },
        "outputId": "ab2775f9-5e2d-44a8-c2ed-947a3dea6e27"
      },
      "execution_count": 227,
      "outputs": [
        {
          "output_type": "stream",
          "name": "stdout",
          "text": [
            "188 2\n"
          ]
        }
      ]
    },
    {
      "cell_type": "code",
      "source": [
        "unemployment_rate_df.show()\n",
        "unemployment_rate_df.dtypes"
      ],
      "metadata": {
        "id": "AM7N_xRErewL",
        "colab": {
          "base_uri": "https://localhost:8080/"
        },
        "outputId": "747c8d22-d096-40b7-b8b8-ced5edc44276"
      },
      "execution_count": 228,
      "outputs": [
        {
          "output_type": "stream",
          "name": "stdout",
          "text": [
            "+------------+-----------------+\n",
            "|country_code|unemployment_rate|\n",
            "+------------+-----------------+\n",
            "|           4|             11.2|\n",
            "|           8|             12.8|\n",
            "|          12|             11.5|\n",
            "|          24|              6.8|\n",
            "|          32|             10.4|\n",
            "|          51|             16.6|\n",
            "|          36|              5.3|\n",
            "|          40|              4.8|\n",
            "|          31|              6.0|\n",
            "|          44|             11.3|\n",
            "|          48|              0.8|\n",
            "|          50|              4.2|\n",
            "|          52|             10.9|\n",
            "|         112|              4.6|\n",
            "|          56|              5.7|\n",
            "|          84|              6.4|\n",
            "|         204|              2.0|\n",
            "|          64|              2.4|\n",
            "|          68|              3.5|\n",
            "|          70|             18.4|\n",
            "+------------+-----------------+\n",
            "only showing top 20 rows\n",
            "\n"
          ]
        },
        {
          "output_type": "execute_result",
          "data": {
            "text/plain": [
              "[('country_code', 'int'), ('unemployment_rate', 'double')]"
            ]
          },
          "metadata": {},
          "execution_count": 228
        }
      ]
    },
    {
      "cell_type": "markdown",
      "source": [
        "## Load"
      ],
      "metadata": {
        "id": "8nd8C5T8wdGu"
      }
    },
    {
      "cell_type": "code",
      "source": [
        "# Write unemployment_rate_df to table in RDS\n",
        "unemployment_rate_df.write.jdbc(url=jdbc_url, table='unemployment_rate', mode=mode, properties=config)"
      ],
      "metadata": {
        "id": "QqLYSnIpGAoX"
      },
      "execution_count": 229,
      "outputs": []
    },
    {
      "cell_type": "markdown",
      "source": [
        "\n",
        "\n",
        "---\n",
        "\n"
      ],
      "metadata": {
        "id": "URq4TAvDU-TV"
      }
    },
    {
      "cell_type": "markdown",
      "source": [
        "# 12 - water_services_df"
      ],
      "metadata": {
        "id": "daiAhUP5U_BN"
      }
    },
    {
      "cell_type": "markdown",
      "source": [
        "## Extract"
      ],
      "metadata": {
        "id": "Ujnsrgf5wiVr"
      }
    },
    {
      "cell_type": "code",
      "source": [
        "# Read in Water Services data from S3 Bucket\n",
        "url = \"https://corti-gw-group-project.s3.amazonaws.com/Unprocessed+Data/UN_Water_Services_2020.csv\"\n",
        "spark.sparkContext.addFile(url)\n",
        "water_services_df = spark.read.csv(SparkFiles.get(\"UN_Water_Services_2020.csv\"), sep=\",\", header=True, inferSchema=True)"
      ],
      "metadata": {
        "id": "ddjbTaVKKFO7"
      },
      "execution_count": 230,
      "outputs": []
    },
    {
      "cell_type": "code",
      "source": [
        "water_services_df.show()\n",
        "water_services_df.dtypes"
      ],
      "metadata": {
        "id": "6YpZgE2dKQWp",
        "colab": {
          "base_uri": "https://localhost:8080/"
        },
        "outputId": "e9bfc8f9-aa9b-433a-9427-400e79193ea7"
      },
      "execution_count": 231,
      "outputs": [
        {
          "output_type": "stream",
          "name": "stdout",
          "text": [
            "+-------------------+--------------------+----+--------------------+-----+\n",
            "|Region/Country/Area|                 _c1|Year|              Series|Value|\n",
            "+-------------------+--------------------+----+--------------------+-----+\n",
            "|                  4|         Afghanistan|2020|Safely managed dr...| 27.6|\n",
            "|                  8|             Albania|2020|Safely managed dr...| 70.7|\n",
            "|                 12|             Algeria|2020|Safely managed dr...| 72.4|\n",
            "|                 16|      American Samoa|2020|Safely managed dr...| 98.4|\n",
            "|                 20|             Andorra|2020|Safely managed dr...| 90.6|\n",
            "|                 51|             Armenia|2020|Safely managed dr...| 86.9|\n",
            "|                 40|             Austria|2020|Safely managed dr...| 98.9|\n",
            "|                 31|          Azerbaijan|2020|Safely managed dr...| 88.3|\n",
            "|                 48|             Bahrain|2020|Safely managed dr...| 99.0|\n",
            "|                 50|          Bangladesh|2020|Safely managed dr...| 58.5|\n",
            "|                112|             Belarus|2020|Safely managed dr...| 94.6|\n",
            "|                 56|             Belgium|2020|Safely managed dr...| 99.9|\n",
            "|                 64|              Bhutan|2020|Safely managed dr...| 36.6|\n",
            "|                 70|Bosnia and Herzeg...|2020|Safely managed dr...| 88.9|\n",
            "|                 76|              Brazil|2020|Safely managed dr...| 85.8|\n",
            "|                100|            Bulgaria|2020|Safely managed dr...| 97.6|\n",
            "|                116|            Cambodia|2020|Safely managed dr...| 27.8|\n",
            "|                124|              Canada|2020|Safely managed dr...| 99.0|\n",
            "|                140|Central African R...|2020|Safely managed dr...|  6.2|\n",
            "|                148|                Chad|2020|Safely managed dr...|  5.6|\n",
            "+-------------------+--------------------+----+--------------------+-----+\n",
            "only showing top 20 rows\n",
            "\n"
          ]
        },
        {
          "output_type": "execute_result",
          "data": {
            "text/plain": [
              "[('Region/Country/Area', 'int'),\n",
              " ('_c1', 'string'),\n",
              " ('Year', 'int'),\n",
              " ('Series', 'string'),\n",
              " ('Value', 'double')]"
            ]
          },
          "metadata": {},
          "execution_count": 231
        }
      ]
    },
    {
      "cell_type": "code",
      "source": [
        "# Row and column count pre-cleaning\n",
        "print(water_services_df.count(), len(water_services_df.columns))"
      ],
      "metadata": {
        "id": "PaDugb97tq7u",
        "colab": {
          "base_uri": "https://localhost:8080/"
        },
        "outputId": "0e504398-ddee-4700-b137-396de7fa395d"
      },
      "execution_count": 232,
      "outputs": [
        {
          "output_type": "stream",
          "name": "stdout",
          "text": [
            "138 5\n"
          ]
        }
      ]
    },
    {
      "cell_type": "markdown",
      "source": [
        "## Transform"
      ],
      "metadata": {
        "id": "3dW_lBB_wj7U"
      }
    },
    {
      "cell_type": "code",
      "source": [
        "# Only include relevant columns in dataframe\n",
        "water_services_df = water_services_df.select([\"Region/Country/Area\", \"Value\"])"
      ],
      "metadata": {
        "id": "w-H99uy2tq4i"
      },
      "execution_count": 233,
      "outputs": []
    },
    {
      "cell_type": "code",
      "source": [
        "# Rename Columns\n",
        "water_services_df = water_services_df.withColumnRenamed(\"Region/Country/Area\", \"country_code\")\n",
        "water_services_df = water_services_df.withColumnRenamed(\"Value\", \"safe_drinking_water_access_pct\")"
      ],
      "metadata": {
        "id": "Erm1swcztq03"
      },
      "execution_count": 234,
      "outputs": []
    },
    {
      "cell_type": "code",
      "source": [
        "# Drop Nulls\n",
        "water_services_df = water_services_df.dropna()"
      ],
      "metadata": {
        "id": "8lzUtrR6tqxe"
      },
      "execution_count": 235,
      "outputs": []
    },
    {
      "cell_type": "code",
      "source": [
        "# Row and column count post-cleaning\n",
        "print(water_services_df.count(), len(water_services_df.columns))"
      ],
      "metadata": {
        "id": "3wESY2i5tquN",
        "colab": {
          "base_uri": "https://localhost:8080/"
        },
        "outputId": "419730d1-4c5e-4e55-fbf1-dfdc1572dbcd"
      },
      "execution_count": 236,
      "outputs": [
        {
          "output_type": "stream",
          "name": "stdout",
          "text": [
            "138 2\n"
          ]
        }
      ]
    },
    {
      "cell_type": "code",
      "source": [
        "water_services_df.show()\n",
        "water_services_df.dtypes"
      ],
      "metadata": {
        "id": "3NaOJhl5tqnD",
        "colab": {
          "base_uri": "https://localhost:8080/"
        },
        "outputId": "33c2377d-e0ce-45db-9c91-eedb4525295f"
      },
      "execution_count": 237,
      "outputs": [
        {
          "output_type": "stream",
          "name": "stdout",
          "text": [
            "+------------+------------------------------+\n",
            "|country_code|safe_drinking_water_access_pct|\n",
            "+------------+------------------------------+\n",
            "|           4|                          27.6|\n",
            "|           8|                          70.7|\n",
            "|          12|                          72.4|\n",
            "|          16|                          98.4|\n",
            "|          20|                          90.6|\n",
            "|          51|                          86.9|\n",
            "|          40|                          98.9|\n",
            "|          31|                          88.3|\n",
            "|          48|                          99.0|\n",
            "|          50|                          58.5|\n",
            "|         112|                          94.6|\n",
            "|          56|                          99.9|\n",
            "|          64|                          36.6|\n",
            "|          70|                          88.9|\n",
            "|          76|                          85.8|\n",
            "|         100|                          97.6|\n",
            "|         116|                          27.8|\n",
            "|         124|                          99.0|\n",
            "|         140|                           6.2|\n",
            "|         148|                           5.6|\n",
            "+------------+------------------------------+\n",
            "only showing top 20 rows\n",
            "\n"
          ]
        },
        {
          "output_type": "execute_result",
          "data": {
            "text/plain": [
              "[('country_code', 'int'), ('safe_drinking_water_access_pct', 'double')]"
            ]
          },
          "metadata": {},
          "execution_count": 237
        }
      ]
    },
    {
      "cell_type": "markdown",
      "source": [
        "## Load"
      ],
      "metadata": {
        "id": "w20YglX3wmOo"
      }
    },
    {
      "cell_type": "code",
      "source": [
        "# Write water_services_df to table in RDS\n",
        "water_services_df.write.jdbc(url=jdbc_url, table='safe_drinking_water', mode=mode, properties=config)"
      ],
      "metadata": {
        "id": "6ljvo7ydGOnm"
      },
      "execution_count": 238,
      "outputs": []
    }
  ]
}