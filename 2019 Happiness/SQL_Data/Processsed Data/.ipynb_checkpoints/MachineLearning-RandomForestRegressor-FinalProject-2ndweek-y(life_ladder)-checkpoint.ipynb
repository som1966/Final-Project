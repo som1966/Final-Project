{
 "cells": [
  {
   "cell_type": "code",
   "execution_count": 1,
   "id": "a7252ddd",
   "metadata": {},
   "outputs": [],
   "source": [
    "import warnings\n",
    "warnings.filterwarnings('ignore')\n",
    "import numpy as np\n",
    "import pandas as pd\n",
    "from pathlib import Path\n",
    "from collections import Counter\n"
   ]
  },
  {
   "cell_type": "code",
   "execution_count": 2,
   "id": "ce7dffdc",
   "metadata": {},
   "outputs": [
    {
     "data": {
      "text/html": [
       "<div>\n",
       "<style scoped>\n",
       "    .dataframe tbody tr th:only-of-type {\n",
       "        vertical-align: middle;\n",
       "    }\n",
       "\n",
       "    .dataframe tbody tr th {\n",
       "        vertical-align: top;\n",
       "    }\n",
       "\n",
       "    .dataframe thead th {\n",
       "        text-align: right;\n",
       "    }\n",
       "</style>\n",
       "<table border=\"1\" class=\"dataframe\">\n",
       "  <thead>\n",
       "    <tr style=\"text-align: right;\">\n",
       "      <th></th>\n",
       "      <th>country_code</th>\n",
       "      <th>country_name</th>\n",
       "      <th>democracy_index</th>\n",
       "      <th>consumer_price_index</th>\n",
       "      <th>gender_ratio_males_per100_female</th>\n",
       "      <th>infant_mortality_per1000_births</th>\n",
       "      <th>life_expectancy</th>\n",
       "      <th>per_capita_gdp_dollars</th>\n",
       "      <th>population_density</th>\n",
       "      <th>safe_drinking_water_access_pct</th>\n",
       "      <th>seats_held_by_women_pct</th>\n",
       "      <th>unemployment_rate</th>\n",
       "      <th>life_ladder</th>\n",
       "    </tr>\n",
       "  </thead>\n",
       "  <tbody>\n",
       "    <tr>\n",
       "      <th>0</th>\n",
       "      <td>8</td>\n",
       "      <td>Albania</td>\n",
       "      <td>58.9</td>\n",
       "      <td>119.1</td>\n",
       "      <td>103.7</td>\n",
       "      <td>8.0</td>\n",
       "      <td>78.4</td>\n",
       "      <td>$5,303.00</td>\n",
       "      <td>105.1</td>\n",
       "      <td>70.7</td>\n",
       "      <td>29.3</td>\n",
       "      <td>12.8</td>\n",
       "      <td>5.00</td>\n",
       "    </tr>\n",
       "    <tr>\n",
       "      <th>1</th>\n",
       "      <td>12</td>\n",
       "      <td>Algeria</td>\n",
       "      <td>40.1</td>\n",
       "      <td>151.4</td>\n",
       "      <td>102.1</td>\n",
       "      <td>21.2</td>\n",
       "      <td>76.6</td>\n",
       "      <td>$3,976.00</td>\n",
       "      <td>18.1</td>\n",
       "      <td>72.4</td>\n",
       "      <td>25.8</td>\n",
       "      <td>11.5</td>\n",
       "      <td>4.75</td>\n",
       "    </tr>\n",
       "    <tr>\n",
       "      <th>2</th>\n",
       "      <td>51</td>\n",
       "      <td>Armenia</td>\n",
       "      <td>55.4</td>\n",
       "      <td>129.2</td>\n",
       "      <td>88.8</td>\n",
       "      <td>10.8</td>\n",
       "      <td>74.9</td>\n",
       "      <td>$4,623.00</td>\n",
       "      <td>103.9</td>\n",
       "      <td>86.9</td>\n",
       "      <td>24.2</td>\n",
       "      <td>16.6</td>\n",
       "      <td>5.49</td>\n",
       "    </tr>\n",
       "    <tr>\n",
       "      <th>3</th>\n",
       "      <td>40</td>\n",
       "      <td>Austria</td>\n",
       "      <td>82.9</td>\n",
       "      <td>118.1</td>\n",
       "      <td>97.0</td>\n",
       "      <td>3.2</td>\n",
       "      <td>81.4</td>\n",
       "      <td>$49,701.00</td>\n",
       "      <td>108.7</td>\n",
       "      <td>98.9</td>\n",
       "      <td>37.2</td>\n",
       "      <td>4.8</td>\n",
       "      <td>7.20</td>\n",
       "    </tr>\n",
       "    <tr>\n",
       "      <th>4</th>\n",
       "      <td>31</td>\n",
       "      <td>Azerbaijan</td>\n",
       "      <td>27.5</td>\n",
       "      <td>156.9</td>\n",
       "      <td>99.7</td>\n",
       "      <td>20.8</td>\n",
       "      <td>72.8</td>\n",
       "      <td>$4,782.00</td>\n",
       "      <td>121.6</td>\n",
       "      <td>88.3</td>\n",
       "      <td>16.8</td>\n",
       "      <td>6.0</td>\n",
       "      <td>5.17</td>\n",
       "    </tr>\n",
       "  </tbody>\n",
       "</table>\n",
       "</div>"
      ],
      "text/plain": [
       "   country_code country_name  democracy_index  consumer_price_index  \\\n",
       "0             8      Albania             58.9                 119.1   \n",
       "1            12      Algeria             40.1                 151.4   \n",
       "2            51      Armenia             55.4                 129.2   \n",
       "3            40      Austria             82.9                 118.1   \n",
       "4            31   Azerbaijan             27.5                 156.9   \n",
       "\n",
       "   gender_ratio_males_per100_female  infant_mortality_per1000_births  \\\n",
       "0                             103.7                              8.0   \n",
       "1                             102.1                             21.2   \n",
       "2                              88.8                             10.8   \n",
       "3                              97.0                              3.2   \n",
       "4                              99.7                             20.8   \n",
       "\n",
       "   life_expectancy per_capita_gdp_dollars  population_density  \\\n",
       "0             78.4             $5,303.00                105.1   \n",
       "1             76.6             $3,976.00                 18.1   \n",
       "2             74.9             $4,623.00                103.9   \n",
       "3             81.4            $49,701.00                108.7   \n",
       "4             72.8             $4,782.00                121.6   \n",
       "\n",
       "   safe_drinking_water_access_pct  seats_held_by_women_pct  unemployment_rate  \\\n",
       "0                            70.7                     29.3               12.8   \n",
       "1                            72.4                     25.8               11.5   \n",
       "2                            86.9                     24.2               16.6   \n",
       "3                            98.9                     37.2                4.8   \n",
       "4                            88.3                     16.8                6.0   \n",
       "\n",
       "   life_ladder  \n",
       "0         5.00  \n",
       "1         4.75  \n",
       "2         5.49  \n",
       "3         7.20  \n",
       "4         5.17  "
      ]
     },
     "execution_count": 2,
     "metadata": {},
     "output_type": "execute_result"
    }
   ],
   "source": [
    "# Load the data\n",
    "file_path = Path('happiness_joined.csv')\n",
    "happiness_joined_df = pd.read_csv(file_path,encoding=\"ISO-8859-1\")#,index_col=0)\n",
    "# happiness_joined_df = df.loc[:, columns].copy()\n",
    "\n",
    "# df.reset_index(inplace=True, drop=True)\n",
    "\n",
    "happiness_joined_df.head()\n"
   ]
  },
  {
   "cell_type": "code",
   "execution_count": 3,
   "id": "afef0721",
   "metadata": {},
   "outputs": [
    {
     "data": {
      "text/html": [
       "<div>\n",
       "<style scoped>\n",
       "    .dataframe tbody tr th:only-of-type {\n",
       "        vertical-align: middle;\n",
       "    }\n",
       "\n",
       "    .dataframe tbody tr th {\n",
       "        vertical-align: top;\n",
       "    }\n",
       "\n",
       "    .dataframe thead th {\n",
       "        text-align: right;\n",
       "    }\n",
       "</style>\n",
       "<table border=\"1\" class=\"dataframe\">\n",
       "  <thead>\n",
       "    <tr style=\"text-align: right;\">\n",
       "      <th></th>\n",
       "      <th>country_code</th>\n",
       "      <th>country_name</th>\n",
       "      <th>democracy_index</th>\n",
       "      <th>consumer_price_index</th>\n",
       "      <th>gender_ratio_males_per100_female</th>\n",
       "      <th>infant_mortality_per1000_births</th>\n",
       "      <th>life_expectancy</th>\n",
       "      <th>per_capita_gdp_dollars</th>\n",
       "      <th>population_density</th>\n",
       "      <th>safe_drinking_water_access_pct</th>\n",
       "      <th>seats_held_by_women_pct</th>\n",
       "      <th>unemployment_rate</th>\n",
       "      <th>life_ladder</th>\n",
       "    </tr>\n",
       "  </thead>\n",
       "  <tbody>\n",
       "    <tr>\n",
       "      <th>0</th>\n",
       "      <td>8.0</td>\n",
       "      <td>Albania</td>\n",
       "      <td>58.9</td>\n",
       "      <td>119.1</td>\n",
       "      <td>103.7</td>\n",
       "      <td>8.0</td>\n",
       "      <td>78.4</td>\n",
       "      <td>5303.0</td>\n",
       "      <td>105.1</td>\n",
       "      <td>70.7</td>\n",
       "      <td>29.3</td>\n",
       "      <td>12.8</td>\n",
       "      <td>5.00</td>\n",
       "    </tr>\n",
       "    <tr>\n",
       "      <th>1</th>\n",
       "      <td>12.0</td>\n",
       "      <td>Algeria</td>\n",
       "      <td>40.1</td>\n",
       "      <td>151.4</td>\n",
       "      <td>102.1</td>\n",
       "      <td>21.2</td>\n",
       "      <td>76.6</td>\n",
       "      <td>3976.0</td>\n",
       "      <td>18.1</td>\n",
       "      <td>72.4</td>\n",
       "      <td>25.8</td>\n",
       "      <td>11.5</td>\n",
       "      <td>4.75</td>\n",
       "    </tr>\n",
       "    <tr>\n",
       "      <th>2</th>\n",
       "      <td>51.0</td>\n",
       "      <td>Armenia</td>\n",
       "      <td>55.4</td>\n",
       "      <td>129.2</td>\n",
       "      <td>88.8</td>\n",
       "      <td>10.8</td>\n",
       "      <td>74.9</td>\n",
       "      <td>4623.0</td>\n",
       "      <td>103.9</td>\n",
       "      <td>86.9</td>\n",
       "      <td>24.2</td>\n",
       "      <td>16.6</td>\n",
       "      <td>5.49</td>\n",
       "    </tr>\n",
       "    <tr>\n",
       "      <th>3</th>\n",
       "      <td>40.0</td>\n",
       "      <td>Austria</td>\n",
       "      <td>82.9</td>\n",
       "      <td>118.1</td>\n",
       "      <td>97.0</td>\n",
       "      <td>3.2</td>\n",
       "      <td>81.4</td>\n",
       "      <td>49701.0</td>\n",
       "      <td>108.7</td>\n",
       "      <td>98.9</td>\n",
       "      <td>37.2</td>\n",
       "      <td>4.8</td>\n",
       "      <td>7.20</td>\n",
       "    </tr>\n",
       "    <tr>\n",
       "      <th>4</th>\n",
       "      <td>31.0</td>\n",
       "      <td>Azerbaijan</td>\n",
       "      <td>27.5</td>\n",
       "      <td>156.9</td>\n",
       "      <td>99.7</td>\n",
       "      <td>20.8</td>\n",
       "      <td>72.8</td>\n",
       "      <td>4782.0</td>\n",
       "      <td>121.6</td>\n",
       "      <td>88.3</td>\n",
       "      <td>16.8</td>\n",
       "      <td>6.0</td>\n",
       "      <td>5.17</td>\n",
       "    </tr>\n",
       "  </tbody>\n",
       "</table>\n",
       "</div>"
      ],
      "text/plain": [
       "   country_code country_name  democracy_index  consumer_price_index  \\\n",
       "0           8.0      Albania             58.9                 119.1   \n",
       "1          12.0      Algeria             40.1                 151.4   \n",
       "2          51.0      Armenia             55.4                 129.2   \n",
       "3          40.0      Austria             82.9                 118.1   \n",
       "4          31.0   Azerbaijan             27.5                 156.9   \n",
       "\n",
       "   gender_ratio_males_per100_female  infant_mortality_per1000_births  \\\n",
       "0                             103.7                              8.0   \n",
       "1                             102.1                             21.2   \n",
       "2                              88.8                             10.8   \n",
       "3                              97.0                              3.2   \n",
       "4                              99.7                             20.8   \n",
       "\n",
       "   life_expectancy  per_capita_gdp_dollars  population_density  \\\n",
       "0             78.4                  5303.0               105.1   \n",
       "1             76.6                  3976.0                18.1   \n",
       "2             74.9                  4623.0               103.9   \n",
       "3             81.4                 49701.0               108.7   \n",
       "4             72.8                  4782.0               121.6   \n",
       "\n",
       "   safe_drinking_water_access_pct  seats_held_by_women_pct  unemployment_rate  \\\n",
       "0                            70.7                     29.3               12.8   \n",
       "1                            72.4                     25.8               11.5   \n",
       "2                            86.9                     24.2               16.6   \n",
       "3                            98.9                     37.2                4.8   \n",
       "4                            88.3                     16.8                6.0   \n",
       "\n",
       "   life_ladder  \n",
       "0         5.00  \n",
       "1         4.75  \n",
       "2         5.49  \n",
       "3         7.20  \n",
       "4         5.17  "
      ]
     },
     "execution_count": 3,
     "metadata": {},
     "output_type": "execute_result"
    }
   ],
   "source": [
    "happiness_joined_df[['country_code','democracy_index','consumer_price_index','gender_ratio_males_per100_female','infant_mortality_per1000_births','life_expectancy','per_capita_gdp_dollars','population_density','safe_drinking_water_access_pct','seats_held_by_women_pct','unemployment_rate']] = happiness_joined_df[['country_code','democracy_index','consumer_price_index','gender_ratio_males_per100_female','infant_mortality_per1000_births','life_expectancy','per_capita_gdp_dollars','population_density','safe_drinking_water_access_pct','seats_held_by_women_pct','unemployment_rate']].replace({'\\$': '', ',': ''}, regex=True).astype(float)\n",
    "#\n",
    "happiness_joined_df.head()\n",
    "# # REF: https://pbpython.com/currency-cleanup.html"
   ]
  },
  {
   "cell_type": "code",
   "execution_count": 4,
   "id": "2d29615b",
   "metadata": {},
   "outputs": [
    {
     "data": {
      "text/plain": [
       "country_code                        float64\n",
       "country_name                         object\n",
       "democracy_index                     float64\n",
       "consumer_price_index                float64\n",
       "gender_ratio_males_per100_female    float64\n",
       "infant_mortality_per1000_births     float64\n",
       "life_expectancy                     float64\n",
       "per_capita_gdp_dollars              float64\n",
       "population_density                  float64\n",
       "safe_drinking_water_access_pct      float64\n",
       "seats_held_by_women_pct             float64\n",
       "unemployment_rate                   float64\n",
       "life_ladder                         float64\n",
       "dtype: object"
      ]
     },
     "execution_count": 4,
     "metadata": {},
     "output_type": "execute_result"
    }
   ],
   "source": [
    "# data types\n",
    "happiness_joined_df.dtypes"
   ]
  },
  {
   "cell_type": "code",
   "execution_count": 5,
   "id": "02acbc76",
   "metadata": {},
   "outputs": [
    {
     "name": "stdout",
     "output_type": "stream",
     "text": [
      "Columncountry_code has 0 null values\n",
      "Columncountry_name has 0 null values\n",
      "Columndemocracy_index has 0 null values\n",
      "Columnconsumer_price_index has 0 null values\n",
      "Columngender_ratio_males_per100_female has 0 null values\n",
      "Columninfant_mortality_per1000_births has 0 null values\n",
      "Columnlife_expectancy has 0 null values\n",
      "Columnper_capita_gdp_dollars has 0 null values\n",
      "Columnpopulation_density has 0 null values\n",
      "Columnsafe_drinking_water_access_pct has 0 null values\n",
      "Columnseats_held_by_women_pct has 0 null values\n",
      "Columnunemployment_rate has 0 null values\n",
      "Columnlife_ladder has 0 null values\n"
     ]
    }
   ],
   "source": [
    "# What data is missing?\n",
    "# find null values\n",
    "for column in happiness_joined_df.columns:\n",
    "    print(f\"Column{column} has {happiness_joined_df[column].isnull().sum()} null values\")"
   ]
  },
  {
   "cell_type": "code",
   "execution_count": 6,
   "id": "d35828d9",
   "metadata": {},
   "outputs": [
    {
     "name": "stdout",
     "output_type": "stream",
     "text": [
      "Columncountry_code has 91 uniques values\n",
      "Columncountry_name has 91 uniques values\n",
      "Columndemocracy_index has 83 uniques values\n",
      "Columnconsumer_price_index has 89 uniques values\n",
      "Columngender_ratio_males_per100_female has 68 uniques values\n",
      "Columninfant_mortality_per1000_births has 75 uniques values\n",
      "Columnlife_expectancy has 73 uniques values\n",
      "Columnper_capita_gdp_dollars has 91 uniques values\n",
      "Columnpopulation_density has 89 uniques values\n",
      "Columnsafe_drinking_water_access_pct has 73 uniques values\n",
      "Columnseats_held_by_women_pct has 80 uniques values\n",
      "Columnunemployment_rate has 66 uniques values\n",
      "Columnlife_ladder has 81 uniques values\n"
     ]
    }
   ],
   "source": [
    "# What data is missing?\n",
    "# find null values\n",
    "for column in happiness_joined_df.columns:\n",
    "    print(f\"Column{column} has {happiness_joined_df[column].nunique()} uniques values\")"
   ]
  },
  {
   "cell_type": "code",
   "execution_count": 7,
   "id": "e120981d",
   "metadata": {},
   "outputs": [
    {
     "name": "stdout",
     "output_type": "stream",
     "text": [
      "Duplicate entries: 0\n"
     ]
    }
   ],
   "source": [
    "# to check for duplicates\n",
    "print(f\"Duplicate entries: {happiness_joined_df.duplicated().sum()}\")"
   ]
  },
  {
   "cell_type": "markdown",
   "id": "35a7b110",
   "metadata": {},
   "source": [
    "## Splitting the Dataset into the Independent Feature Matrix:"
   ]
  },
  {
   "cell_type": "code",
   "execution_count": 8,
   "id": "2c39a1f4",
   "metadata": {
    "scrolled": true
   },
   "outputs": [
    {
     "data": {
      "text/plain": [
       "['country_code',\n",
       " 'country_name',\n",
       " 'democracy_index',\n",
       " 'consumer_price_index',\n",
       " 'gender_ratio_males_per100_female',\n",
       " 'infant_mortality_per1000_births',\n",
       " 'life_expectancy',\n",
       " 'per_capita_gdp_dollars',\n",
       " 'population_density',\n",
       " 'safe_drinking_water_access_pct',\n",
       " 'seats_held_by_women_pct',\n",
       " 'unemployment_rate',\n",
       " 'life_ladder']"
      ]
     },
     "execution_count": 8,
     "metadata": {},
     "output_type": "execute_result"
    }
   ],
   "source": [
    "happiness_joined_df.columns.values.tolist()"
   ]
  },
  {
   "cell_type": "code",
   "execution_count": 9,
   "id": "4194e2c1",
   "metadata": {},
   "outputs": [
    {
     "name": "stdout",
     "output_type": "stream",
     "text": [
      "(91, 13)\n"
     ]
    }
   ],
   "source": [
    "print(happiness_joined_df.shape)"
   ]
  },
  {
   "cell_type": "markdown",
   "id": "0f49b942",
   "metadata": {},
   "source": [
    "## Modeling--Random Forest Regressor"
   ]
  },
  {
   "cell_type": "code",
   "execution_count": 10,
   "id": "6ebdf2b4",
   "metadata": {},
   "outputs": [],
   "source": [
    "# select features \n",
    "#X = happiness_joined_df[['democracy_index','consumer_price_index','gender_ratio_males_per100_female','infant_mortality_per1000_births','life_expectancy','per_capita_gdp_dollars','population_density','safe_drinking_water_access_pct','seats_held_by_women_pct','unemployment_rate']]\n",
    "#y = happiness_joined_df[\"life_ladder\"]\n",
    "# ref: https://www.pluralsight.com/guides/importing-and-splitting-data-into-dependent-and-independent-features-for-ml\n",
    "# ref: https://towardsdatascience.com/multiple-regression-as-a-machine-learning-algorithm-a98a6b9f307b\n",
    "\n",
    "\n",
    "target = \"life_ladder\"\n",
    "features = happiness_joined_df.columns.drop([target,\"country_code\",\"country_name\",\"gender_ratio_males_per100_female\",\"unemployment_rate\"])\n",
    "X = happiness_joined_df[features]\n",
    "y = happiness_joined_df[target]"
   ]
  },
  {
   "cell_type": "code",
   "execution_count": 11,
   "id": "118fd870",
   "metadata": {},
   "outputs": [],
   "source": [
    "# Normal train-test split\n",
    "from sklearn.model_selection import train_test_split\n",
    "X_train, X_test, y_train, y_test = train_test_split(X, y, random_state=1)"
   ]
  },
  {
   "cell_type": "code",
   "execution_count": 12,
   "id": "b28d2913",
   "metadata": {},
   "outputs": [],
   "source": [
    "# Resample the training data with the BalancedRandomForestRegression\n",
    "\n",
    "from sklearn.ensemble import RandomForestRegressor\n",
    "rf_model = RandomForestRegressor(n_estimators=100, random_state=78) \n",
    "\n",
    "# instantiate model\n",
    "model = RandomForestRegressor()\n",
    "# ref: https://machinelearningmastery.com/random-forest-ensemble-in-python/\n",
    "# fit model\n",
    "model.fit(X, y)\n",
    "\n",
    "# fit\n",
    "model.fit(X_train, y_train)\n",
    "# predict\n",
    "y_pred = model.predict(X_test)"
   ]
  },
  {
   "cell_type": "code",
   "execution_count": 13,
   "id": "3aa193d7",
   "metadata": {},
   "outputs": [],
   "source": [
    "from sklearn.preprocessing import StandardScaler\n",
    "# 3) Creating a StandardScaler instance.\n",
    "scaler = StandardScaler()\n",
    "# Fitting the Standard Scaler with the training data.\n",
    "X_scaler = scaler.fit(X_train)\n",
    "\n",
    "# 4) Scaling the data.\n",
    "X_train_scaled = X_scaler.transform(X_train)\n",
    "X_test_scaled = X_scaler.transform(X_test)"
   ]
  },
  {
   "cell_type": "code",
   "execution_count": 14,
   "id": "cb5a8986",
   "metadata": {},
   "outputs": [],
   "source": [
    "# Fitting the model\n",
    "rf_model = rf_model.fit(X_train_scaled, y_train)"
   ]
  },
  {
   "cell_type": "code",
   "execution_count": 15,
   "id": "e1cead55",
   "metadata": {},
   "outputs": [
    {
     "data": {
      "text/plain": [
       "array([0.0408952 , 0.01282542, 0.40197476, 0.34756667, 0.00641791,\n",
       "       0.11626496, 0.01819758, 0.0558575 ])"
      ]
     },
     "execution_count": 15,
     "metadata": {},
     "output_type": "execute_result"
    }
   ],
   "source": [
    "# Calculate feature importance in the Random Forest model.\n",
    "importances = rf_model.feature_importances_\n",
    "importances"
   ]
  },
  {
   "cell_type": "code",
   "execution_count": 16,
   "id": "37525ea1",
   "metadata": {},
   "outputs": [
    {
     "name": "stdout",
     "output_type": "stream",
     "text": [
      "(68, 8)\n",
      "(23, 8)\n",
      "(68,)\n",
      "(23,)\n"
     ]
    }
   ],
   "source": [
    "print(X_train.shape)\n",
    "print(X_test.shape)\n",
    "print(y_train.shape)\n",
    "print(y_test.shape)\n",
    "# i have something wrong with the shape stuff "
   ]
  },
  {
   "cell_type": "code",
   "execution_count": 17,
   "id": "594a21ed",
   "metadata": {},
   "outputs": [
    {
     "data": {
      "text/plain": [
       "0     78.4\n",
       "1     76.6\n",
       "2     74.9\n",
       "3     81.4\n",
       "4     72.8\n",
       "      ... \n",
       "86    62.8\n",
       "87    71.8\n",
       "88    81.2\n",
       "89    78.8\n",
       "90    71.5\n",
       "Name: life_expectancy, Length: 91, dtype: float64"
      ]
     },
     "execution_count": 17,
     "metadata": {},
     "output_type": "execute_result"
    }
   ],
   "source": [
    "# Use get_dummies() to create variables for text features.\n",
    "# YOUR CODE HERE\n",
    "# X = happiness_joined_df.copy()\n",
    "# X = pd.get_dummies(X, columns = [\"Algorithm\", \"ProofType\"])\n",
    "# X\n",
    "y"
   ]
  },
  {
   "cell_type": "code",
   "execution_count": 18,
   "id": "c6b04b06",
   "metadata": {},
   "outputs": [
    {
     "name": "stdout",
     "output_type": "stream",
     "text": [
      "4.195989960715665e-16\n",
      "-0.3231427339702866\n",
      "1.0\n",
      "0.9622616262978819\n"
     ]
    }
   ],
   "source": [
    "print(np.mean(X_train_scaled[:,0]))\n",
    "print(np.mean(X_test_scaled[:,0]))\n",
    "print(np.std(X_train_scaled[:,0]))\n",
    "print(np.std(X_test_scaled[:,0]))"
   ]
  },
  {
   "cell_type": "code",
   "execution_count": 19,
   "id": "83cfa717",
   "metadata": {},
   "outputs": [
    {
     "data": {
      "text/plain": [
       "[(0.40197476214519645, 'infant_mortality_per1000_births'),\n",
       " (0.347566665187642, 'per_capita_gdp_dollars'),\n",
       " (0.11626496171632582, 'safe_drinking_water_access_pct'),\n",
       " (0.0558575049928439, 'life_ladder'),\n",
       " (0.04089519540224336, 'democracy_index'),\n",
       " (0.018197579260822327, 'seats_held_by_women_pct'),\n",
       " (0.012825421226542098, 'consumer_price_index'),\n",
       " (0.006417910068383911, 'population_density')]"
      ]
     },
     "execution_count": 19,
     "metadata": {},
     "output_type": "execute_result"
    }
   ],
   "source": [
    "# We can sort the features by their importance.\n",
    "sorted(zip(rf_model.feature_importances_, X.columns), reverse=True)\n",
    "# drop two columns that has r value lesser to improve the r value ---> not good deciion, lesser R^2 val\n",
    "# life ladder y-dependent value change to life expectancy and see. ---> R^2 value increased to 0.854!!!\n",
    "# marc "
   ]
  },
  {
   "cell_type": "code",
   "execution_count": 20,
   "id": "daea35c7",
   "metadata": {},
   "outputs": [
    {
     "name": "stdout",
     "output_type": "stream",
     "text": [
      "0.8566473524222993\n"
     ]
    }
   ],
   "source": [
    "# model evaluation\n",
    "# ref: https://towardsdatascience.com/multiple-regression-as-a-machine-learning-algorithm-a98a6b9f307b\n",
    "from sklearn.metrics import r2_score\n",
    "score = r2_score(y_test, y_pred)\n",
    "print(score)\n",
    "# this is R^2 value!!!!\n",
    "#get more data\n",
    "# get more data\n",
    "# get more models"
   ]
  },
  {
   "cell_type": "code",
   "execution_count": 21,
   "id": "4fa92687",
   "metadata": {
    "scrolled": true
   },
   "outputs": [
    {
     "data": {
      "text/html": [
       "<div>\n",
       "<style scoped>\n",
       "    .dataframe tbody tr th:only-of-type {\n",
       "        vertical-align: middle;\n",
       "    }\n",
       "\n",
       "    .dataframe tbody tr th {\n",
       "        vertical-align: top;\n",
       "    }\n",
       "\n",
       "    .dataframe thead th {\n",
       "        text-align: right;\n",
       "    }\n",
       "</style>\n",
       "<table border=\"1\" class=\"dataframe\">\n",
       "  <thead>\n",
       "    <tr style=\"text-align: right;\">\n",
       "      <th></th>\n",
       "      <th>Prediction</th>\n",
       "      <th>Actual</th>\n",
       "    </tr>\n",
       "  </thead>\n",
       "  <tbody>\n",
       "    <tr>\n",
       "      <th>0</th>\n",
       "      <td>82.200</td>\n",
       "      <td>82.1</td>\n",
       "    </tr>\n",
       "    <tr>\n",
       "      <th>1</th>\n",
       "      <td>81.408</td>\n",
       "      <td>81.2</td>\n",
       "    </tr>\n",
       "    <tr>\n",
       "      <th>2</th>\n",
       "      <td>65.873</td>\n",
       "      <td>67.4</td>\n",
       "    </tr>\n",
       "    <tr>\n",
       "      <th>3</th>\n",
       "      <td>71.641</td>\n",
       "      <td>76.3</td>\n",
       "    </tr>\n",
       "    <tr>\n",
       "      <th>4</th>\n",
       "      <td>75.132</td>\n",
       "      <td>72.3</td>\n",
       "    </tr>\n",
       "  </tbody>\n",
       "</table>\n",
       "</div>"
      ],
      "text/plain": [
       "   Prediction  Actual\n",
       "0      82.200    82.1\n",
       "1      81.408    81.2\n",
       "2      65.873    67.4\n",
       "3      71.641    76.3\n",
       "4      75.132    72.3"
      ]
     },
     "execution_count": 21,
     "metadata": {},
     "output_type": "execute_result"
    }
   ],
   "source": [
    "# Make predictions using the test data\n",
    "y_pred = model.predict(X_test)\n",
    "results = pd.DataFrame({\n",
    "    \"Prediction\": y_pred, \n",
    "    \"Actual\": y_test\n",
    "}).reset_index(drop=True)\n",
    "results.head()"
   ]
  },
  {
   "cell_type": "code",
   "execution_count": null,
   "id": "c652b2a4",
   "metadata": {},
   "outputs": [],
   "source": []
  },
  {
   "cell_type": "code",
   "execution_count": null,
   "id": "5fb67562",
   "metadata": {},
   "outputs": [],
   "source": []
  },
  {
   "cell_type": "code",
   "execution_count": null,
   "id": "025dca1d",
   "metadata": {},
   "outputs": [],
   "source": []
  },
  {
   "cell_type": "code",
   "execution_count": null,
   "id": "41089529",
   "metadata": {},
   "outputs": [],
   "source": []
  }
 ],
 "metadata": {
  "kernelspec": {
   "display_name": "mlenv",
   "language": "python",
   "name": "mlenv"
  },
  "language_info": {
   "codemirror_mode": {
    "name": "ipython",
    "version": 3
   },
   "file_extension": ".py",
   "mimetype": "text/x-python",
   "name": "python",
   "nbconvert_exporter": "python",
   "pygments_lexer": "ipython3",
   "version": "3.7.11"
  }
 },
 "nbformat": 4,
 "nbformat_minor": 5
}
